{
 "cells": [
  {
   "cell_type": "markdown",
   "id": "0c451dce",
   "metadata": {},
   "source": [
    "Pages in the ESA Data Ontology appear to be fully wrpping the Unified Astronomy Thesaurus\n",
    "\n",
    "E.g., https://data.esa.int/esado/en/page/?uri=http://astrothesaurus.org/uat/5\n",
    "has a link a the bottom to download JSON-LD that seems to forward to UAT's API\n",
    "https://data.esa.int/rest/v1/esado/data?uri=http%3A%2F%2Fastrothesaurus.org%2Fuat%2F5&format=application/ld%2Bjson"
   ]
  },
  {
   "cell_type": "code",
   "execution_count": 1,
   "id": "6a3c28f0",
   "metadata": {},
   "outputs": [],
   "source": [
    "import requests\n",
    "url = \"https://github.com/astrothesaurus/UAT/raw/master/UAT.json\"\n",
    "\n",
    "data = requests.get(url).json()"
   ]
  },
  {
   "cell_type": "code",
   "execution_count": 2,
   "id": "b82c1996",
   "metadata": {},
   "outputs": [],
   "source": [
    "from pyobo import Term, Reference, Obo\n",
    "\n",
    "terms = {}\n",
    "\n",
    "def make_term(d, parent: None | Term = None):\n",
    "    identifier = d[\"uri\"].removeprefix(\"http://astrothesaurus.org/uat/\")\n",
    "    if identifier in terms:\n",
    "        term = terms[identifier]\n",
    "    else:\n",
    "        terms[identifier] = term = Term.from_triple(\n",
    "            prefix=\"uat\",\n",
    "            identifier=identifier,\n",
    "            name=d.get(\"name\"),\n",
    "            definition=d.get(\"definition\"),\n",
    "        )\n",
    "        for synonym in d.get(\"altLabels\") or []:\n",
    "            term.append_synonym(synonym)\n",
    "        for related in d.get(\"related\") or []:\n",
    "            term.append_see_also(Reference(\n",
    "                prefix=\"uat\",\n",
    "                identifier=related[\"uri\"].removeprefix(\"http://astrothesaurus.org/uat/\"),\n",
    "                name=related.get(\"name\"),\n",
    "            ))\n",
    "\n",
    "    if parent is not None:\n",
    "        term.append_parent(parent)\n",
    "\n",
    "    # Additional data\n",
    "    change_notes = d.get(\"changeNotes\")\n",
    "    examples = d.get(\"examples\")  # examples of instances\n",
    "    scope_notes = d.get(\"scopeNotes\")\n",
    "    editorial_notes = d.get(\"editorialNotes\")\n",
    "    \n",
    "    unhandled = set(d) - {\"name\", \"definition\", \"altLabels\", \"related\", \"changeNotes\",\n",
    "                         \"scopeNotes\", \"editorialNotes\", \"children\", \"uri\", \"examples\",\n",
    "                         }\n",
    "    if unhandled:\n",
    "        raise ValueError(f\"missed keys: {unhandled}\")\n",
    "    \n",
    "    for child in d.get(\"children\", []):\n",
    "        make_term(child, parent=term)\n",
    "    \n",
    "for c in data[\"children\"]:\n",
    "    #print(c)\n",
    "    make_term(c)"
   ]
  },
  {
   "cell_type": "code",
   "execution_count": 18,
   "id": "ae1f4373",
   "metadata": {},
   "outputs": [],
   "source": [
    "def func(ont, term):\n",
    "    return int(term.curie.removeprefix(\"uat:\"))\n",
    "\n",
    "class UAT(Obo):\n",
    "    name= \"Unified Astronomy Thesaurus\"\n",
    "    ontology = \"uat\"\n",
    "    static_version = \"5.0\"\n",
    "    check_bioregistry_prefix = False\n",
    "    term_sort_key = func\n",
    "    def iter_terms(self, force: bool = False):\n",
    "        return terms.values()"
   ]
  },
  {
   "cell_type": "code",
   "execution_count": 19,
   "id": "365a84bb",
   "metadata": {},
   "outputs": [],
   "source": [
    "obo = UAT()"
   ]
  },
  {
   "cell_type": "code",
   "execution_count": 20,
   "id": "320ee863",
   "metadata": {},
   "outputs": [],
   "source": [
    "obo.write_obo(\"uat.obo\")"
   ]
  },
  {
   "cell_type": "code",
   "execution_count": null,
   "id": "23c0c87b",
   "metadata": {},
   "outputs": [],
   "source": [
    "!robot convert --input uat.obo --output uat.owl"
   ]
  }
 ],
 "metadata": {
  "kernelspec": {
   "display_name": "Python 3 (ipykernel)",
   "language": "python",
   "name": "python3"
  },
  "language_info": {
   "codemirror_mode": {
    "name": "ipython",
    "version": 3
   },
   "file_extension": ".py",
   "mimetype": "text/x-python",
   "name": "python",
   "nbconvert_exporter": "python",
   "pygments_lexer": "ipython3",
   "version": "3.11.0"
  }
 },
 "nbformat": 4,
 "nbformat_minor": 5
}
