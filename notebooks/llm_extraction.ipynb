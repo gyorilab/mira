{
 "cells": [
  {
   "cell_type": "code",
   "execution_count": 1,
   "id": "59373727",
   "metadata": {},
   "outputs": [],
   "source": [
    "import pandas as pd\n",
    "from pathlib import Path\n",
    "import re\n",
    "import sympy\n",
    "from datetime import datetime\n",
    "import os"
   ]
  },
  {
   "cell_type": "code",
   "execution_count": 2,
   "id": "bcc0440d",
   "metadata": {},
   "outputs": [],
   "source": [
    "# Helper function: str to sympy\n",
    "def string_to_sympy_odes(ode_string):\n",
    "    \"\"\"Convert string representation of ODEs to actual SymPy objects - works with ANY symbols.\"\"\"\n",
    "\n",
    "    # Extract the code between 'odes = [' and ']'\n",
    "    match = re.search(r'odes\\s*=\\s*\\[(.*?)\\]', ode_string, re.DOTALL)\n",
    "    if not match:\n",
    "        raise ValueError(\"Could not find 'odes = [...]' pattern\")\n",
    "    \n",
    "    content = match.group(1)\n",
    "    \n",
    "    # Find all unique symbols in the string\n",
    "    # Functions: anything followed by (t)\n",
    "    function_names = set(re.findall(r'(\\w+)(?=\\(t\\))', content))\n",
    "    \n",
    "    # Parameters: all other word tokens that aren't Python/SymPy keywords\n",
    "    all_tokens = set(re.findall(r'\\b[a-zA-Z_]\\w*\\b', content))\n",
    "    keywords = {'sympy', 'Eq', 'diff', 't', 'import', 'def', 'class', 'None', 'True', 'False'}\n",
    "    parameter_names = all_tokens - function_names - keywords\n",
    "    \n",
    "    # Build namespace\n",
    "    namespace = {\n",
    "        'sympy': sympy,\n",
    "        'Eq': sympy.Eq,\n",
    "        't': sympy.Symbol('t')\n",
    "    }\n",
    "    \n",
    "    # Create all functions\n",
    "    for fname in function_names:\n",
    "        namespace[fname] = sympy.Function(fname)\n",
    "    \n",
    "    # Create all parameters\n",
    "    for pname in parameter_names:\n",
    "        namespace[pname] = sympy.Symbol(pname)\n",
    "    \n",
    "    code = f\"odes = [{content}]\"\n",
    "    exec(code, namespace)\n",
    "    \n",
    "    return namespace['odes']"
   ]
  },
  {
   "cell_type": "code",
   "execution_count": 3,
   "id": "12746a44",
   "metadata": {},
   "outputs": [],
   "source": [
    "# Helper function: function notation with (t) \n",
    "\n",
    "def convert_to_function_notation(equations):\n",
    "    \"\"\"Convert Derivative(S, t) to Derivative(S(t), t) in equations\"\"\"\n",
    "    t = sympy.Symbol('t')\n",
    "\n",
    "    result = []\n",
    "    for eq in equations:\n",
    "        # Fix the left-hand side\n",
    "        if isinstance(eq.lhs, sympy.Derivative):\n",
    "            var = eq.lhs.args[0]  # This is S, E, etc.\n",
    "            if isinstance(var, sympy.Symbol):\n",
    "                func_name = str(var)\n",
    "                func = sympy.Function(func_name)\n",
    "                new_lhs = sympy.Derivative(func(t), t)\n",
    "            else:\n",
    "                new_lhs = eq.lhs\n",
    "        else:\n",
    "            new_lhs = eq.lhs\n",
    "        \n",
    "        # Fix the right-hand side\n",
    "        state_vars = ['S', 'E', 'I', 'P', 'A', 'H', 'R', 'F']\n",
    "        subs_dict = {}\n",
    "        for var_name in state_vars:\n",
    "            var = sympy.Symbol(var_name)\n",
    "            if var in eq.rhs.free_symbols:\n",
    "                func = sympy.Function(var_name)\n",
    "                subs_dict[var] = func(t)\n",
    "        \n",
    "        new_rhs = eq.rhs.subs(subs_dict)\n",
    "        result.append(sympy.Eq(new_lhs, new_rhs))\n",
    "    \n",
    "    return result"
   ]
  },
  {
   "cell_type": "code",
   "execution_count": 4,
   "id": "180715c2",
   "metadata": {},
   "outputs": [],
   "source": [
    "# Helper function: sort equations by LHS\n",
    "\n",
    "def sort_equations_by_lhs(equations):\n",
    "    \"\"\"Sort equations by the variable letter in the LHS derivative\"\"\"\n",
    "    import re\n",
    "    \n",
    "    def get_lhs_variable(eq):\n",
    "        lhs_str = str(eq.lhs)\n",
    "        # Handle Derivative(S(t), t) or Derivative(S, t) format\n",
    "        match = re.search(r'Derivative\\(([A-Z])(?:\\(t\\))?,', lhs_str)\n",
    "        if match:\n",
    "            return match.group(1)\n",
    "        # Fallback: look for any single letter variable\n",
    "        match = re.search(r'([AEFHIPRS])', lhs_str)\n",
    "        if match:\n",
    "            return match.group(1)\n",
    "        return 'Z'\n",
    "    \n",
    "    return sorted(equations, key=get_lhs_variable)"
   ]
  },
  {
   "cell_type": "markdown",
   "id": "820f100a",
   "metadata": {},
   "source": [
    "#### AI setup"
   ]
  },
  {
   "cell_type": "code",
   "execution_count": 5,
   "id": "2141c5a5",
   "metadata": {},
   "outputs": [
    {
     "name": "stdout",
     "output_type": "stream",
     "text": [
      "API key is set\n"
     ]
    }
   ],
   "source": [
    "# check API key\n",
    "import os\n",
    "\n",
    "api_key = os.environ.get(\"OPENAI_API_KEY\")\n",
    "if api_key:\n",
    "    print(\"API key is set\")\n",
    "else:\n",
    "    print(\"API key not found in environment variables\")"
   ]
  },
  {
   "cell_type": "code",
   "execution_count": 6,
   "id": "c28d24a0-175a-45cd-8d17-34d028820d56",
   "metadata": {},
   "outputs": [],
   "source": [
    "from mira.openai import OpenAIClient\n",
    "from mira.sources.sympy_ode.llm_util import execute_template_model_from_sympy_odes, image_file_to_odes_str\n",
    "client = OpenAIClient()"
   ]
  },
  {
   "cell_type": "markdown",
   "id": "633ac948",
   "metadata": {},
   "source": [
    "#### Extraction: image -> str"
   ]
  },
  {
   "cell_type": "code",
   "execution_count": 101,
   "id": "6069445b-a504-4b88-8468-e8a172609000",
   "metadata": {},
   "outputs": [
    {
     "data": {
      "image/png": "[encoded data removed]",
      "text/plain": [
       "<IPython.core.display.Image object>"
      ]
     },
     "execution_count": 101,
     "metadata": {},
     "output_type": "execute_result"
    }
   ],
   "source": [
    "# Extract ODEs from image\n",
    "\n",
    "biomodel_name = \"2024_dec_epi_1_model_B\"\n",
    "\n",
    "from IPython.display import Image\n",
    "image_path = f'images/{biomodel_name}.png'\n",
    "Image(image_path)"
   ]
  },
  {
   "cell_type": "code",
   "execution_count": 102,
   "id": "9f49b183-d6fe-4489-9008-04db2c0d8ede",
   "metadata": {},
   "outputs": [
    {
     "name": "stderr",
     "output_type": "stream",
     "text": [
      "INFO: [2025-09-08 15:04:17] httpx - HTTP Request: POST https://api.openai.com/v1/chat/completions \"HTTP/1.1 200 OK\"\n"
     ]
    },
    {
     "name": "stdout",
     "output_type": "stream",
     "text": [
      "import sympy\n",
      "\n",
      "# Define time variable\n",
      "t = sympy.symbols(\"t\")\n",
      "\n",
      "# Define the time-dependent variables\n",
      "Sh, Eh, Ih, Qh, Rh, St, It, Et, Rt = sympy.symbols(\"Sh Eh Ih Qh Rh St It Et Rt\", cls=sympy.Function)\n",
      "\n",
      "# Define the parameters\n",
      "alpha_1, alpha_2, alpha_3, beta_1, beta_2, mu_h, mu_t, phi, gamma_h = sympy.symbols(\"alpha_1 alpha_2 alpha_3 beta_1 beta_2 mu_h mu_t phi gamma_h\")\n",
      "N_h, N_t = sympy.symbols(\"N_h N_t\")\n",
      "\n",
      "odes = [\n",
      "    sympy.Eq(Sh(t).diff(t), (beta_1 * It(t) + beta_2 * Ih(t)) / N_h - mu_h * Sh(t) + phi * Qh(t)),\n",
      "    sympy.Eq(Eh(t).diff(t), (alpha_1 * (It(t) + beta_1 * Ih(t)) / N_h) - (alpha_1 + alpha_2 + mu_h) * Eh(t)),\n",
      "    sympy.Eq(Ih(t).diff(t), alpha_2 * Eh(t) - (phi + gamma_h + mu_h) * Qh(t)),\n",
      "    sympy.Eq(Qh(t).diff(t), gamma_h * Rh(t) - mu_h * Qh(t)),\n",
      "    sympy.Eq(St(t).diff(t), - beta_2 * St(t) * It(t) / N_t + mu_t * St(t)),\n",
      "    sympy.Eq(Et(t).diff(t), (beta_2 * St(t) * It(t)) / N_t - (mu_t + alpha_3) * Et(t)),\n",
      "    sympy.Eq(Ih(t).diff(t), alpha_3 * Et(t) - mu_t * It(t)),\n",
      "    sympy.Eq(Rt(t).diff(t), alpha_3 * Et(t) - mu_t * Rt(t))\n",
      "]\n"
     ]
    }
   ],
   "source": [
    "ode_str = image_file_to_odes_str(image_path, client=client)\n",
    "print(ode_str)\n",
    "# Note that the LLM sometimes misses to define one of the parameters. When this happens, a human-in-the-loop can quickly edit the output"
   ]
  },
  {
   "cell_type": "markdown",
   "id": "187680cf",
   "metadata": {},
   "source": [
    "#### Corrected ODES, Corrected Concepts and Template Model from ode_str"
   ]
  },
  {
   "cell_type": "code",
   "execution_count": 103,
   "id": "2883601f-f85d-4c6f-8018-0ee2ca34c3c6",
   "metadata": {},
   "outputs": [
    {
     "name": "stderr",
     "output_type": "stream",
     "text": [
      "INFO: [2025-09-08 15:04:22] httpx - HTTP Request: POST https://api.openai.com/v1/chat/completions \"HTTP/1.1 200 OK\"\n"
     ]
    },
    {
     "name": "stdout",
     "output_type": "stream",
     "text": [
      "Running multi-agent validation...\n"
     ]
    },
    {
     "name": "stderr",
     "output_type": "stream",
     "text": [
      "INFO: [2025-09-08 15:04:39] httpx - HTTP Request: POST https://api.openai.com/v1/chat/completions \"HTTP/1.1 200 OK\"\n"
     ]
    },
    {
     "name": "stdout",
     "output_type": "stream",
     "text": [
      "Iteration 1: Found errors: {'execution_errors': [\"TypeError: 'Symbol' object is not callable - Ih, It, and others need to be defined as Functions instead of Symbols\"], 'parameter_errors': [], 'time_dependency_errors': [], 'concept_errors': ['Ih, It, Rt need to be defined as sympy.Functions in the code.']}\n",
      "Response keys: dict_keys(['has_errors', 'errors', 'auto_fixes_applied', 'corrected_code', 'corrected_concepts', 'confidence', 'manual_review_needed'])\n",
      "corrected_code exists\n",
      "corrected_code field exists, length: 1035\n",
      "Type of corrected_concepts from JSON: <class 'dict'>\n",
      "Content: {'Sh': {'identifiers': {'ido': '0000514'}, 'context': {'severity': 'high', 'species': 'ncbitaxon:9606'}}, 'Eh': {'identifiers': {'apollosv': '00000154'}, 'context': {'species': 'ncbitaxon:9606'}}, 'Ih': {'identifiers': {'ido': '0000511'}, 'context': {'stage': 'symptomatic', 'species': 'ncbitaxon:9606'}}, 'Qh': {'identifiers': {'ido': '0000592'}, 'context': {'hospitalization': 'ncit:C25179', 'species': 'ncbitaxon:9606'}}, 'St': {'identifiers': {'ido': '0000514'}, 'context': {'species': 'ncbitaxon:9989'}}, 'Et': {'identifiers': {'apollosv': '00000154'}, 'context': {'species': 'ncbitaxon:9989'}}, 'It': {'identifiers': {'ido': '0000511'}, 'context': {'species': 'ncbitaxon:9989'}}, 'Rt': {'identifiers': {'ido': '0000592'}, 'context': {'species': 'ncbitaxon:9989'}}}\n"
     ]
    },
    {
     "name": "stderr",
     "output_type": "stream",
     "text": [
      "INFO: [2025-09-08 15:04:58] httpx - HTTP Request: POST https://api.openai.com/v1/chat/completions \"HTTP/1.1 200 OK\"\n"
     ]
    },
    {
     "name": "stdout",
     "output_type": "stream",
     "text": [
      "Iteration 2: Found errors: {'execution_errors': [], 'parameter_errors': [], 'time_dependency_errors': [], 'concept_errors': []}\n",
      "Response keys: dict_keys(['has_errors', 'errors', 'auto_fixes_applied', 'corrected_code', 'corrected_concepts', 'confidence', 'manual_review_needed'])\n",
      "corrected_code exists\n",
      "corrected_code field exists, length: 1186\n",
      "Type of corrected_concepts from JSON: <class 'dict'>\n",
      "Content: {'Sh': {'identifiers': {'ido': '0000514'}, 'context': {'severity': 'high', 'species': 'ncbitaxon:9606'}}, 'Eh': {'identifiers': {'apollosv': '00000154'}, 'context': {'species': 'ncbitaxon:9606'}}, 'Ih': {'identifiers': {'ido': '0000511'}, 'context': {'stage': 'symptomatic', 'species': 'ncbitaxon:9606'}}, 'Qh': {'identifiers': {'ido': '0000592'}, 'context': {'hospitalization': 'ncit:C25179', 'species': 'ncbitaxon:9606'}}, 'St': {'identifiers': {'ido': '0000514'}, 'context': {'species': 'ncbitaxon:9989'}}, 'Et': {'identifiers': {'apollosv': '00000154'}, 'context': {'species': 'ncbitaxon:9989'}}, 'It': {'identifiers': {'ido': '0000511'}, 'context': {'species': 'ncbitaxon:9989'}}, 'Rt': {'identifiers': {'ido': '0000592'}, 'context': {'species': 'ncbitaxon:9989'}}}\n"
     ]
    },
    {
     "name": "stderr",
     "output_type": "stream",
     "text": [
      "INFO: [2025-09-08 15:05:15] httpx - HTTP Request: POST https://api.openai.com/v1/chat/completions \"HTTP/1.1 200 OK\"\n"
     ]
    },
    {
     "name": "stdout",
     "output_type": "stream",
     "text": [
      "Iteration 3: Found errors: {'execution_errors': [], 'parameter_errors': [], 'time_dependency_errors': [], 'concept_errors': []}\n",
      "Response keys: dict_keys(['has_errors', 'errors', 'auto_fixes_applied', 'corrected_code', 'corrected_concepts', 'confidence', 'manual_review_needed'])\n",
      "corrected_code exists\n",
      "corrected_code field exists, length: 1186\n",
      "Type of corrected_concepts from JSON: <class 'dict'>\n",
      "Content: {'Sh': {'identifiers': {'ido': '0000514'}, 'context': {'severity': 'high', 'species': 'ncbitaxon:9606'}}, 'Eh': {'identifiers': {'apollosv': '00000154'}, 'context': {'species': 'ncbitaxon:9606'}}, 'Ih': {'identifiers': {'ido': '0000511'}, 'context': {'stage': 'symptomatic', 'species': 'ncbitaxon:9606'}}, 'Qh': {'identifiers': {'ido': '0000592'}, 'context': {'hospitalization': 'ncit:C25179', 'species': 'ncbitaxon:9606'}}, 'St': {'identifiers': {'ido': '0000514'}, 'context': {'species': 'ncbitaxon:9989'}}, 'Et': {'identifiers': {'apollosv': '00000154'}, 'context': {'species': 'ncbitaxon:9989'}}, 'It': {'identifiers': {'ido': '0000511'}, 'context': {'species': 'ncbitaxon:9989'}}, 'Rt': {'identifiers': {'ido': '0000592'}, 'context': {'species': 'ncbitaxon:9989'}}}\n"
     ]
    }
   ],
   "source": [
    "# Use 2-step iteration process to check errors in the ode_str and get the corrected versions\n",
    "# Get a template model from the extracted ODE str and send the ODE system in for attempting to ground each compartment\n",
    "from mira.sources.sympy_ode.llm_util import execute_template_model_from_sympy_odes\n",
    "\n",
    "tm, corrected_ode_str, corrected_concepts = execute_template_model_from_sympy_odes(\n",
    "    ode_str=ode_str,\n",
    "    attempt_grounding=True,\n",
    "    client=client,\n",
    "    use_multi_agent=True,\n",
    "    return_corrected=True\n",
    ")"
   ]
  },
  {
   "cell_type": "code",
   "execution_count": 104,
   "id": "144490a0",
   "metadata": {},
   "outputs": [
    {
     "name": "stdout",
     "output_type": "stream",
     "text": [
      "import sympy\n",
      "\n",
      "# Define time variable\n",
      "t = sympy.symbols(\"t\")\n",
      "\n",
      "# Define the time-dependent variables\n",
      "Sh, Eh, Ih, Qh, Rh, St, It, Et, Rt = sympy.Function('Sh'), sympy.Function('Eh'), sympy.Function('Ih'), sympy.Function('Qh'), sympy.Function('Rh'), sympy.Function('St'), sympy.Function('It'), sympy.Function('Et'), sympy.Function('Rt')\n",
      "\n",
      "# Define the parameters\n",
      "alpha_1, alpha_2, alpha_3, beta_1, beta_2, mu_h, mu_t, phi, gamma_h = sympy.symbols(\"alpha_1 alpha_2 alpha_3 beta_1 beta_2 mu_h mu_t phi gamma_h\")\n",
      "N_h, N_t = sympy.symbols(\"N_h N_t\")\n",
      "\n",
      "odes = [\n",
      "    sympy.Eq(Sh(t).diff(t), (beta_1 * It(t) + beta_2 * Ih(t)) / N_h - mu_h * Sh(t) + phi * Qh(t)),\n",
      "    sympy.Eq(Eh(t).diff(t), (alpha_1 * (It(t) + beta_1 * Ih(t)) / N_h) - (alpha_1 + alpha_2 + mu_h) * Eh(t)),\n",
      "    sympy.Eq(Ih(t).diff(t), alpha_2 * Eh(t) - (phi + gamma_h + mu_h) * Qh(t)),\n",
      "    sympy.Eq(Qh(t).diff(t), gamma_h * Rh(t) - mu_h * Qh(t)),\n",
      "    sympy.Eq(St(t).diff(t), - beta_2 * St(t) * It(t) / N_t + mu_t * St(t)),\n",
      "    sympy.Eq(Et(t).diff(t), (beta_2 * St(t) * It(t)) / N_t - (mu_t + alpha_3) * Et(t)),\n",
      "    sympy.Eq(It(t).diff(t), alpha_3 * Et(t) - mu_t * It(t)),\n",
      "    sympy.Eq(Rt(t).diff(t), alpha_3 * Et(t) - mu_t * Rt(t))\n",
      "]\n"
     ]
    },
    {
     "data": {
      "text/plain": [
       "[Eq(Derivative(Sh(t), t), -mu_h*Sh(t) + phi*Qh(t) + (beta_1*It(t) + beta_2*Ih(t))/N_h),\n",
       " Eq(Derivative(Eh(t), t), -(alpha_1 + alpha_2 + mu_h)*Eh(t) + alpha_1*(beta_1*Ih(t) + It(t))/N_h),\n",
       " Eq(Derivative(Ih(t), t), alpha_2*Eh(t) - (gamma_h + mu_h + phi)*Qh(t)),\n",
       " Eq(Derivative(Qh(t), t), gamma_h*Rh(t) - mu_h*Qh(t)),\n",
       " Eq(Derivative(St(t), t), mu_t*St(t) - beta_2*It(t)*St(t)/N_t),\n",
       " Eq(Derivative(Et(t), t), -(alpha_3 + mu_t)*Et(t) + beta_2*It(t)*St(t)/N_t),\n",
       " Eq(Derivative(It(t), t), alpha_3*Et(t) - mu_t*It(t)),\n",
       " Eq(Derivative(Rt(t), t), alpha_3*Et(t) - mu_t*Rt(t))]"
      ]
     },
     "execution_count": 104,
     "metadata": {},
     "output_type": "execute_result"
    }
   ],
   "source": [
    "print(corrected_ode_str)\n",
    "\n",
    "corrected_odes_sympy = string_to_sympy_odes(corrected_ode_str)\n",
    "\n",
    "corrected_odes_sympy"
   ]
  },
  {
   "cell_type": "code",
   "execution_count": 105,
   "id": "86d1ffe5-6792-4b63-8fd7-e5477efc9f6d",
   "metadata": {},
   "outputs": [
    {
     "name": "stdout",
     "output_type": "stream",
     "text": [
      "Matrix([[Derivative(Et, t), =, -Et*(alpha_3 + mu_t) + It*St*beta_2/N_t], [Derivative(It, t), =, Et*alpha_3 - It*mu_t], [Derivative(Rt, t), =, Et*alpha_3 - Rt*mu_t], [Derivative(Qh, t), =, -Qh*mu_h + gamma_h*Rh(t)], [Derivative(Sh, t), =, Qh*phi - Sh*mu_h + (Ih*beta_2 + It*beta_1)/N_h], [Derivative(Eh, t), =, -Eh*(alpha_1 + alpha_2 + mu_h) + alpha_1*(Ih*beta_1 + It)/N_h], [Derivative(Ih, t), =, Eh*alpha_2 - Qh*(gamma_h + mu_h + phi)], [Derivative(St, t), =, -It*St*beta_2/N_t + St*mu_t]])\n",
      "[Eq(Derivative(Et, t), -Et*(alpha_3 + mu_t) + It*St*beta_2/N_t), Eq(Derivative(It, t), Et*alpha_3 - It*mu_t), Eq(Derivative(Rt, t), Et*alpha_3 - Rt*mu_t), Eq(Derivative(Qh, t), -Qh*mu_h + gamma_h*Rh(t)), Eq(Derivative(Sh, t), Qh*phi - Sh*mu_h + (Ih*beta_2 + It*beta_1)/N_h), Eq(Derivative(Eh, t), -Eh*(alpha_1 + alpha_2 + mu_h) + alpha_1*(Ih*beta_1 + It)/N_h), Eq(Derivative(Ih, t), Eh*alpha_2 - Qh*(gamma_h + mu_h + phi)), Eq(Derivative(St, t), -It*St*beta_2/N_t + St*mu_t)]\n"
     ]
    },
    {
     "data": {
      "text/latex": [
       "$\\displaystyle \\left[\\begin{matrix}\\frac{d}{d t} Et & = & - Et \\left(\\alpha_{3} + \\mu_{t}\\right) + \\frac{It St \\beta_{2}}{N_{t}}\\\\\\frac{d}{d t} It & = & Et \\alpha_{3} - It \\mu_{t}\\\\\\frac{d}{d t} Rt & = & Et \\alpha_{3} - Rt \\mu_{t}\\\\\\frac{d}{d t} Qh & = & - Qh \\mu_{h} + \\gamma_{h} \\operatorname{Rh}{\\left(t \\right)}\\\\\\frac{d}{d t} Sh & = & Qh \\phi - Sh \\mu_{h} + \\frac{Ih \\beta_{2} + It \\beta_{1}}{N_{h}}\\\\\\frac{d}{d t} Eh & = & - Eh \\left(\\alpha_{1} + \\alpha_{2} + \\mu_{h}\\right) + \\frac{\\alpha_{1} \\left(Ih \\beta_{1} + It\\right)}{N_{h}}\\\\\\frac{d}{d t} Ih & = & Eh \\alpha_{2} - Qh \\left(\\gamma_{h} + \\mu_{h} + \\phi\\right)\\\\\\frac{d}{d t} St & = & - \\frac{It St \\beta_{2}}{N_{t}} + St \\mu_{t}\\end{matrix}\\right]$"
      ],
      "text/plain": [
       "Matrix([\n",
       "[Derivative(Et, t), =,                       -Et*(alpha_3 + mu_t) + It*St*beta_2/N_t],\n",
       "[Derivative(It, t), =,                                          Et*alpha_3 - It*mu_t],\n",
       "[Derivative(Rt, t), =,                                          Et*alpha_3 - Rt*mu_t],\n",
       "[Derivative(Qh, t), =,                                      -Qh*mu_h + gamma_h*Rh(t)],\n",
       "[Derivative(Sh, t), =,                Qh*phi - Sh*mu_h + (Ih*beta_2 + It*beta_1)/N_h],\n",
       "[Derivative(Eh, t), =, -Eh*(alpha_1 + alpha_2 + mu_h) + alpha_1*(Ih*beta_1 + It)/N_h],\n",
       "[Derivative(Ih, t), =,                        Eh*alpha_2 - Qh*(gamma_h + mu_h + phi)],\n",
       "[Derivative(St, t), =,                                   -It*St*beta_2/N_t + St*mu_t]])"
      ]
     },
     "execution_count": 105,
     "metadata": {},
     "output_type": "execute_result"
    }
   ],
   "source": [
    "from mira.modeling import Model\n",
    "from mira.modeling.ode import OdeModel\n",
    "om = OdeModel(Model(tm), initialized=True)\n",
    "mtx_sympy = om.get_interpretable_kinetics()\n",
    "\n",
    "mtx_odes_sympy = []\n",
    "for i in range(mtx_sympy.shape[0]):\n",
    "    lhs = mtx_sympy[i,0]\n",
    "    rhs = mtx_sympy[i,2]\n",
    "    mtx_odes_sympy.append(sympy.Eq(lhs, rhs))\n",
    "\n",
    "print(mtx_sympy)\n",
    "print(mtx_odes_sympy)\n",
    "mtx_sympy\n"
   ]
  },
  {
   "cell_type": "code",
   "execution_count": 106,
   "id": "228efba8",
   "metadata": {},
   "outputs": [
    {
     "data": {
      "text/plain": [
       "[Eq(Derivative(Et(t), t), -Et*(alpha_3 + mu_t) + It*St*beta_2/N_t),\n",
       " Eq(Derivative(It(t), t), Et*alpha_3 - It*mu_t),\n",
       " Eq(Derivative(Rt(t), t), Et*alpha_3 - Rt*mu_t),\n",
       " Eq(Derivative(Qh(t), t), -Qh*mu_h + gamma_h*Rh(t)),\n",
       " Eq(Derivative(Sh(t), t), Qh*phi - Sh*mu_h + (Ih*beta_2 + It*beta_1)/N_h),\n",
       " Eq(Derivative(Eh(t), t), -Eh*(alpha_1 + alpha_2 + mu_h) + alpha_1*(Ih*beta_1 + It)/N_h),\n",
       " Eq(Derivative(Ih(t), t), Eh*alpha_2 - Qh*(gamma_h + mu_h + phi)),\n",
       " Eq(Derivative(St(t), t), -It*St*beta_2/N_t + St*mu_t)]"
      ]
     },
     "execution_count": 106,
     "metadata": {},
     "output_type": "execute_result"
    }
   ],
   "source": [
    "mtx_odes_sympy = []\n",
    "for i in range(mtx_sympy.shape[0]):\n",
    "    lhs = mtx_sympy[i,0]\n",
    "    rhs = mtx_sympy[i,2]\n",
    "    mtx_odes_sympy.append(sympy.Eq(lhs, rhs))\n",
    "\n",
    "mtx_odes_sympy = convert_to_function_notation(mtx_odes_sympy)\n",
    "mtx_odes_sympy"
   ]
  },
  {
   "cell_type": "code",
   "execution_count": 107,
   "id": "cd210de1-c2c4-4b21-8ffc-7b446d80e213",
   "metadata": {},
   "outputs": [
    {
     "name": "stdout",
     "output_type": "stream",
     "text": [
      "concept name\tidentifiers\tcontext\n",
      "It\t{'ido': '0000511'}\t{'species': 'ncbitaxon:9989'}\n",
      "Et\t{'apollosv': '00000154'}\t{'species': 'ncbitaxon:9989'}\n",
      "Rt\t{'ido': '0000592'}\t{'species': 'ncbitaxon:9989'}\n",
      "Sh\t{'ido': '0000514'}\t{'severity': 'high', 'species': 'ncbitaxon:9606'}\n",
      "Qh\t{'ido': '0000592'}\t{'hospitalization': 'ncit:C25179', 'species': 'ncbitaxon:9606'}\n",
      "Ih\t{'ido': '0000511'}\t{'stage': 'symptomatic', 'species': 'ncbitaxon:9606'}\n",
      "Eh\t{'apollosv': '00000154'}\t{'species': 'ncbitaxon:9606'}\n",
      "St\t{'ido': '0000514'}\t{'species': 'ncbitaxon:9989'}\n"
     ]
    }
   ],
   "source": [
    "# Check the concepts\n",
    "print('concept name\\tidentifiers\\tcontext')\n",
    "for concept in tm.get_concepts_map().values():\n",
    "    print(f'{concept.name}\\t{concept.identifiers}\\t{concept.context}')"
   ]
  },
  {
   "cell_type": "markdown",
   "id": "6666b802",
   "metadata": {},
   "source": [
    "#### String comparison of the correct and the extracted odes "
   ]
  },
  {
   "cell_type": "code",
   "execution_count": 108,
   "id": "f6cfe51d",
   "metadata": {},
   "outputs": [
    {
     "name": "stdout",
     "output_type": "stream",
     "text": [
      "odes = [\n",
      "    sympy.Eq(sh(t).diff(t), beta_h - (beta_1 * ir(t) + beta_2 * ih(t)) * sh(t) / N_h - mu_h * sh(t) + phi * qh(t)),\n",
      "    sympy.Eq(eh(t).diff(t), (beta_1 * ir(t) + beta_2 * ih(t)) * sh(t) / N_h - (alpha_1 + alpha_2 + mu_h) * eh(t)),\n",
      "    sympy.Eq(ih(t).diff(t), alpha_1 * eh(t) - (mu_h + delta_h + gamma) * ih(t)),\n",
      "    sympy.Eq(qh(t).diff(t), alpha_2 * eh(t) - (phi + tau + delta_h + mu_h) * qh(t)),\n",
      "    sympy.Eq(rh(t).diff(t), gamma * qh(t) + tau*qh(t) - mu_h * rh(t)),\n",
      "    \n",
      "    sympy.Eq(sr(t).diff(t), beta_r - (beta_3 * sr(t) * ir(t) / N_r) - mu_r*sr(t)),\n",
      "    \n",
      "    sympy.Eq(er(t).diff(t), beta_3 * sr(t) * ir(t) / N_r - (mu_r + alpha_3) * er(t)),\n",
      "    sympy.Eq(ir(t).diff(t), alpha_3 * er(t) - (mu_r + delta_r) * ir(t))\n",
      "]\n"
     ]
    }
   ],
   "source": [
    "# Correct string (maunally extracted list)\n",
    "file_path = '/Users/kovacs.f/Desktop/mira/notebooks/equation extraction development/extraction error check/string mismatch check/correct_eqs_list.tsv'\n",
    "\n",
    "df = pd.read_csv(file_path, sep='\\t')\n",
    "try:\n",
    "    correct_str = df[df['model'] == biomodel_name]['correct_eqs'].iloc[0]\n",
    "except IndexError:\n",
    "    raise ValueError(f\"No correct equations found for model '{biomodel_name}' in {file_path}\")\n",
    "\n",
    "print(correct_str)"
   ]
  },
  {
   "cell_type": "code",
   "execution_count": 109,
   "id": "c9932e75",
   "metadata": {},
   "outputs": [
    {
     "data": {
      "text/plain": [
       "[Eq(Derivative(sh(t), t), beta_h - mu_h*sh(t) + phi*qh(t) - (beta_1*ir(t) + beta_2*ih(t))*sh(t)/N_h),\n",
       " Eq(Derivative(eh(t), t), -(alpha_1 + alpha_2 + mu_h)*eh(t) + (beta_1*ir(t) + beta_2*ih(t))*sh(t)/N_h),\n",
       " Eq(Derivative(ih(t), t), alpha_1*eh(t) - (delta_h + gamma + mu_h)*ih(t)),\n",
       " Eq(Derivative(qh(t), t), alpha_2*eh(t) - (delta_h + mu_h + phi + tau)*qh(t)),\n",
       " Eq(Derivative(rh(t), t), gamma*qh(t) - mu_h*rh(t) + tau*qh(t)),\n",
       " Eq(Derivative(sr(t), t), beta_r - mu_r*sr(t) - beta_3*ir(t)*sr(t)/N_r),\n",
       " Eq(Derivative(er(t), t), -(alpha_3 + mu_r)*er(t) + beta_3*ir(t)*sr(t)/N_r),\n",
       " Eq(Derivative(ir(t), t), alpha_3*er(t) - (delta_r + mu_r)*ir(t))]"
      ]
     },
     "execution_count": 109,
     "metadata": {},
     "output_type": "execute_result"
    }
   ],
   "source": [
    "# Trasforming correct_str to sympy eq\n",
    "correct_odes_sympy = string_to_sympy_odes(correct_str)\n",
    "correct_odes_sympy"
   ]
  },
  {
   "cell_type": "code",
   "execution_count": 110,
   "id": "4dea1031",
   "metadata": {},
   "outputs": [
    {
     "data": {
      "text/plain": [
       "[Eq(Derivative(Sh(t), t), -mu_h*Sh(t) + phi*Qh(t) + (beta_1*It(t) + beta_2*Ih(t))/N_h),\n",
       " Eq(Derivative(Eh(t), t), -(alpha_1 + alpha_2 + mu_h)*Eh(t) + alpha_1*(beta_1*Ih(t) + It(t))/N_h),\n",
       " Eq(Derivative(Ih(t), t), alpha_2*Eh(t) - (gamma_h + mu_h + phi)*Qh(t)),\n",
       " Eq(Derivative(Qh(t), t), gamma_h*Rh(t) - mu_h*Qh(t)),\n",
       " Eq(Derivative(St(t), t), mu_t*St(t) - beta_2*It(t)*St(t)/N_t),\n",
       " Eq(Derivative(Et(t), t), -(alpha_3 + mu_t)*Et(t) + beta_2*It(t)*St(t)/N_t),\n",
       " Eq(Derivative(Ih(t), t), alpha_3*Et(t) - mu_t*It(t)),\n",
       " Eq(Derivative(Rt(t), t), alpha_3*Et(t) - mu_t*Rt(t))]"
      ]
     },
     "execution_count": 110,
     "metadata": {},
     "output_type": "execute_result"
    }
   ],
   "source": [
    "# Trasforming extracted_str to sympy eq\n",
    "extracted_odes_sympy = string_to_sympy_odes(ode_str)\n",
    "extracted_odes_sympy"
   ]
  },
  {
   "cell_type": "code",
   "execution_count": 111,
   "id": "e3608e67",
   "metadata": {},
   "outputs": [
    {
     "name": "stdout",
     "output_type": "stream",
     "text": [
      "Above-below comparison:\n",
      "Correct odes (extracted manually):\n",
      "[Eq(Derivative(sh(t), t), beta_h - mu_h*sh(t) + phi*qh(t) - (beta_1*ir(t) + beta_2*ih(t))*sh(t)/N_h), Eq(Derivative(eh(t), t), -(alpha_1 + alpha_2 + mu_h)*eh(t) + (beta_1*ir(t) + beta_2*ih(t))*sh(t)/N_h), Eq(Derivative(ih(t), t), alpha_1*eh(t) - (delta_h + gamma + mu_h)*ih(t)), Eq(Derivative(qh(t), t), alpha_2*eh(t) - (delta_h + mu_h + phi + tau)*qh(t)), Eq(Derivative(rh(t), t), gamma*qh(t) - mu_h*rh(t) + tau*qh(t)), Eq(Derivative(sr(t), t), beta_r - mu_r*sr(t) - beta_3*ir(t)*sr(t)/N_r), Eq(Derivative(er(t), t), -(alpha_3 + mu_r)*er(t) + beta_3*ir(t)*sr(t)/N_r), Eq(Derivative(ir(t), t), alpha_3*er(t) - (delta_r + mu_r)*ir(t))]\n",
      "Extrated odes from the image:\n",
      "[Eq(Derivative(Sh(t), t), -mu_h*Sh(t) + phi*Qh(t) + (beta_1*It(t) + beta_2*Ih(t))/N_h), Eq(Derivative(Eh(t), t), -(alpha_1 + alpha_2 + mu_h)*Eh(t) + alpha_1*(beta_1*Ih(t) + It(t))/N_h), Eq(Derivative(Ih(t), t), alpha_2*Eh(t) - (gamma_h + mu_h + phi)*Qh(t)), Eq(Derivative(Qh(t), t), gamma_h*Rh(t) - mu_h*Qh(t)), Eq(Derivative(St(t), t), mu_t*St(t) - beta_2*It(t)*St(t)/N_t), Eq(Derivative(Et(t), t), -(alpha_3 + mu_t)*Et(t) + beta_2*It(t)*St(t)/N_t), Eq(Derivative(Ih(t), t), alpha_3*Et(t) - mu_t*It(t)), Eq(Derivative(Rt(t), t), alpha_3*Et(t) - mu_t*Rt(t))]\n",
      "Checked and corrected odes:\n",
      "[Eq(Derivative(Sh(t), t), -mu_h*Sh(t) + phi*Qh(t) + (beta_1*It(t) + beta_2*Ih(t))/N_h), Eq(Derivative(Eh(t), t), -(alpha_1 + alpha_2 + mu_h)*Eh(t) + alpha_1*(beta_1*Ih(t) + It(t))/N_h), Eq(Derivative(Ih(t), t), alpha_2*Eh(t) - (gamma_h + mu_h + phi)*Qh(t)), Eq(Derivative(Qh(t), t), gamma_h*Rh(t) - mu_h*Qh(t)), Eq(Derivative(St(t), t), mu_t*St(t) - beta_2*It(t)*St(t)/N_t), Eq(Derivative(Et(t), t), -(alpha_3 + mu_t)*Et(t) + beta_2*It(t)*St(t)/N_t), Eq(Derivative(It(t), t), alpha_3*Et(t) - mu_t*It(t)), Eq(Derivative(Rt(t), t), alpha_3*Et(t) - mu_t*Rt(t))]\n",
      "Matrix of odes extracted from TM:\n",
      "[Eq(Derivative(Et(t), t), -Et*(alpha_3 + mu_t) + It*St*beta_2/N_t), Eq(Derivative(It(t), t), Et*alpha_3 - It*mu_t), Eq(Derivative(Rt(t), t), Et*alpha_3 - Rt*mu_t), Eq(Derivative(Qh(t), t), -Qh*mu_h + gamma_h*Rh(t)), Eq(Derivative(Sh(t), t), Qh*phi - Sh*mu_h + (Ih*beta_2 + It*beta_1)/N_h), Eq(Derivative(Eh(t), t), -Eh*(alpha_1 + alpha_2 + mu_h) + alpha_1*(Ih*beta_1 + It)/N_h), Eq(Derivative(Ih(t), t), Eh*alpha_2 - Qh*(gamma_h + mu_h + phi)), Eq(Derivative(St(t), t), -It*St*beta_2/N_t + St*mu_t)]\n"
     ]
    }
   ],
   "source": [
    "# Displaying odes\n",
    "print('Above-below comparison:')\n",
    "print('Correct odes (extracted manually):')\n",
    "print(correct_odes_sympy)\n",
    "print('Extrated odes from the image:')\n",
    "print(extracted_odes_sympy)\n",
    "print('Checked and corrected odes:')\n",
    "print(corrected_odes_sympy)\n",
    "print('Matrix of odes extracted from TM:')\n",
    "print(mtx_odes_sympy)"
   ]
  },
  {
   "cell_type": "code",
   "execution_count": 112,
   "id": "84a6610f",
   "metadata": {},
   "outputs": [],
   "source": [
    "# Sort for comparison\n",
    "correct_odes_sorted = sort_equations_by_lhs(correct_odes_sympy)\n",
    "extracted_odes_sorted = sort_equations_by_lhs(extracted_odes_sympy)\n",
    "corrected_odes_sorted = sort_equations_by_lhs(corrected_odes_sympy)\n",
    "mtx_odes_sorted = sort_equations_by_lhs(mtx_odes_sympy)"
   ]
  },
  {
   "cell_type": "code",
   "execution_count": 113,
   "id": "baf1d2bd",
   "metadata": {},
   "outputs": [],
   "source": [
    "# Comparison by substraction\n",
    "# correct_odes vs. extracted_odes_sympy\n",
    "diff_correct_extracted_odes = []\n",
    "for eq1, eq2 in zip(correct_odes_sorted, extracted_odes_sorted):\n",
    "    diff = sympy.simplify((eq1.lhs - eq1.rhs) - (eq2.lhs - eq2.rhs))\n",
    "    diff_correct_extracted_odes.append(diff)\n",
    "\n",
    "# correct_odes vs. corrected_odes_sympy\n",
    "diff_correct_corrected_odes = []\n",
    "for eq1, eq2 in zip(correct_odes_sorted, corrected_odes_sorted):\n",
    "    diff = sympy.simplify((eq1.lhs - eq1.rhs) - (eq2.lhs - eq2.rhs))\n",
    "    diff_correct_corrected_odes.append(diff)\n",
    "\n",
    "# correct_odes vs. mtx_odes_sympy\n",
    "diff_correct_mtx_odes = []\n",
    "for eq1, eq2 in zip(correct_odes_sorted, mtx_odes_sorted):\n",
    "    diff = sympy.simplify((eq1.lhs - eq1.rhs) - (eq2.lhs - eq2.rhs))\n",
    "    diff_correct_mtx_odes.append(diff)"
   ]
  },
  {
   "cell_type": "code",
   "execution_count": 114,
   "id": "5e3b68b1",
   "metadata": {},
   "outputs": [],
   "source": [
    "# Save detailed comparison\n",
    "def comparisons_to_md(\n",
    "    correct_odes_sorted,\n",
    "    extracted_odes_sorted,\n",
    "    corrected_odes_sorted,\n",
    "    mtx_odes_sorted,\n",
    "    biomodel_name,\n",
    "    folder_path=\"/Users/kovacs.f/Desktop/mira/notebooks/equation extraction development/extraction error check/string mismatch check/comparison_results_version002\"\n",
    "):\n",
    "    timestamp = datetime.now().strftime(\"%Y-%m-%d_%H-%M-%S\")\n",
    "    os.makedirs(folder_path, exist_ok=True)\n",
    "    file_path = os.path.join(folder_path, f\"comparison_{biomodel_name}_odes.md\")\n",
    "    \n",
    "    with open(file_path, 'w', encoding='utf-8') as f:\n",
    "        f.write(f\"\\n# Comparison by Subtraction\\n\")\n",
    "        f.write(f\"## Model: {biomodel_name}\\n\")\n",
    "        f.write(f\"### Timestamp: {timestamp}\\n\\n\")\n",
    "        \n",
    "        # 1. correct_odes vs extracted_odes \n",
    "        f.write(\"## 1. correct_odes vs extracted_odes_sympy\\n\\n\")\n",
    "        for i, (eq1, eq2) in enumerate(zip(correct_odes_sorted, extracted_odes_sorted)):\n",
    "            f.write(f\"**Equation {i}:**\\n\")\n",
    "            f.write(f\"- Correct:   `{eq1}`\\n\")\n",
    "            f.write(f\"- Extracted: `{eq2}`\\n\")\n",
    "            diff = sympy.simplify((eq1.lhs - eq1.rhs) - (eq2.lhs - eq2.rhs))\n",
    "            f.write(f\"- Difference: `{diff}`\\n\\n\")\n",
    "        \n",
    "        # 2. correct_odes vs corrected_odes\n",
    "        f.write(\"## 2. correct_odes vs corrected_odes_sympy\\n\\n\")\n",
    "        for i, (eq1, eq2) in enumerate(zip(correct_odes_sorted, corrected_odes_sorted)):\n",
    "            f.write(f\"**Equation {i}:**\\n\")\n",
    "            f.write(f\"- Correct: `{eq1}`\\n\")\n",
    "            f.write(f\"- Corrected: `{eq2}`\\n\")\n",
    "            diff = sympy.simplify((eq1.lhs - eq1.rhs) - (eq2.lhs - eq2.rhs))\n",
    "            f.write(f\"- Difference: `{diff}`\\n\\n\")\n",
    "        \n",
    "        # 3. correct_odes vs mtx_odes \n",
    "        f.write(\"## 3. correct_odes vs mtx_odes_sympy\\n\\n\")\n",
    "        for i in range(min(len(mtx_odes_sorted), len(correct_odes_sorted))):\n",
    "            eq_mtx = mtx_odes_sorted[i]  \n",
    "            eq_correct = correct_odes_sorted[i] \n",
    "            f.write(f\"**Equation {i}:**\\n\")\n",
    "            f.write(f\"- Correct: `{eq_correct}`\\n\")\n",
    "            f.write(f\"- Matrix:  `{eq_mtx}`\\n\")\n",
    "            diff = sympy.simplify((eq_mtx.lhs - eq_mtx.rhs) - (eq_correct.lhs - eq_correct.rhs))\n",
    "            f.write(f\"- Difference: `{diff}`\\n\\n\")\n",
    "\n",
    "comparisons_to_md(\n",
    "    correct_odes_sorted,\n",
    "    extracted_odes_sorted,\n",
    "    corrected_odes_sorted,\n",
    "    mtx_odes_sorted,\n",
    "    biomodel_name,\n",
    "    folder_path='/Users/kovacs.f/Desktop/mira/notebooks/equation extraction development/extraction error check/string mismatch check/comparison_results_version002'\n",
    ")"
   ]
  }
 ],
 "metadata": {
  "kernelspec": {
   "display_name": "Python (mira)",
   "language": "python",
   "name": "mira"
  },
  "language_info": {
   "codemirror_mode": {
    "name": "ipython",
    "version": 3
   },
   "file_extension": ".py",
   "mimetype": "text/x-python",
   "name": "python",
   "nbconvert_exporter": "python",
   "pygments_lexer": "ipython3",
   "version": "3.13.5"
  }
 },
 "nbformat": 4,
 "nbformat_minor": 5
}
