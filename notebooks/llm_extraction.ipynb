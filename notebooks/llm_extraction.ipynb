{
 "cells": [
  {
   "cell_type": "code",
   "execution_count": 1,
   "id": "59373727",
   "metadata": {},
   "outputs": [],
   "source": [
    "import pandas as pd\n",
    "from pathlib import Path\n",
    "import re\n",
    "import sympy\n",
    "from datetime import datetime\n",
    "import os"
   ]
  },
  {
   "cell_type": "code",
   "execution_count": 2,
   "id": "81c5a6e5",
   "metadata": {},
   "outputs": [],
   "source": [
    "def convert_to_function_notation(equations):\n",
    "    \"\"\"Convert Derivative(S, t) to Derivative(S(t), t) in equations\"\"\"\n",
    "    t = sympy.Symbol('t')\n",
    "\n",
    "    result = []\n",
    "    for eq in equations:\n",
    "        # LHS\n",
    "        if isinstance(eq.lhs, sympy.Derivative):\n",
    "            var = eq.lhs.args[0]  # This is S, E, etc.\n",
    "            if isinstance(var, sympy.Symbol):\n",
    "                func_name = str(var)\n",
    "                func = sympy.Function(func_name)\n",
    "                new_lhs = sympy.Derivative(func(t), t)\n",
    "            else:\n",
    "                new_lhs = eq.lhs\n",
    "        else:\n",
    "            new_lhs = eq.lhs\n",
    "        \n",
    "        # RHS\n",
    "        state_vars = ['S', 'E', 'I', 'P', 'A', 'H', 'R', 'F']\n",
    "        subs_dict = {}\n",
    "        for var_name in state_vars:\n",
    "            var = sympy.Symbol(var_name)\n",
    "            if var in eq.rhs.free_symbols:\n",
    "                func = sympy.Function(var_name)\n",
    "                subs_dict[var] = func(t)\n",
    "        \n",
    "        new_rhs = eq.rhs.subs(subs_dict)\n",
    "        result.append(sympy.Eq(new_lhs, new_rhs))\n",
    "    \n",
    "    return result\n"
   ]
  },
  {
   "cell_type": "markdown",
   "id": "820f100a",
   "metadata": {},
   "source": [
    "#### AI setup"
   ]
  },
  {
   "cell_type": "code",
   "execution_count": 3,
   "id": "2141c5a5",
   "metadata": {},
   "outputs": [
    {
     "name": "stdout",
     "output_type": "stream",
     "text": [
      "API key is set\n"
     ]
    }
   ],
   "source": [
    "# check API key\n",
    "import os\n",
    "\n",
    "api_key = os.environ.get(\"OPENAI_API_KEY\")\n",
    "if api_key:\n",
    "    print(\"API key is set\")\n",
    "else:\n",
    "    print(\"API key not found in environment variables\")"
   ]
  },
  {
   "cell_type": "code",
   "execution_count": 4,
   "id": "c28d24a0-175a-45cd-8d17-34d028820d56",
   "metadata": {},
   "outputs": [],
   "source": [
    "from mira.openai import OpenAIClient\n",
    "from mira.sources.sympy_ode.llm_util import execute_template_model_from_sympy_odes, image_file_to_odes_str\n",
    "client = OpenAIClient()"
   ]
  },
  {
   "cell_type": "markdown",
   "id": "633ac948",
   "metadata": {},
   "source": [
    "#### Extraction: image -> str"
   ]
  },
  {
   "cell_type": "code",
   "execution_count": 19,
   "id": "6069445b-a504-4b88-8468-e8a172609000",
   "metadata": {},
   "outputs": [
    {
     "data": {
      "image/png": "[encoded data removed]",
      "text/plain": [
       "<IPython.core.display.Image object>"
      ]
     },
     "execution_count": 19,
     "metadata": {},
     "output_type": "execute_result"
    }
   ],
   "source": [
    "# Extract ODEs from image\n",
    "\n",
    "biomodel_name = \"BIOMD0000000956\"\n",
    "\n",
    "from IPython.display import Image\n",
    "image_path = f'images/{biomodel_name}.png'\n",
    "Image(image_path)"
   ]
  },
  {
   "cell_type": "code",
   "execution_count": 20,
   "id": "9f49b183-d6fe-4489-9008-04db2c0d8ede",
   "metadata": {},
   "outputs": [
    {
     "name": "stdout",
     "output_type": "stream",
     "text": [
      "============================================================\n",
      "MULTI-AGENT ODE EXTRACTION & VALIDATION PIPELINE\n",
      "Biomodel: BIOMD0000000956\n",
      "============================================================\n",
      "\n",
      "PHASE 1: ODE Extraction from Image\n"
     ]
    },
    {
     "name": "stderr",
     "output_type": "stream",
     "text": [
      "INFO: [2025-09-15 11:31:41] httpx - HTTP Request: POST https://api.openai.com/v1/chat/completions \"HTTP/1.1 200 OK\"\n"
     ]
    },
    {
     "name": "stdout",
     "output_type": "stream",
     "text": [
      "  ODEs extracted from image\n",
      "  Length: 456 characters\n",
      "\n",
      "PHASE 2: Concept Grounding\n"
     ]
    },
    {
     "name": "stderr",
     "output_type": "stream",
     "text": [
      "INFO: [2025-09-15 11:31:44] httpx - HTTP Request: POST https://api.openai.com/v1/chat/completions \"HTTP/1.1 200 OK\"\n"
     ]
    },
    {
     "name": "stdout",
     "output_type": "stream",
     "text": [
      "  Extracted 4 concepts\n",
      "\n",
      "PHASE 3: Execution Error Correction\n",
      "  No execution errors found\n",
      "\n",
      "PHASE 4: Validation Checks\n",
      "  Running parameter and time-dependency validation...\n"
     ]
    },
    {
     "name": "stderr",
     "output_type": "stream",
     "text": [
      "INFO: [2025-09-15 11:31:51] httpx - HTTP Request: POST https://api.openai.com/v1/chat/completions \"HTTP/1.1 200 OK\"\n",
      "INFO: [2025-09-15 11:31:54] httpx - HTTP Request: POST https://api.openai.com/v1/chat/completions \"HTTP/1.1 200 OK\"\n"
     ]
    },
    {
     "name": "stdout",
     "output_type": "stream",
     "text": [
      "  Running mathematical validation...\n"
     ]
    },
    {
     "name": "stderr",
     "output_type": "stream",
     "text": [
      "INFO: [2025-09-15 11:32:03] httpx - HTTP Request: POST https://api.openai.com/v1/chat/completions \"HTTP/1.1 200 OK\"\n",
      "INFO: [2025-09-15 11:32:15] httpx - HTTP Request: POST https://api.openai.com/v1/chat/completions \"HTTP/1.1 200 OK\"\n"
     ]
    },
    {
     "name": "stdout",
     "output_type": "stream",
     "text": [
      "  No validation issues found\n",
      "\n",
      "PHASE 5: Unified Error Correction\n",
      "  No corrections needed\n",
      "\n",
      "PHASE 6: Quantitative Evaluation (Comparison-Based)\n",
      "  Biomodel: BIOMD0000000956\n",
      "  Execution Success: PASS (100%)\n",
      "  Equation Accuracy: 2/4 equations match (50.0%)\n",
      "  Overall Score: 65.0%\n",
      "  Status: NEEDS IMPROVEMENT\n",
      "\n",
      "  Non-matching equations (first 3):\n",
      "    Equation 0: Difference = (-a + alpha)*E(t)\n",
      "    Equation 1: Difference = (a - alpha)*E(t)\n",
      "============================================================\n",
      "PIPELINE COMPLETE\n",
      "============================================================\n"
     ]
    }
   ],
   "source": [
    "from mira.sources.sympy_ode.llm_util import (\n",
    "    run_multi_agent_pipeline,\n",
    "    execute_template_model_from_sympy_odes\n",
    ")\n",
    "\n",
    "corrected_ode_str, corrected_concepts, evaluation = run_multi_agent_pipeline(\n",
    "    image_path,\n",
    "    client,\n",
    "    verbose=True,\n",
    "    biomodel_name=biomodel_name\n",
    ")"
   ]
  },
  {
   "cell_type": "code",
   "execution_count": null,
   "id": "94016224",
   "metadata": {},
   "outputs": [
    {
     "name": "stdout",
     "output_type": "stream",
     "text": [
      "\n",
      "============================================================\n",
      "EVALUATION SUMMARY\n",
      "============================================================\n",
      "Overall Score: 65.00%\n",
      "Execution Success: 100%\n",
      "Equation Accuracy: 50.0%\n",
      "Equations Checked: 4\n",
      "\n",
      "============================================================\n",
      "DETAILED EQUATION COMPARISON\n",
      "============================================================\n",
      "Total Equations: 4\n",
      "Matching: 2\n",
      "Mismatched: 2\n",
      "------------------------------------------------------------\n",
      "\n",
      "[Equation 1]\n",
      "  Status: ✗ MISMATCH\n",
      "  Correct:   Eq(Derivative(E(t), t), -alpha*E(t) + beta*I(t)*S(t)/N)\n",
      "  Extracted: Eq(Derivative(E(t), t), -a*E(t) + beta*I(t)*S(t)/N)\n",
      "  Difference: (-a + alpha)*E(t)\n",
      "\n",
      "[Equation 2]\n",
      "  Status: ✗ MISMATCH\n",
      "  Correct:   Eq(Derivative(I(t), t), alpha*E(t) - gamma*I(t))\n",
      "  Extracted: Eq(Derivative(I(t), t), a*E(t) - gamma*I(t))\n",
      "  Difference: (a - alpha)*E(t)\n",
      "\n",
      "[Equation 3]\n",
      "  Status: ✓ MATCH\n",
      "  Correct:   Eq(Derivative(R(t), t), gamma*I(t))\n",
      "  Extracted: Eq(Derivative(R(t), t), gamma*I(t))\n",
      "\n",
      "[Equation 4]\n",
      "  Status: ✓ MATCH\n",
      "  Correct:   Eq(Derivative(S(t), t), -beta*I(t)*S(t)/N)\n",
      "  Extracted: Eq(Derivative(S(t), t), -beta*I(t)*S(t)/N)\n",
      "\n",
      "============================================================\n",
      "CORRECTED ODE STRING\n",
      "============================================================\n",
      "import sympy\n",
      "\n",
      "# Define time variable\n",
      "t = sympy.symbols(\"t\")\n",
      "\n",
      "# Define the time-dependent variables\n",
      "S, E, I, R = sympy.symbols(\"S E I R\", cls=sympy.Function)\n",
      "\n",
      "# Define the parameters\n",
      "beta, a, gamma, N = sympy.symbols(\"beta a gamma N\")\n",
      "\n",
      "odes = [\n",
      "    sympy.Eq(S(t).diff(t), - beta * I(t) * S(t) / N),\n",
      "    sympy.Eq(E(t).diff(t), beta * I(t) * S(t) / N - a * E(t)),\n",
      "    sympy.Eq(I(t).diff(t), a * E(t) - gamma * I(t)),\n",
      "    sympy.Eq(R(t).diff(t), gamma * I(t))\n",
      "]\n"
     ]
    }
   ],
   "source": [
    "# Results based on quantitative evaluation in the last phase of the multi-agent pipeline\n",
    "\n",
    "print(\"\\n\" + \"=\"*60)\n",
    "print(\"EVALUATION SUMMARY\")\n",
    "print(\"=\"*60)\n",
    "print(f\"Execution Success: {evaluation['execution_success_rate']:.0%}\")\n",
    "print(f\"Equation Accuracy: {evaluation['equation_accuracy_rate']:.1%}\")\n",
    "print(f\"Equations Checked: {evaluation.get('num_equations_checked', 0)}\")\n",
    "\n",
    "# Display all comparison details\n",
    "print(\"\\n\" + \"=\"*60)\n",
    "print(\"DETAILED EQUATION COMPARISON\")\n",
    "print(\"=\"*60)\n",
    "\n",
    "if 'comparison_details' in evaluation and evaluation['comparison_details']:\n",
    "    details = evaluation['comparison_details']\n",
    "    \n",
    "    # Count matches and mismatches\n",
    "    matches = sum(1 for d in details if isinstance(d, dict) and d.get('match', False))\n",
    "    mismatches = len(details) - matches\n",
    "    \n",
    "    print(f\"Total Equations: {len(details)}\")\n",
    "    print(f\"Matching: {matches}\")\n",
    "    print(f\"Mismatched: {mismatches}\")\n",
    "    print(\"-\"*60)\n",
    "    \n",
    "    # Print each equation comparison\n",
    "    for i, detail in enumerate(details):\n",
    "        if isinstance(detail, dict):\n",
    "            print(f\"\\n[Equation {i+1}]\")\n",
    "            \n",
    "            # Check if error occurred\n",
    "            if 'error' in detail:\n",
    "                print(f\"  ERROR: {detail['error']}\")\n",
    "                continue\n",
    "            \n",
    "            # Print match status\n",
    "            match_status = \"✓ MATCH\" if detail.get('match', False) else \"✗ MISMATCH\"\n",
    "            print(f\"  Status: {match_status}\")\n",
    "            \n",
    "            # Print correct equation\n",
    "            if 'correct' in detail:\n",
    "                print(f\"  Correct:   {detail['correct']}\")\n",
    "            \n",
    "            # Print extracted equation\n",
    "            if 'extracted' in detail:\n",
    "                print(f\"  Extracted: {detail['extracted']}\")\n",
    "            \n",
    "            # Print difference (if mismatch)\n",
    "            if not detail.get('match', False) and 'difference' in detail:\n",
    "                diff_str = str(detail['difference'])\n",
    "                # Truncate very long differences\n",
    "                if len(diff_str) > 200:\n",
    "                    diff_str = diff_str[:200] + \"...\"\n",
    "                print(f\"  Difference: {diff_str}\")\n",
    "else:\n",
    "    print(\"No comparison details available.\")\n",
    "    print(\"Make sure the correct equations TSV file is accessible and contains this biomodel.\")\n",
    "\n",
    "print(\"\\n\" + \"=\"*60)\n",
    "print(\"CORRECTED ODE STRING\")\n",
    "print(\"=\"*60)\n",
    "print(corrected_ode_str)"
   ]
  },
  {
   "cell_type": "code",
   "execution_count": 22,
   "id": "90e27713",
   "metadata": {},
   "outputs": [
    {
     "name": "stdout",
     "output_type": "stream",
     "text": [
      "tm type: <class 'mira.metamodel.template_model.TemplateModel'>\n",
      "tm has templates: True\n",
      "Number of templates: 3\n",
      "\n",
      "Template details:\n",
      "\n",
      "Template 0: None\n",
      "  Type: <class 'mira.metamodel.templates.ControlledConversion'>\n",
      "  Rate: no rate\n",
      "  Rate type: N/A\n",
      "  Subject: name='S' display_name=None description=None identifiers={'ido': '0000514'} context={'status': 'susceptible', 'species': 'ncbitaxon:9606'} units=None\n",
      "  Outcome: name='E' display_name=None description=None identifiers={'apollosv': '00000154'} context={'status': 'exposed', 'species': 'ncbitaxon:9606'} units=None\n",
      "\n",
      "Template 1: None\n",
      "  Type: <class 'mira.metamodel.templates.NaturalConversion'>\n",
      "  Rate: no rate\n",
      "  Rate type: N/A\n",
      "  Subject: name='E' display_name=None description=None identifiers={'apollosv': '00000154'} context={'status': 'exposed', 'species': 'ncbitaxon:9606'} units=None\n",
      "  Outcome: name='I' display_name=None description=None identifiers={'ido': '0000511'} context={'status': 'infected', 'species': 'ncbitaxon:9606'} units=None\n",
      "\n",
      "Template 2: None\n",
      "  Type: <class 'mira.metamodel.templates.NaturalConversion'>\n",
      "  Rate: no rate\n",
      "  Rate type: N/A\n",
      "  Subject: name='I' display_name=None description=None identifiers={'ido': '0000511'} context={'status': 'infected', 'species': 'ncbitaxon:9606'} units=None\n",
      "  Outcome: name='R' display_name=None description=None identifiers={'ido': '0000592'} context={'status': 'recovered', 'species': 'ncbitaxon:9606'} units=None\n"
     ]
    }
   ],
   "source": [
    "tm = execute_template_model_from_sympy_odes(\n",
    "    corrected_ode_str,\n",
    "    corrected_concepts  \n",
    ")\n",
    "\n",
    "print(\"tm type:\", type(tm))\n",
    "print(\"tm has templates:\", hasattr(tm, 'templates'))\n",
    "\n",
    "# Check what's in the templates\n",
    "print(f\"Number of templates: {len(tm.templates)}\")\n",
    "print(\"\\nTemplate details:\")\n",
    "for i, template in enumerate(tm.templates):\n",
    "    print(f\"\\nTemplate {i}: {template.name if hasattr(template, 'name') else 'unnamed'}\")\n",
    "    print(f\"  Type: {type(template)}\")\n",
    "    print(f\"  Rate: {template.rate if hasattr(template, 'rate') else 'no rate'}\")\n",
    "    print(f\"  Rate type: {type(template.rate) if hasattr(template, 'rate') else 'N/A'}\")\n",
    "    \n",
    "    # Check for transitions (if this is a transition-based template)\n",
    "    if hasattr(template, 'subject'):\n",
    "        print(f\"  Subject: {template.subject}\")\n",
    "    if hasattr(template, 'outcome'):\n",
    "        print(f\"  Outcome: {template.outcome}\")\n",
    "    if hasattr(template, 'consumed'):\n",
    "        print(f\"  Consumed: {template.consumed}\")\n",
    "    if hasattr(template, 'produced'):\n",
    "        print(f\"  Produced: {template.produced}\")"
   ]
  },
  {
   "cell_type": "code",
   "execution_count": null,
   "id": "f7590bb4",
   "metadata": {},
   "outputs": [
    {
     "name": "stdout",
     "output_type": "stream",
     "text": [
      "\n",
      "Comparison results saved to: /Users/kovacs.f/Desktop/mira/notebooks/equation extraction development/extraction error check/string mismatch check/comparison_results/BIOMD0000000956_comparison_2025-09-15_11-32-15.md\n"
     ]
    }
   ],
   "source": [
    "import os\n",
    "from datetime import datetime\n",
    "\n",
    "def save_comparison_results(\n",
    "    evaluation: dict,\n",
    "    corrected_ode_str: str,\n",
    "    corrected_concepts: dict,\n",
    "    mtx_odes_sympy: list,\n",
    "    tm,  # Template model\n",
    "    biomodel_name: str,\n",
    "    folder_path: str = \"/Users/kovacs.f/Desktop/mira/notebooks/equation extraction development/extraction error check/string mismatch check/comparison_results\"\n",
    "):\n",
    "    \"\"\"\n",
    "    Save detailed comparison results to markdown file\n",
    "    \n",
    "    Args:\n",
    "        evaluation: The evaluation dictionary from pipeline\n",
    "        corrected_ode_str: The final corrected ODE string\n",
    "        corrected_concepts: The corrected concepts dictionary\n",
    "        mtx_odes_sympy: Matrix ODEs from template model\n",
    "        tm: Template model for extracting final concepts\n",
    "        biomodel_name: Name of the biomodel\n",
    "        folder_path: Path to save results\n",
    "    \"\"\"\n",
    "    # Create folder if it doesn't exist\n",
    "    os.makedirs(folder_path, exist_ok=True)\n",
    "    \n",
    "    # Generate timestamp\n",
    "    timestamp = datetime.now().strftime(\"%Y-%m-%d_%H-%M-%S\")\n",
    "    \n",
    "    # Create filename\n",
    "    file_path = os.path.join(folder_path, f\"{biomodel_name}_comparison_{timestamp}.md\")\n",
    "    \n",
    "    with open(file_path, 'w', encoding='utf-8') as f:\n",
    "        # Header\n",
    "        f.write(f\"# Equation Extraction Comparison Report\\n\")\n",
    "        f.write(f\"## Model: {biomodel_name}\\n\")\n",
    "        f.write(f\"### Generated: {timestamp}\\n\\n\")\n",
    "        \n",
    "        # Scores\n",
    "        f.write(\"## Evaluation Scores\\n\\n\")\n",
    "        f.write(f\"- **Execution Success**: {evaluation.get('execution_success_rate', 0):.0%}\\n\")\n",
    "        f.write(f\"- **Equation Accuracy**: {evaluation.get('equation_accuracy_rate', 0):.1%}\\n\")\n",
    "        f.write(f\"- **Equations Checked**: {evaluation.get('num_equations_checked', 0)}\\n\\n\")\n",
    "        \n",
    "        # Detailed equation comparison\n",
    "        f.write(\"## Detailed Equation-by-Equation Comparison\\n\\n\")\n",
    "        \n",
    "        if 'comparison_details' in evaluation and evaluation['comparison_details']:\n",
    "            details = evaluation['comparison_details']\n",
    "            \n",
    "            # Summary statistics\n",
    "            matches = sum(1 for d in details if isinstance(d, dict) and d.get('match', False))\n",
    "            mismatches = len(details) - matches\n",
    "            \n",
    "            f.write(f\"**Summary**: {matches}/{len(details)} equations match correctly\\n\\n\")\n",
    "            \n",
    "            # Each equation\n",
    "            for i, detail in enumerate(details):\n",
    "                if isinstance(detail, dict):\n",
    "                    f.write(f\"### Equation {i+1}\\n\\n\")\n",
    "                    \n",
    "                    # Handle errors\n",
    "                    if 'error' in detail:\n",
    "                        f.write(f\"**ERROR**: {detail['error']}\\n\\n\")\n",
    "                        continue\n",
    "                    \n",
    "                    # Match status\n",
    "                    match_status = \"**MATCH**\" if detail.get('match', False) else \"**MISMATCH**\"\n",
    "                    f.write(f\"**Status**: {match_status}\\n\\n\")\n",
    "                    \n",
    "                    # Equations\n",
    "                    if 'correct' in detail:\n",
    "                        f.write(f\"**Ground Truth**:\\n```python\\n{detail['correct']}\\n```\\n\\n\")\n",
    "                    \n",
    "                    if 'extracted' in detail:\n",
    "                        f.write(f\"**Extracted**:\\n```python\\n{detail['extracted']}\\n```\\n\\n\")\n",
    "                    \n",
    "                    # Difference (if mismatch)\n",
    "                    if not detail.get('match', False) and 'difference' in detail:\n",
    "                        f.write(f\"**Difference**:\\n```python\\n{detail['difference']}\\n```\\n\\n\")\n",
    "                    \n",
    "                    f.write(\"---\\n\\n\")\n",
    "        else:\n",
    "            f.write(\"No comparison details available.\\n\\n\")\n",
    "        \n",
    "        # Corrected ODE string\n",
    "        f.write(\"## Final Corrected ODE String\\n\\n\")\n",
    "        f.write(\"```python\\n\")\n",
    "        f.write(corrected_ode_str)\n",
    "        f.write(\"\\n```\\n\\n\")\n",
    "        \n",
    "        # Matrix ODEs from template model\n",
    "        if mtx_odes_sympy:\n",
    "            f.write(\"## Template Model Matrix ODEs\\n\\n\")\n",
    "            f.write(\"```python\\n\")\n",
    "            for eq in mtx_odes_sympy:\n",
    "                f.write(f\"{eq}\\n\")\n",
    "            f.write(\"```\\n\\n\")\n",
    "\n",
    "        # Template model concepts\n",
    "        f.write(\"## Template Model Concepts\\n\\n\")\n",
    "        if tm and hasattr(tm, 'get_concepts_map'):\n",
    "            concepts_map = tm.get_concepts_map()\n",
    "            if concepts_map:\n",
    "                f.write(\"| Concept Name | Identifiers | Context |\\n\")\n",
    "                f.write(\"|--------------|-------------|----------|\\n\")\n",
    "                for concept in concepts_map.values():\n",
    "                    name = concept.name if hasattr(concept, 'name') else 'N/A'\n",
    "                    identifiers = str(concept.identifiers) if hasattr(concept, 'identifiers') else 'N/A'\n",
    "                    context = str(concept.context) if hasattr(concept, 'context') else 'N/A'\n",
    "                    # Escape pipe characters in cell content\n",
    "                    identifiers = identifiers.replace('|', '\\\\|')\n",
    "                    context = context.replace('|', '\\\\|')\n",
    "                    f.write(f\"| {name} | {identifiers} | {context} |\\n\")\n",
    "                f.write(\"\\n\")\n",
    "            else:\n",
    "                f.write(\"No concepts in template model.\\n\\n\")\n",
    "        else:\n",
    "            f.write(\"Template model not available or has no concepts.\\n\\n\")\n",
    "    \n",
    "        \n",
    "        # Error details if present\n",
    "        if 'error' in evaluation:\n",
    "            f.write(\"## Errors\\n\\n\")\n",
    "            f.write(f\"**Error**: {evaluation['error']}\\n\\n\")\n",
    "        return file_path\n",
    "\n",
    "\n",
    "file_path = save_comparison_results(\n",
    "    evaluation=evaluation,\n",
    "    corrected_ode_str=corrected_ode_str,\n",
    "    corrected_concepts=corrected_concepts,\n",
    "    mtx_odes_sympy=mtx_odes_sympy,\n",
    "    tm=tm, \n",
    "    biomodel_name=biomodel_name,\n",
    "    folder_path='/Users/kovacs.f/Desktop/mira/notebooks/equation extraction development/extraction error check/string mismatch check/comparison_results'\n",
    ")\n",
    "\n",
    "print(f\"\\nComparison results saved to: {file_path}\")"
   ]
  },
  {
   "cell_type": "code",
   "execution_count": 24,
   "id": "86d1ffe5-6792-4b63-8fd7-e5477efc9f6d",
   "metadata": {},
   "outputs": [
    {
     "name": "stdout",
     "output_type": "stream",
     "text": [
      "\n",
      "Matrix ODEs:\n",
      "  Eq(Derivative(S(t), t), -beta*I(t)*S(t)/N)\n",
      "  Eq(Derivative(I(t), t), a*E(t) - gamma*I(t))\n",
      "  Eq(Derivative(E(t), t), -a*E(t) + beta*I(t)*S(t)/N)\n",
      "  Eq(Derivative(R(t), t), gamma*I(t))\n"
     ]
    }
   ],
   "source": [
    "from mira.modeling import Model\n",
    "from mira.modeling.ode import OdeModel\n",
    "om = OdeModel(Model(tm), initialized=True)\n",
    "mtx_sympy = om.get_interpretable_kinetics()\n",
    "\n",
    "mtx_odes_sympy = []\n",
    "for i in range(mtx_sympy.shape[0]):\n",
    "    lhs = mtx_sympy[i,0]\n",
    "    rhs = mtx_sympy[i,2]\n",
    "    mtx_odes_sympy.append(sympy.Eq(lhs, rhs))\n",
    "\n",
    "mtx_odes_sympy = convert_to_function_notation(mtx_odes_sympy)\n",
    "\n",
    "\n",
    "print(\"\\nMatrix ODEs:\")\n",
    "for eq in mtx_odes_sympy:\n",
    "    print(f\"  {eq}\")"
   ]
  },
  {
   "cell_type": "code",
   "execution_count": 25,
   "id": "cd210de1-c2c4-4b21-8ffc-7b446d80e213",
   "metadata": {},
   "outputs": [
    {
     "name": "stdout",
     "output_type": "stream",
     "text": [
      "concept name\tidentifiers\tcontext\n",
      "S\t{'ido': '0000514'}\t{'status': 'susceptible', 'species': 'ncbitaxon:9606'}\n",
      "E\t{'apollosv': '00000154'}\t{'status': 'exposed', 'species': 'ncbitaxon:9606'}\n",
      "I\t{'ido': '0000511'}\t{'status': 'infected', 'species': 'ncbitaxon:9606'}\n",
      "R\t{'ido': '0000592'}\t{'status': 'recovered', 'species': 'ncbitaxon:9606'}\n"
     ]
    }
   ],
   "source": [
    "# Check the concepts\n",
    "print('concept name\\tidentifiers\\tcontext')\n",
    "for concept in tm.get_concepts_map().values():\n",
    "    print(f'{concept.name}\\t{concept.identifiers}\\t{concept.context}')"
   ]
  }
 ],
 "metadata": {
  "kernelspec": {
   "display_name": "Python (mira)",
   "language": "python",
   "name": "mira"
  },
  "language_info": {
   "codemirror_mode": {
    "name": "ipython",
    "version": 3
   },
   "file_extension": ".py",
   "mimetype": "text/x-python",
   "name": "python",
   "nbconvert_exporter": "python",
   "pygments_lexer": "ipython3",
   "version": "3.13.5"
  }
 },
 "nbformat": 4,
 "nbformat_minor": 5
}
