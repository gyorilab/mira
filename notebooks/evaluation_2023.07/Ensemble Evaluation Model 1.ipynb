{
 "cells": [
  {
   "cell_type": "markdown",
   "id": "fb2a465d",
   "metadata": {},
   "source": [
    "This model is based on the Scenario 1 notebook."
   ]
  },
  {
   "cell_type": "markdown",
   "id": "a9862651",
   "metadata": {},
   "source": [
    "def SEIRHD_Model(y, t, N, beta, r_I_to_R, r_I_to_H, r_E_to_I, r_H_to_R, r_H_to_D, p_I_to_H, p_I_to_R, p_H_to_D, p_H_to_R):\n",
    "    S, E, I, R, H, D = y\n",
    "\n",
    "    dSdt = -beta * I * S / N\n",
    "    dEdt = beta* I * S / N - r_E_to_I * E\n",
    "    dIdt = r_E_to_I * E - (r_I_to_H * p_I_to_H) * I - (r_I_to_R * p_I_to_R * I)\n",
    "    dRdt = (r_I_to_R * p_I_to_R * I) + (r_H_to_R * p_H_to_R * H)\n",
    "    dHdt = (r_I_to_H * p_I_to_H * I) - (r_H_to_D * p_H_to_D * H)  - (r_H_to_R * p_H_to_R * H)\n",
    "    dDdt = r_H_to_D * p_H_to_D * H\n",
    "    return dSdt, dEdt, dIdt, dRdt, dHdt, dDdt"
   ]
  },
  {
   "cell_type": "code",
   "execution_count": 1,
   "id": "5361b3d4",
   "metadata": {},
   "outputs": [],
   "source": [
    "import sympy\n",
    "from copy import deepcopy as _d\n",
    "from mira.metamodel import *\n",
    "from mira.modeling import Model\n",
    "from mira.modeling.askenet.petrinet import AskeNetPetriNetModel\n",
    "# from mira.modeling.viz import GraphicalModel\n",
    "import jsonschema\n",
    "import itertools as itt\n",
    "from tqdm.auto import tqdm\n",
    "from collections import defaultdict\n",
    "import requests\n",
    "from sympy import IndexedBase, Indexed\n",
    "from datetime import datetime"
   ]
  },
  {
   "cell_type": "code",
   "execution_count": 2,
   "id": "a8e5ed06",
   "metadata": {},
   "outputs": [
    {
     "data": {
      "text/plain": [
       "'07-19 09:52'"
      ]
     },
     "execution_count": 2,
     "metadata": {},
     "output_type": "execute_result"
    }
   ],
   "source": [
    "now = datetime.now().strftime(\"%m-%d %H:%M\")\n",
    "now"
   ]
  },
  {
   "cell_type": "code",
   "execution_count": 36,
   "id": "ddf624eb",
   "metadata": {},
   "outputs": [
    {
     "data": {
      "text/plain": [
       "<Response [500]>"
      ]
     },
     "execution_count": 36,
     "metadata": {},
     "output_type": "execute_result"
    }
   ],
   "source": [
    "associate(\"37\", \"5ebfee94-ab41-4ba0-b6a6-045d04d457bd\")"
   ]
  },
  {
   "cell_type": "code",
   "execution_count": 31,
   "id": "8aac4fed",
   "metadata": {},
   "outputs": [],
   "source": [
    "import requests\n",
    "\n",
    "def associate(project_id, model_id) -> requests.Response:\n",
    "    x = f\"http://data-service.staging.terarium.ai/projects/{project_id}/assets/models/{model_id}\"\n",
    "    res = requests.post(x)\n",
    "    return res\n",
    "\n",
    "def post_terarium(template_model, project_id=None) -> requests.Response:\n",
    "    \"\"\"Post a model to terarium.\"\"\"\n",
    "    am = AskeNetPetriNetModel(Model(template_model))\n",
    "    sanity_check_amr(am.to_json())\n",
    "    return post_terarium_amr(am.to_json(), project_id=project_id)\n",
    "    \n",
    "def post_terarium_amr(amr, project_id=None) -> requests.Response:\n",
    "    res = requests.post(\"http://data-service.staging.terarium.ai/models\", json=amr)\n",
    "    if isinstance(project_id, int):\n",
    "        associate(project_id, res.json()[\"id\"])\n",
    "    elif isinstance(project_id, list):\n",
    "        for i in project_id:\n",
    "            associate(project_id, res.json()[\"id\"])\n",
    "    return res\n",
    "\n",
    "def post_terarium_remote(model_url, project_id=None) -> requests.Response:\n",
    "    model_amr_json = requests.get(model_url).json()\n",
    "    return post_terarium_amr(model_amr_json, project_id=project_id)"
   ]
  },
  {
   "cell_type": "code",
   "execution_count": 4,
   "id": "6112580f",
   "metadata": {},
   "outputs": [],
   "source": [
    "def sanity_check_tm(tm: TemplateModel):\n",
    "    assert tm.templates\n",
    "    all_concept_names = set(tm.get_concepts_name_map())\n",
    "    all_parameter_names = set(tm.parameters)\n",
    "    all_symbols = all_concept_names | all_parameter_names | ({tm.time.name} if tm.time else set())\n",
    "    for template in tm.templates:\n",
    "        assert template.rate_law\n",
    "        symbols = template.rate_law.args[0].free_symbols\n",
    "        for symbol in symbols:\n",
    "            assert symbol.name in all_symbols, f\"missing symbol: {symbol.name}\"\n",
    "    all_initial_names = {init.concept.name for init in tm.initials.values()}\n",
    "    for concept in all_concept_names:\n",
    "        assert concept in all_initial_names"
   ]
  },
  {
   "cell_type": "code",
   "execution_count": 5,
   "id": "8751d4ec",
   "metadata": {},
   "outputs": [],
   "source": [
    "def sanity_check_amr(amr_json):\n",
    "    import requests\n",
    "\n",
    "    assert \"schema\" in amr_json\n",
    "    schema_json = requests.get(amr_json[\"schema\"]).json()\n",
    "    jsonschema.validate(schema_json, amr_json)"
   ]
  },
  {
   "cell_type": "code",
   "execution_count": 6,
   "id": "8ecb058f",
   "metadata": {},
   "outputs": [],
   "source": [
    "STATUSES = [\n",
    "    \"unvaccinated\",\n",
    "    \"vaccinated\",\n",
    "]\n",
    "AGES = [\n",
    "    \"0-19\",\n",
    "    \"20-49\",\n",
    "    \"50-64\",\n",
    "    \"65\",\n",
    "]\n",
    "VARIANTS = [\n",
    "    \"wild\",\n",
    "    \"delta\",\n",
    "    \"omicron\",\n",
    "]"
   ]
  },
  {
   "cell_type": "code",
   "execution_count": 7,
   "id": "f9f3933c",
   "metadata": {},
   "outputs": [],
   "source": [
    "person_units = lambda: Unit(expression=sympy.Symbol(\"person\"))\n",
    "day_units = lambda: Unit(expression=sympy.Symbol(\"day\"))\n",
    "per_day_units = lambda: Unit(expression=1 / sympy.Symbol(\"day\"))\n",
    "dimensionless_units = lambda: Unit(expression=sympy.Integer(\"1\"))\n",
    "per_day_per_person_units = lambda: Unit(\n",
    "    expression=1 / (sympy.Symbol(\"day\") * sympy.Symbol(\"person\"))\n",
    ")\n",
    "\n",
    "BASE_CONCEPTS = {\n",
    "    \"S\": Concept(name=\"S\", units=person_units(), identifiers={\"ido\": \"0000514\"}),\n",
    "    \"E\": Concept(name=\"E\", units=person_units(), identifiers={\"apollosv\": \"0000154\"}),\n",
    "    \"I\": Concept(name=\"I\", units=person_units(), identifiers={\"ido\": \"0000511\"}),\n",
    "    \"R\": Concept(name=\"R\", units=person_units(), identifiers={\"ido\": \"0000592\"}),\n",
    "    \"H\": Concept(\n",
    "        name=\"H\",\n",
    "        units=person_units(),\n",
    "        identifiers={\"ido\": \"0000511\"},\n",
    "        context={\"property\": \"ncit:C25179\"},\n",
    "    ),\n",
    "    \"D\": Concept(name=\"D\", units=person_units(), identifiers={\"ncit\": \"C28554\"}),\n",
    "}\n",
    "\n",
    "\n",
    "N_val = 19_340_000\n",
    "E_val = 1\n",
    "I_val = 4\n",
    "R_0 = 2.6\n",
    "gamma_val = 1/5\n",
    "\n",
    "BASE_PARAMETERS = {\n",
    "    \"gamma\":  Parameter(name=\"gamma\", value=gamma_val, units=per_day_units()),\n",
    "    \"eta\": Parameter(name=\"eta\", value=0.1, units=dimensionless_units()),\n",
    "    \"mu\":  Parameter(name=\"mu\", value=0.003, units=dimensionless_units()),\n",
    "    \"lr\":  Parameter(name=\"lr\", value=5, units=day_units()), # average time to recovery (duration of hospital stay if they recover)\n",
    "    \"ld\":  Parameter(name=\"ld\", value=9.25, units=day_units()), # average time to recovery (duration of hospital stay if they die)\n",
    "    \"rho\": Parameter(name=\"rho\", value=1/2, units=per_day_units()),\n",
    "    \"q\": Parameter(name=\"q\", value=R_0 * gamma_val, units=dimensionless_units()), # transmission probability\n",
    "    \"d\": Parameter(name=\"d\", value=1/N_val, units=per_day_per_person_units()), # scaled contact rate\n",
    "    \"phi\": Parameter(name=\"phi\", value=1.0, units=dimensionless_units()), # host susceptibility\n",
    "    \"chi\": Parameter(name=\"chi\", value=1.0, units=dimensionless_units()), # relative transmissibility of variant\n",
    "\n",
    "}\n",
    "\n",
    "BASE_INITIALS = {\n",
    "    \"S\": Initial(concept=Concept(name=\"S\"), value=N_val - (E_val + I_val)),\n",
    "    \"E\": Initial(concept=Concept(name=\"E\"), value=E_val),\n",
    "    \"I\": Initial(concept=Concept(name=\"I\"), value=I_val),\n",
    "    \"R\": Initial(concept=Concept(name=\"R\"), value=0),\n",
    "    \"H\": Initial(concept=Concept(name=\"H\"), value=0),\n",
    "    \"D\": Initial(concept=Concept(name=\"D\"), value=0),\n",
    "}\n",
    "\n",
    "observables = {}"
   ]
  },
  {
   "cell_type": "code",
   "execution_count": 8,
   "id": "f16901bc",
   "metadata": {},
   "outputs": [],
   "source": [
    "# make function to do this automatically\n",
    "(\n",
    "    S,\n",
    "    E,\n",
    "    I,\n",
    "    R,\n",
    "    D,\n",
    "    H,\n",
    "    q,\n",
    "    d,  # d eats the N\n",
    "    rho, # r_E_to_I,\n",
    "    gamma,\n",
    "    eta,\n",
    "    mu,\n",
    "    lr,\n",
    "    ld,\n",
    "    chi,\n",
    "    phi,\n",
    ") = sympy.symbols(\n",
    "    \"S E I R D H q d rho gamma eta mu lr ld chi phi\"\n",
    ")"
   ]
  },
  {
   "cell_type": "code",
   "execution_count": 9,
   "id": "415f6198",
   "metadata": {},
   "outputs": [],
   "source": [
    "ORDER = [\"age\", \"variant\", \"status\"]\n",
    "STRATA = {\n",
    "    \"age\": AGES, \n",
    "    \"variant\": VARIANTS,\n",
    "    \"status\": STATUSES,\n",
    "}\n",
    "\n",
    "stratification_config = {\n",
    "    \"S\": [\"age\", \"status\"],\n",
    "    \"E\": [\"age\", \"variant\", \"status\"],\n",
    "    \"I\": [\"age\", \"variant\", \"status\"],\n",
    "    \"R\": [\"age\", \"variant\", \"status\"],\n",
    "    \"H\": [\"age\", \"variant\", \"status\"],\n",
    "    \"D\": [\"age\", \"variant\", \"status\"],\n",
    "}\n",
    "\n",
    "param_stratification_config = {\n",
    "    \"d\": [\"age\", \"age\"],\n",
    "    \"eta\": [\"age\", \"variant\", \"status\"],\n",
    "    \"mu\": [\"age\", \"variant\", \"status\"],\n",
    "    \"ld\": [\"age\"],\n",
    "    \"lr\": [\"age\"],\n",
    "    \"phi\": [\"status\"],\n",
    "    \"chi\": [\"variant\"],\n",
    "}\n",
    "\n",
    "\n",
    "templates = []"
   ]
  },
  {
   "cell_type": "code",
   "execution_count": 10,
   "id": "3d08d10a",
   "metadata": {},
   "outputs": [
    {
     "data": {
      "text/plain": [
       "['age', 'status']"
      ]
     },
     "execution_count": 10,
     "metadata": {},
     "output_type": "execute_result"
    }
   ],
   "source": [
    "stratification_config[\"S\"]"
   ]
  },
  {
   "cell_type": "code",
   "execution_count": 11,
   "id": "39b17fcc",
   "metadata": {},
   "outputs": [
    {
     "data": {
      "text/plain": [
       "[(('E', '3', '2', '0'),\n",
       "  Concept(name='E_3_2_0', display_name=None, description=None, identifiers={'apollosv': '0000154'}, context={'age': '3', 'variant': '2', 'status': '0'}, units=Unit(expression=person))),\n",
       " (('E', '3', '2', '1'),\n",
       "  Concept(name='E_3_2_1', display_name=None, description=None, identifiers={'apollosv': '0000154'}, context={'age': '3', 'variant': '2', 'status': '1'}, units=Unit(expression=person))),\n",
       " (('I', '0', '0', '0'),\n",
       "  Concept(name='I_0_0_0', display_name=None, description=None, identifiers={'ido': '0000511'}, context={'age': '0', 'variant': '0', 'status': '0'}, units=Unit(expression=person))),\n",
       " (('I', '0', '0', '1'),\n",
       "  Concept(name='I_0_0_1', display_name=None, description=None, identifiers={'ido': '0000511'}, context={'age': '0', 'variant': '0', 'status': '1'}, units=Unit(expression=person))),\n",
       " (('I', '0', '1', '0'),\n",
       "  Concept(name='I_0_1_0', display_name=None, description=None, identifiers={'ido': '0000511'}, context={'age': '0', 'variant': '1', 'status': '0'}, units=Unit(expression=person)))]"
      ]
     },
     "execution_count": 11,
     "metadata": {},
     "output_type": "execute_result"
    }
   ],
   "source": [
    "# Index all p\n",
    "concepts = {}\n",
    "\n",
    "for concept, labels in stratification_config.items():\n",
    "    for keys in itt.product(*(\n",
    "        zip(itt.repeat(label), enumerate(STRATA[label]))\n",
    "        for label in labels\n",
    "    )):\n",
    "        d = {\n",
    "            key: str(idx)\n",
    "            for key, (idx, label) in keys\n",
    "        }\n",
    "        idx = tuple(d[k] for k in ORDER if k in d) \n",
    "        concept_copy = _d(BASE_CONCEPTS[concept]).with_context(**d, do_rename=False)\n",
    "        concept_copy.name = f\"{concept_copy.name}_\" + \"_\".join(idx)\n",
    "        concepts[(concept, *idx)] = concept_copy\n",
    "        \n",
    "list(concepts.items())[30:35]   "
   ]
  },
  {
   "cell_type": "code",
   "execution_count": 12,
   "id": "34025081",
   "metadata": {},
   "outputs": [],
   "source": [
    "initials = {}\n",
    "for concept in concepts.values():\n",
    "    orig_key = concept.name.split(\"_\")[0]\n",
    "    initials[concept.name] =  Initial(\n",
    "        concept=concept, value=BASE_INITIALS[orig_key].value\n",
    "    )"
   ]
  },
  {
   "cell_type": "code",
   "execution_count": 13,
   "id": "bd86f755",
   "metadata": {},
   "outputs": [],
   "source": [
    "concept_to_strata = defaultdict(list)\n",
    "for idx, concept in concepts.items():\n",
    "    concept_to_strata[idx[0]].append(concept)\n",
    "    \n",
    "    \n",
    "def concept_strata_prod(*variables: str):\n",
    "    yield from itt.product(*(\n",
    "        concept_to_strata[variable]\n",
    "        for variable in variables\n",
    "    ))"
   ]
  },
  {
   "cell_type": "code",
   "execution_count": 14,
   "id": "53cbb107",
   "metadata": {},
   "outputs": [],
   "source": [
    "# Index all possible parameters with the name as the \n",
    "parameters = {\n",
    "    \"rho\": Parameter(name=\"rho\", value=1/2, units=per_day_units()),\n",
    "    \"q\": Parameter(name=\"q\", value=R_0 * gamma_val, units=dimensionless_units()), # transmission probability\n",
    "    \"gamma\":  Parameter(name=\"gamma\", value=gamma_val, units=per_day_units()),\n",
    "}\n",
    "for parameter, labels in param_stratification_config.items():\n",
    "    for keys in itt.product(*(\n",
    "        zip(itt.repeat(label), enumerate(STRATA[label]))\n",
    "        for label in labels\n",
    "    )):\n",
    "        d = defaultdict(list)\n",
    "        for key, (idx, label) in keys:\n",
    "            d[key].append(str(idx))\n",
    "        d = dict(d)\n",
    "        idx = tuple(itt.chain.from_iterable(d[k] for k in ORDER if k in d))\n",
    "        p = _d(BASE_PARAMETERS[parameter])\n",
    "        p.name = f\"{p.name}_\" + \"_\".join(idx)\n",
    "        parameters[(parameter, *idx)] = p\n",
    "        \n",
    "parameter_to_strata = defaultdict(list)\n",
    "for idx, parameter in parameters.items():\n",
    "    parameter_to_strata[idx[0]].append(parameter)\n",
    "        \n",
    "# parameters.values()"
   ]
  },
  {
   "cell_type": "code",
   "execution_count": 15,
   "id": "887fbf75",
   "metadata": {},
   "outputs": [
    {
     "data": {
      "text/plain": [
       "('0', '0')"
      ]
     },
     "execution_count": 15,
     "metadata": {},
     "output_type": "execute_result"
    }
   ],
   "source": [
    "def context_idx(concept):\n",
    "    return tuple(\n",
    "        concept.context[part]\n",
    "        for part in stratification_config[concept.name.split(\"_\")[0]]\n",
    "    )\n",
    "context_idx(concepts['S', '0', '0'])"
   ]
  },
  {
   "cell_type": "code",
   "execution_count": 16,
   "id": "41f554ae",
   "metadata": {},
   "outputs": [
    {
     "data": {
      "text/latex": [
       "$\\displaystyle S_{0 0}$"
      ],
      "text/plain": [
       "S_0_0"
      ]
     },
     "execution_count": 16,
     "metadata": {},
     "output_type": "execute_result"
    }
   ],
   "source": [
    "def c_symbol(concept):\n",
    "    return sympy.Symbol(concept.name)\n",
    "\n",
    "c_symbol(concepts['S', '0', '0'])"
   ]
  },
  {
   "cell_type": "code",
   "execution_count": 17,
   "id": "21376d9e",
   "metadata": {},
   "outputs": [],
   "source": [
    "def force_of_infection_component(e, i):\n",
    "    return (\n",
    "        q \n",
    "        * sympy.Symbol(\"chi_\" + e.context[\"variant\"])\n",
    "        * sympy.Symbol(\"phi_\" + e.context[\"status\"])\n",
    "        * sympy.Symbol(\"d_\" + i.context[\"age\"] + \"_\" + i.context[\"age\"])\n",
    "        * c_symbol(i)\n",
    "    )"
   ]
  },
  {
   "cell_type": "code",
   "execution_count": 18,
   "id": "bf951de9",
   "metadata": {},
   "outputs": [],
   "source": [
    "templates = []"
   ]
  },
  {
   "cell_type": "code",
   "execution_count": null,
   "id": "99c3eb05",
   "metadata": {},
   "outputs": [],
   "source": []
  },
  {
   "cell_type": "code",
   "execution_count": 19,
   "id": "07ae0859",
   "metadata": {},
   "outputs": [
    {
     "data": {
      "application/vnd.jupyter.widget-view+json": {
       "model_id": "73ea790830204395a473dd93c7accd4a",
       "version_major": 2,
       "version_minor": 0
      },
      "text/plain": [
       "0.00it [00:00, ?it/s]"
      ]
     },
     "metadata": {},
     "output_type": "display_data"
    }
   ],
   "source": [
    "def not_conserved(c1, c2):\n",
    "    return not all(\n",
    "        c1.context[key] == c2.context[key]\n",
    "        for key in ORDER\n",
    "        if key in c1.context and key in c2.context \n",
    "    )\n",
    "    \n",
    "#t1 = ControlledConversion(\n",
    "#    subject=c[\"S\"], outcome=c[\"E\"], controller=c[\"I\"], rate_law=S * I * q * d\n",
    "#)\n",
    "for s, e, i in tqdm(\n",
    "    concept_strata_prod(\"S\", \"E\", \"I\"),\n",
    "    unit_scale=True,\n",
    "):\n",
    "    if not_conserved(s, e):\n",
    "        continue\n",
    "    if e.context[\"variant\"] != i.context[\"variant\"]:\n",
    "        continue\n",
    "    infection = ControlledConversion(\n",
    "        subject=s, outcome=e, controller=i, \n",
    "        rate_law=c_symbol(s) * force_of_infection_component(e, i)\n",
    "    )\n",
    "    templates.append(infection)"
   ]
  },
  {
   "cell_type": "code",
   "execution_count": 20,
   "id": "d1ca84ff",
   "metadata": {},
   "outputs": [],
   "source": [
    "# do param lookup based on output\n",
    "\n",
    "\n",
    "# t2 = NaturalConversion(subject=c[\"E\"], outcome=c[\"I\"], rate_law=rho * E)\n",
    "for e, i in concept_strata_prod(\"E\", \"I\"):\n",
    "    if not_conserved(e, i):\n",
    "        continue\n",
    "    t2 = NaturalConversion(\n",
    "        subject=e, outcome=i, \n",
    "        rate_law=sympy.Symbol(BASE_PARAMETERS['rho'].name) * c_symbol(e)\n",
    "    )\n",
    "    templates.append(t2)"
   ]
  },
  {
   "cell_type": "code",
   "execution_count": 21,
   "id": "cdceea93",
   "metadata": {},
   "outputs": [],
   "source": [
    "#t3 = NaturalConversion(subject=c[\"I\"], outcome=c[\"R\"], rate_law=gamma * (1 - eta) * I)\n",
    "for i, r in concept_strata_prod(\"I\", \"R\"):\n",
    "    if not_conserved(i, r):\n",
    "        continue\n",
    "    t3 = NaturalConversion(\n",
    "        subject=i, outcome=r, \n",
    "        rate_law=(\n",
    "            sympy.Symbol(BASE_PARAMETERS['gamma'].name)\n",
    "            * (1 - sympy.Symbol(parameters[('eta', *context_idx(r))].name)) \n",
    "            * c_symbol(i)\n",
    "        )\n",
    "    )\n",
    "    templates.append(t3)"
   ]
  },
  {
   "cell_type": "code",
   "execution_count": 22,
   "id": "dace5297",
   "metadata": {},
   "outputs": [],
   "source": [
    "#t4 = NaturalConversion(subject=c[\"I\"], outcome=c[\"H\"], rate_law=gamma * eta * I)\n",
    "for i, h in concept_strata_prod(\"I\", \"H\"):\n",
    "    if not_conserved(i, h):\n",
    "        continue\n",
    "    t4 = NaturalConversion(\n",
    "        subject=i, outcome=h, \n",
    "        rate_law=(\n",
    "            sympy.Symbol(BASE_PARAMETERS['gamma'].name)\n",
    "            * sympy.Symbol(parameters[('eta', *context_idx(h))].name)\n",
    "            * c_symbol(i)\n",
    "        )\n",
    "    )\n",
    "    templates.append(t4)"
   ]
  },
  {
   "cell_type": "code",
   "execution_count": 23,
   "id": "30c7da93",
   "metadata": {},
   "outputs": [],
   "source": [
    "#t5 = NaturalConversion(subject=c[\"H\"], outcome=c[\"R\"], rate_law=(1-mu) * H / lr)\n",
    "for h, r in concept_strata_prod(\"H\", \"R\"):\n",
    "    if not_conserved(h, r):\n",
    "        continue\n",
    "    t5 = NaturalConversion(\n",
    "        subject=h, outcome=r, \n",
    "        rate_law=(\n",
    "            (1 - sympy.Symbol(parameters[('mu', *context_idx(r))].name)) \n",
    "            * c_symbol(h) / sympy.Symbol(parameters['lr', r.context['age']].name)\n",
    "        )\n",
    "    )\n",
    "    templates.append(t5)"
   ]
  },
  {
   "cell_type": "code",
   "execution_count": 24,
   "id": "a4284afa",
   "metadata": {},
   "outputs": [],
   "source": [
    "#t6 = NaturalConversion(subject=c[\"H\"], outcome=c[\"D\"], rate_law=mu * H / ld)\n",
    "for h, d in concept_strata_prod(\"H\", \"D\"):\n",
    "    if not_conserved(h, d):\n",
    "        continue\n",
    "    t6 = NaturalConversion(\n",
    "        subject=h, outcome=d, \n",
    "        rate_law=(\n",
    "            sympy.Symbol(parameters[('mu', *context_idx(d))].name)\n",
    "            * c_symbol(h) \n",
    "            / sympy.Symbol(parameters[('ld', d.context['age'])].name)\n",
    "        )\n",
    "    )\n",
    "    templates.append(t6)"
   ]
  },
  {
   "cell_type": "code",
   "execution_count": 25,
   "id": "94984896",
   "metadata": {},
   "outputs": [],
   "source": [
    "model = TemplateModel(\n",
    "    templates=templates,\n",
    "    parameters={p.name:p for p in parameters.values()},\n",
    "    initials=initials,\n",
    "    time=Time(name=\"t\", units=day_units()),\n",
    "    observables=observables,\n",
    "    annotations=Annotations(\n",
    "        name=f\"Toby's Great Adventure SEIRHD {now}\",\n",
    "        description=\"\"\"\\\n",
    "        This model has been stratified by age (4 ways),\n",
    "        variant (3 ways), and vaccine status (2 ways).\n",
    "\n",
    "        The naming convention is to have the base\n",
    "        population type (e.g., S, E, I) followed by underscores\n",
    "        in the order of age, variant, disase status. All compartments\n",
    "        are stratified by all three except for the S compartment, which\n",
    "        is only stratified by age and status.\n",
    "\n",
    "        Because death is stratified, it might be useful to create observables\n",
    "        which e.g. take the sum over all statuses/ages/variants.\n",
    "\n",
    "        We used numerical indexes (encoded as strings) for each of the age,\n",
    "        variants, and statuses.\n",
    "\n",
    "        - Status: (0) unvaccinated and (1) vaccinated\n",
    "        - Ages: (0) for 0-19, (1) for 20-49, (2) for 50-64, and (3) for 65+\n",
    "        - Variants: (0) wild, (1) delta, and (2) omicron\n",
    "        \"\"\",\n",
    "    ),\n",
    ")\n",
    "sanity_check_tm(model)\n",
    "am = AskeNetPetriNetModel(Model(model))\n",
    "sanity_check_amr(am.to_json())\n",
    "am.to_json_file(\"toby_seirhd.json\")"
   ]
  },
  {
   "cell_type": "code",
   "execution_count": 26,
   "id": "780dc532",
   "metadata": {},
   "outputs": [
    {
     "data": {
      "text/plain": [
       "{'id': 'ee118cde-903e-4826-ad19-d2d9346c372e'}"
      ]
     },
     "execution_count": 26,
     "metadata": {},
     "output_type": "execute_result"
    }
   ],
   "source": [
    "res_json = post_terarium(model).json()\n",
    "res_json"
   ]
  },
  {
   "cell_type": "code",
   "execution_count": 27,
   "id": "bdb83ae1",
   "metadata": {},
   "outputs": [
    {
     "data": {
      "text/plain": [
       "{'id': 705}"
      ]
     },
     "execution_count": 27,
     "metadata": {},
     "output_type": "execute_result"
    }
   ],
   "source": [
    "res = associate(\"46\", res_json[\"id\"])  # ensemble project\n",
    "res.json()"
   ]
  },
  {
   "cell_type": "code",
   "execution_count": 28,
   "id": "cf6738c4",
   "metadata": {},
   "outputs": [
    {
     "data": {
      "text/plain": [
       "{'id': 706}"
      ]
     },
     "execution_count": 28,
     "metadata": {},
     "output_type": "execute_result"
    }
   ],
   "source": [
    "res = associate(\"52\", res_json[\"id\"])  # toby project\n",
    "res.json()"
   ]
  },
  {
   "cell_type": "code",
   "execution_count": 29,
   "id": "7fa02a13",
   "metadata": {},
   "outputs": [],
   "source": [
    "# GraphicalModel.for_jupyter(tm)"
   ]
  },
  {
   "cell_type": "markdown",
   "id": "acff66f3",
   "metadata": {},
   "source": [
    "# Step 1 - Stratify By Age"
   ]
  },
  {
   "cell_type": "code",
   "execution_count": 30,
   "id": "eb2554c7",
   "metadata": {},
   "outputs": [
    {
     "ename": "NameError",
     "evalue": "name 'model_1' is not defined",
     "output_type": "error",
     "traceback": [
      "\u001b[0;31m---------------------------------------------------------------------------\u001b[0m",
      "\u001b[0;31mNameError\u001b[0m                                 Traceback (most recent call last)",
      "Cell \u001b[0;32mIn[30], line 2\u001b[0m\n\u001b[1;32m      1\u001b[0m model_2 \u001b[38;5;241m=\u001b[39m stratify(\n\u001b[0;32m----> 2\u001b[0m     \u001b[43mmodel_1\u001b[49m,\n\u001b[1;32m      3\u001b[0m     key\u001b[38;5;241m=\u001b[39m\u001b[38;5;124m\"\u001b[39m\u001b[38;5;124mage\u001b[39m\u001b[38;5;124m\"\u001b[39m,\n\u001b[1;32m      4\u001b[0m     strata\u001b[38;5;241m=\u001b[39m[\u001b[38;5;124m\"\u001b[39m\u001b[38;5;124m0_19\u001b[39m\u001b[38;5;124m\"\u001b[39m, \u001b[38;5;124m\"\u001b[39m\u001b[38;5;124m20_49\u001b[39m\u001b[38;5;124m\"\u001b[39m, \u001b[38;5;124m\"\u001b[39m\u001b[38;5;124m50_64\u001b[39m\u001b[38;5;124m\"\u001b[39m, \u001b[38;5;124m\"\u001b[39m\u001b[38;5;124m65\u001b[39m\u001b[38;5;124m\"\u001b[39m],\n\u001b[1;32m      5\u001b[0m     structure\u001b[38;5;241m=\u001b[39m[],\n\u001b[1;32m      6\u001b[0m     directed\u001b[38;5;241m=\u001b[39m\u001b[38;5;28;01mFalse\u001b[39;00m,\n\u001b[1;32m      7\u001b[0m     concepts_to_stratify\u001b[38;5;241m=\u001b[39m{\u001b[38;5;124m\"\u001b[39m\u001b[38;5;124mS\u001b[39m\u001b[38;5;124m\"\u001b[39m, \u001b[38;5;124m\"\u001b[39m\u001b[38;5;124mE\u001b[39m\u001b[38;5;124m\"\u001b[39m, \u001b[38;5;124m\"\u001b[39m\u001b[38;5;124mI\u001b[39m\u001b[38;5;124m\"\u001b[39m},\n\u001b[1;32m      8\u001b[0m     params_to_stratify\u001b[38;5;241m=\u001b[39m{\u001b[38;5;124m\"\u001b[39m\u001b[38;5;124meta\u001b[39m\u001b[38;5;124m\"\u001b[39m, \u001b[38;5;124m\"\u001b[39m\u001b[38;5;124mmu\u001b[39m\u001b[38;5;124m\"\u001b[39m, \u001b[38;5;124m\"\u001b[39m\u001b[38;5;124mlr\u001b[39m\u001b[38;5;124m\"\u001b[39m, \u001b[38;5;124m\"\u001b[39m\u001b[38;5;124mld\u001b[39m\u001b[38;5;124m\"\u001b[39m, \u001b[38;5;124m\"\u001b[39m\u001b[38;5;124md\u001b[39m\u001b[38;5;124m\"\u001b[39m},\n\u001b[1;32m      9\u001b[0m     cartesian_control\u001b[38;5;241m=\u001b[39m\u001b[38;5;28;01mTrue\u001b[39;00m,\n\u001b[1;32m     10\u001b[0m )\n\u001b[1;32m     11\u001b[0m model_2\u001b[38;5;241m.\u001b[39mannotations\u001b[38;5;241m.\u001b[39mname \u001b[38;5;241m=\u001b[39m \u001b[38;5;124m\"\u001b[39m\u001b[38;5;124mEvaluation Ensemble Baseline - Step 1 - Age Stratified\u001b[39m\u001b[38;5;124m\"\u001b[39m\n\u001b[1;32m     13\u001b[0m sanity_check_tm(model_2)\n",
      "\u001b[0;31mNameError\u001b[0m: name 'model_1' is not defined"
     ]
    }
   ],
   "source": [
    "model_2 = stratify(\n",
    "    model_1,\n",
    "    key=\"age\",\n",
    "    strata=[\"0_19\", \"20_49\", \"50_64\", \"65\"],\n",
    "    structure=[],\n",
    "    directed=False,\n",
    "    concepts_to_stratify={\"S\", \"E\", \"I\"},\n",
    "    params_to_stratify={\"eta\", \"mu\", \"lr\", \"ld\", \"d\"},\n",
    "    cartesian_control=True,\n",
    ")\n",
    "model_2.annotations.name = \"Evaluation Ensemble Baseline - Step 1 - Age Stratified\"\n",
    "\n",
    "sanity_check_tm(model_2)\n",
    "am = AskeNetPetriNetModel(Model(model_2))\n",
    "sanity_check_amr(am.to_json())\n",
    "am.to_json_file(\"eval_ensemble_step_1.json\")"
   ]
  },
  {
   "cell_type": "markdown",
   "id": "acae44eb",
   "metadata": {},
   "source": [
    "# Step 2 - Stratify By Vaccine Status"
   ]
  },
  {
   "cell_type": "code",
   "execution_count": null,
   "id": "8468a058",
   "metadata": {},
   "outputs": [],
   "source": [
    "model_2 = stratify(\n",
    "    model_1,\n",
    "    key=\"status\",\n",
    "    strata=[\"unvaccinated\", \"vaccinated\"],\n",
    "    structure=[[\"unvaccinated\", \"vaccinated\"]],\n",
    "    directed=True,\n",
    "    concepts_to_stratify={\"S\", \"H\", \"R\", \"D\"},\n",
    "    params_to_stratify={\"eta\", \"mu\", \"lr\", \"ld\", \"d\"},\n",
    "    cartesian_control=True,\n",
    ")\n",
    "model_2.annotations.name = \"Evaluation Ensemble Baseline - Step 1 - Age Stratified\"\n",
    "\n",
    "sanity_check_tm(model_2)\n",
    "am = AskeNetPetriNetModel(Model(model_2))\n",
    "sanity_check_amr(am.to_json())\n",
    "am.to_json_file(\"eval_ensemble_step_1.json\")"
   ]
  },
  {
   "cell_type": "markdown",
   "id": "b259920e",
   "metadata": {},
   "source": [
    "Need to stratify I and E by disease variant."
   ]
  },
  {
   "cell_type": "code",
   "execution_count": null,
   "id": "bf950d90",
   "metadata": {},
   "outputs": [],
   "source": [
    "model_2 = stratify(\n",
    "    model_1,\n",
    "    key=\"variant\",\n",
    "    strata=[\"wild\", \"delta\", \"omicron\"],\n",
    "    structure=[],\n",
    "    directed=False,\n",
    "    concepts_to_stratify={\"E\", \"I\", \"H\"},\n",
    "    params_to_stratify={\"eta\", \"mu\", \"lr\", \"ld\", \"d\"},\n",
    "    cartesian_control=True,\n",
    ")\n",
    "model_2.annotations.name = \"Evaluation Ensemble Baseline - Step 1 - Age Stratified\"\n",
    "\n",
    "sanity_check_tm(model_2)\n",
    "am = AskeNetPetriNetModel(Model(model_2))\n",
    "sanity_check_amr(am.to_json())\n",
    "am.to_json_file(\"eval_ensemble_step_1.json\")"
   ]
  },
  {
   "cell_type": "code",
   "execution_count": null,
   "id": "4e496626",
   "metadata": {},
   "outputs": [],
   "source": [
    "url = f\"http://data-service.staging.terarium.ai/models/{res.json()['id']}\"\n",
    "\n",
    "res = requests.get(url)\n",
    "res.json()"
   ]
  }
 ],
 "metadata": {
  "kernelspec": {
   "display_name": "Python 3 (ipykernel)",
   "language": "python",
   "name": "python3"
  },
  "language_info": {
   "codemirror_mode": {
    "name": "ipython",
    "version": 3
   },
   "file_extension": ".py",
   "mimetype": "text/x-python",
   "name": "python",
   "nbconvert_exporter": "python",
   "pygments_lexer": "ipython3",
   "version": "3.10.12"
  }
 },
 "nbformat": 4,
 "nbformat_minor": 5
}
