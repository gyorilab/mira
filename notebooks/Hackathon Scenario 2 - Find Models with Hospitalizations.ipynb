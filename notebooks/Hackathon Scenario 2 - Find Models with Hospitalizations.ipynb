{
 "cells": [
  {
   "cell_type": "markdown",
   "id": "2f6eedc8",
   "metadata": {},
   "source": [
    "This notebook helps find models in Biomodels that have hospitalization inside them - helping for giving ideas on how to write new compartments representing hospitalization into existing models (such as the one from Scenario 1).\n",
    "\n",
    "What you need to do to get a useful hospitalization compartment:\n",
    "\n",
    "- Make sure that infected population is stratified to symptomatic/asymptomatic\n",
    "- Note that asymptomatic population will not get hospitalized\n",
    "- Create new transitions from symptomatic infected to hospitalized. This runs in parallel to symptomatic infected going to recovered (no need to delete anything). Then, make a transition from hospitalized to recovered.\n",
    "- If you're in a model that has death, then you also have to include another parallel edge to the dead node."
   ]
  },
  {
   "cell_type": "code",
   "execution_count": 1,
   "id": "74bf2704",
   "metadata": {},
   "outputs": [],
   "source": [
    "from mira.sources.biomodels import query_biomodels, get_template_model\n",
    "from tqdm.auto import tqdm\n",
    "from tabulate import tabulate\n",
    "from textwrap import shorten\n",
    "from mira.examples.sir import svir\n",
    "from mira.modeling.viz import GraphicalModel"
   ]
  },
  {
   "cell_type": "code",
   "execution_count": 2,
   "id": "be58110c",
   "metadata": {},
   "outputs": [],
   "source": [
    "models_res = query_biomodels(\"submitter_keywords:COVID-19\", limit=30)"
   ]
  },
  {
   "cell_type": "code",
   "execution_count": null,
   "id": "0eda64dc",
   "metadata": {},
   "outputs": [
    {
     "data": {
      "application/vnd.jupyter.widget-view+json": {
       "model_id": "914fa2ee19a548e8956e9263755de545",
       "version_major": 2,
       "version_minor": 0
      },
      "text/plain": [
       "  0%|          | 0/28 [00:00<?, ?it/s]"
      ]
     },
     "metadata": {},
     "output_type": "display_data"
    }
   ],
   "source": [
    "rows = []\n",
    "for model_data in tqdm(models_res):\n",
    "    try:\n",
    "        template_model = get_template_model(model_data[\"id\"])\n",
    "    except Exception:\n",
    "        pass\n",
    "    rows.append((\n",
    "        model_data[\"id\"], model_data[\"name\"], template_model,\n",
    "    ))"
   ]
  },
  {
   "cell_type": "code",
   "execution_count": null,
   "id": "6d67bf89",
   "metadata": {},
   "outputs": [],
   "source": [
    "len(rows)"
   ]
  },
  {
   "cell_type": "code",
   "execution_count": null,
   "id": "1f0fd859",
   "metadata": {},
   "outputs": [],
   "source": [
    "seen = set()\n",
    "res_rows = []\n",
    "for m_id, m_name, m in rows:\n",
    "    for template in m.templates:\n",
    "        for concept in template.get_concepts():\n",
    "            if \"hosp\" in concept.name.lower():\n",
    "                if m_id not in seen:\n",
    "                    seen.add(m_id)\n",
    "                    res_rows.append((\n",
    "                        m_id, shorten(m_name, 40), len(m.templates),\n",
    "                        concept.get_curie_str(), shorten(concept.name, 30)\n",
    "                    ))\n",
    "                    \n",
    "print(tabulate(\n",
    "    res_rows, \n",
    "    tablefmt=\"github\", \n",
    "    headers=[\"model_id\", \"model_title\", \"model_size\", \"compartment_curie\", \"compartment_label\"],\n",
    "))"
   ]
  },
  {
   "cell_type": "code",
   "execution_count": null,
   "id": "ae47e9f2",
   "metadata": {},
   "outputs": [],
   "source": [
    "m = next(x for i, _, x in rows if i == \"BIOMD0000000960\")\n",
    "\n",
    "GraphicalModel.for_jupyter(m, width=\"30%\")"
   ]
  },
  {
   "cell_type": "code",
   "execution_count": null,
   "id": "62f01ed0",
   "metadata": {},
   "outputs": [],
   "source": [
    "m = next(x for i, _, x in rows if i == \"BIOMD0000000971\")\n",
    "\n",
    "GraphicalModel.for_jupyter(m, width=\"30%\")"
   ]
  },
  {
   "cell_type": "code",
   "execution_count": null,
   "id": "2446e315",
   "metadata": {},
   "outputs": [],
   "source": [
    "m = next(x for i, _, x in rows if i == \"BIOMD0000000981\")\n",
    "\n",
    "GraphicalModel.for_jupyter(m, width=\"50%\")"
   ]
  }
 ],
 "metadata": {
  "kernelspec": {
   "display_name": "Python 3 (ipykernel)",
   "language": "python",
   "name": "python3"
  },
  "language_info": {
   "codemirror_mode": {
    "name": "ipython",
    "version": 3
   },
   "file_extension": ".py",
   "mimetype": "text/x-python",
   "name": "python",
   "nbconvert_exporter": "python",
   "pygments_lexer": "ipython3",
   "version": "3.11.0"
  }
 },
 "nbformat": 4,
 "nbformat_minor": 5
}
