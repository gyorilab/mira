{
 "cells": [
  {
   "cell_type": "markdown",
   "id": "42888718-535c-40ea-a6c4-0607b02ae0bc",
   "metadata": {},
   "source": [
    "# EPI Scenario 1\n",
    "## Create a SEIcImRD base model\n",
    "We start by creating a base model that can be extended further to the different use cases"
   ]
  },
  {
   "cell_type": "code",
   "execution_count": 1,
   "id": "d41cf488-397d-443f-b8a7-62bd2d273a26",
   "metadata": {},
   "outputs": [
    {
     "data": {
      "text/html": [
       "<div>\n",
       "<style scoped>\n",
       "    .dataframe tbody tr th:only-of-type {\n",
       "        vertical-align: middle;\n",
       "    }\n",
       "\n",
       "    .dataframe tbody tr th {\n",
       "        vertical-align: top;\n",
       "    }\n",
       "\n",
       "    .dataframe thead th {\n",
       "        text-align: right;\n",
       "    }\n",
       "</style>\n",
       "<table border=\"1\" class=\"dataframe\">\n",
       "  <thead>\n",
       "    <tr style=\"text-align: right;\">\n",
       "      <th></th>\n",
       "      <th>country</th>\n",
       "      <th>age_group</th>\n",
       "      <th>n</th>\n",
       "      <th>matrix</th>\n",
       "      <th>iso3c</th>\n",
       "    </tr>\n",
       "  </thead>\n",
       "  <tbody>\n",
       "    <tr>\n",
       "      <th>1</th>\n",
       "      <td>France</td>\n",
       "      <td>0-4</td>\n",
       "      <td>3619987</td>\n",
       "      <td>9</td>\n",
       "      <td>FRA</td>\n",
       "    </tr>\n",
       "    <tr>\n",
       "      <th>2</th>\n",
       "      <td>France</td>\n",
       "      <td>9-May</td>\n",
       "      <td>3907487</td>\n",
       "      <td>9</td>\n",
       "      <td>FRA</td>\n",
       "    </tr>\n",
       "    <tr>\n",
       "      <th>3</th>\n",
       "      <td>France</td>\n",
       "      <td>14-Oct</td>\n",
       "      <td>3995688</td>\n",
       "      <td>9</td>\n",
       "      <td>FRA</td>\n",
       "    </tr>\n",
       "    <tr>\n",
       "      <th>4</th>\n",
       "      <td>France</td>\n",
       "      <td>15-19</td>\n",
       "      <td>3887789</td>\n",
       "      <td>9</td>\n",
       "      <td>FRA</td>\n",
       "    </tr>\n",
       "    <tr>\n",
       "      <th>5</th>\n",
       "      <td>France</td>\n",
       "      <td>20-24</td>\n",
       "      <td>3697019</td>\n",
       "      <td>9</td>\n",
       "      <td>FRA</td>\n",
       "    </tr>\n",
       "    <tr>\n",
       "      <th>6</th>\n",
       "      <td>France</td>\n",
       "      <td>25-29</td>\n",
       "      <td>3674010</td>\n",
       "      <td>9</td>\n",
       "      <td>FRA</td>\n",
       "    </tr>\n",
       "    <tr>\n",
       "      <th>7</th>\n",
       "      <td>France</td>\n",
       "      <td>30-34</td>\n",
       "      <td>3941533</td>\n",
       "      <td>9</td>\n",
       "      <td>FRA</td>\n",
       "    </tr>\n",
       "    <tr>\n",
       "      <th>8</th>\n",
       "      <td>France</td>\n",
       "      <td>35-39</td>\n",
       "      <td>4069517</td>\n",
       "      <td>9</td>\n",
       "      <td>FRA</td>\n",
       "    </tr>\n",
       "    <tr>\n",
       "      <th>9</th>\n",
       "      <td>France</td>\n",
       "      <td>40-44</td>\n",
       "      <td>3943397</td>\n",
       "      <td>9</td>\n",
       "      <td>FRA</td>\n",
       "    </tr>\n",
       "    <tr>\n",
       "      <th>10</th>\n",
       "      <td>France</td>\n",
       "      <td>45-49</td>\n",
       "      <td>4382270</td>\n",
       "      <td>9</td>\n",
       "      <td>FRA</td>\n",
       "    </tr>\n",
       "    <tr>\n",
       "      <th>11</th>\n",
       "      <td>France</td>\n",
       "      <td>50-54</td>\n",
       "      <td>4363401</td>\n",
       "      <td>9</td>\n",
       "      <td>FRA</td>\n",
       "    </tr>\n",
       "    <tr>\n",
       "      <th>12</th>\n",
       "      <td>France</td>\n",
       "      <td>55-59</td>\n",
       "      <td>4271656</td>\n",
       "      <td>9</td>\n",
       "      <td>FRA</td>\n",
       "    </tr>\n",
       "    <tr>\n",
       "      <th>13</th>\n",
       "      <td>France</td>\n",
       "      <td>60-64</td>\n",
       "      <td>3973248</td>\n",
       "      <td>9</td>\n",
       "      <td>FRA</td>\n",
       "    </tr>\n",
       "    <tr>\n",
       "      <th>14</th>\n",
       "      <td>France</td>\n",
       "      <td>65-69</td>\n",
       "      <td>3791538</td>\n",
       "      <td>9</td>\n",
       "      <td>FRA</td>\n",
       "    </tr>\n",
       "    <tr>\n",
       "      <th>15</th>\n",
       "      <td>France</td>\n",
       "      <td>70-74</td>\n",
       "      <td>3523616</td>\n",
       "      <td>9</td>\n",
       "      <td>FRA</td>\n",
       "    </tr>\n",
       "    <tr>\n",
       "      <th>16</th>\n",
       "      <td>France</td>\n",
       "      <td>75-79</td>\n",
       "      <td>2204088</td>\n",
       "      <td>9</td>\n",
       "      <td>FRA</td>\n",
       "    </tr>\n",
       "    <tr>\n",
       "      <th>17</th>\n",
       "      <td>France</td>\n",
       "      <td>80+</td>\n",
       "      <td>4027268</td>\n",
       "      <td>9</td>\n",
       "      <td>FRA</td>\n",
       "    </tr>\n",
       "  </tbody>\n",
       "</table>\n",
       "</div>"
      ],
      "text/plain": [
       "   country age_group        n  matrix iso3c\n",
       "1   France       0-4  3619987       9   FRA\n",
       "2   France     9-May  3907487       9   FRA\n",
       "3   France    14-Oct  3995688       9   FRA\n",
       "4   France     15-19  3887789       9   FRA\n",
       "5   France     20-24  3697019       9   FRA\n",
       "6   France     25-29  3674010       9   FRA\n",
       "7   France     30-34  3941533       9   FRA\n",
       "8   France     35-39  4069517       9   FRA\n",
       "9   France     40-44  3943397       9   FRA\n",
       "10  France     45-49  4382270       9   FRA\n",
       "11  France     50-54  4363401       9   FRA\n",
       "12  France     55-59  4271656       9   FRA\n",
       "13  France     60-64  3973248       9   FRA\n",
       "14  France     65-69  3791538       9   FRA\n",
       "15  France     70-74  3523616       9   FRA\n",
       "16  France     75-79  2204088       9   FRA\n",
       "17  France       80+  4027268       9   FRA"
      ]
     },
     "execution_count": 1,
     "metadata": {},
     "output_type": "execute_result"
    }
   ],
   "source": [
    "# General imports\n",
    "import sympy\n",
    "from mira.metamodel import *\n",
    "from mira.examples.concepts import susceptible, exposed, infected, recovered, dead\n",
    "from mira.modeling import Model\n",
    "from mira.modeling.amr.petrinet import AMRPetriNetModel\n",
    "from mira.modeling.viz import GraphicalModel\n",
    "from mira.metamodel.io import model_to_json_file, model_from_json_file\n",
    "from pathlib import Path\n",
    "\n",
    "# Scenario_1_Supplemental is the unzipped folder of 'Scenario 1 Supplemental.zip' found at:\n",
    "# https://github.com/DARPA-ASKEM/program-milestones/blob/main/18-month-milestone/hackathon/epi/\n",
    "# Place the unzipped folder in the same directory as this notebook\n",
    "scenario1_supp_dir = Path('Scenario_1_Supplemental')\n",
    "\n",
    "# Load the supporting data\n",
    "import pandas as pd\n",
    "data = {}\n",
    "for file in scenario1_supp_dir.glob('*.csv'):\n",
    "        country = file.name.split('_')[0]\n",
    "        if country not in data:\n",
    "            data[country] = {}\n",
    "        ftype = file.name[len(country)+1:-4]\n",
    "        data[country][ftype] = pd.read_csv(file, index_col=0)\n",
    "\n",
    "data['France']['population']"
   ]
  },
  {
   "cell_type": "code",
   "execution_count": 2,
   "id": "75e12e81-0584-41f3-a21a-805699aa22fa",
   "metadata": {},
   "outputs": [
    {
     "data": {
      "text/html": [
       "<div>\n",
       "<style scoped>\n",
       "    .dataframe tbody tr th:only-of-type {\n",
       "        vertical-align: middle;\n",
       "    }\n",
       "\n",
       "    .dataframe tbody tr th {\n",
       "        vertical-align: top;\n",
       "    }\n",
       "\n",
       "    .dataframe thead th {\n",
       "        text-align: right;\n",
       "    }\n",
       "</style>\n",
       "<table border=\"1\" class=\"dataframe\">\n",
       "  <thead>\n",
       "    <tr style=\"text-align: right;\">\n",
       "      <th></th>\n",
       "      <th>country</th>\n",
       "      <th>age_group</th>\n",
       "      <th>n</th>\n",
       "      <th>matrix</th>\n",
       "      <th>iso3c</th>\n",
       "    </tr>\n",
       "  </thead>\n",
       "  <tbody>\n",
       "    <tr>\n",
       "      <th>1</th>\n",
       "      <td>France</td>\n",
       "      <td>0-4</td>\n",
       "      <td>3619987</td>\n",
       "      <td>9</td>\n",
       "      <td>FRA</td>\n",
       "    </tr>\n",
       "    <tr>\n",
       "      <th>2</th>\n",
       "      <td>France</td>\n",
       "      <td>5-9</td>\n",
       "      <td>3907487</td>\n",
       "      <td>9</td>\n",
       "      <td>FRA</td>\n",
       "    </tr>\n",
       "    <tr>\n",
       "      <th>3</th>\n",
       "      <td>France</td>\n",
       "      <td>10-14</td>\n",
       "      <td>3995688</td>\n",
       "      <td>9</td>\n",
       "      <td>FRA</td>\n",
       "    </tr>\n",
       "    <tr>\n",
       "      <th>4</th>\n",
       "      <td>France</td>\n",
       "      <td>15-19</td>\n",
       "      <td>3887789</td>\n",
       "      <td>9</td>\n",
       "      <td>FRA</td>\n",
       "    </tr>\n",
       "    <tr>\n",
       "      <th>5</th>\n",
       "      <td>France</td>\n",
       "      <td>20-24</td>\n",
       "      <td>3697019</td>\n",
       "      <td>9</td>\n",
       "      <td>FRA</td>\n",
       "    </tr>\n",
       "  </tbody>\n",
       "</table>\n",
       "</div>"
      ],
      "text/plain": [
       "  country age_group        n  matrix iso3c\n",
       "1  France       0-4  3619987       9   FRA\n",
       "2  France       5-9  3907487       9   FRA\n",
       "3  France     10-14  3995688       9   FRA\n",
       "4  France     15-19  3887789       9   FRA\n",
       "5  France     20-24  3697019       9   FRA"
      ]
     },
     "execution_count": 2,
     "metadata": {},
     "output_type": "execute_result"
    }
   ],
   "source": [
    "# Fix Excelized values\n",
    "data['France']['population'].at[2, 'age_group'] = '5-9'\n",
    "data['France']['population'].at[3, 'age_group'] = '10-14'\n",
    "data['France']['population'].head()"
   ]
  },
  {
   "cell_type": "markdown",
   "id": "149dd5c2-c833-425d-88a0-9fc52979654a",
   "metadata": {},
   "source": [
    "We have the following compartments: S, E, ICase, IMild, R, and D. All patients in IMild transition to R, whereas all patients in ICase transition to the hospital (IHospital, not currently included in this output). From there, some patients recover and others transition to Deceased/Death."
   ]
  },
  {
   "cell_type": "code",
   "execution_count": 3,
   "id": "7d9e9118-9313-411d-a35c-ba525d0bad48",
   "metadata": {},
   "outputs": [],
   "source": [
    "# Build base model\n",
    "\n",
    "person_units = lambda: Unit(expression=sympy.Symbol('person'))\n",
    "day_units = lambda: Unit(expression=sympy.Symbol('day'))\n",
    "per_day_units = lambda: Unit(expression=1/sympy.Symbol('day'))\n",
    "dimensionless_units = lambda: Unit(expression=sympy.Integer('1'))\n",
    "per_day_per_person_units = lambda: Unit(expression=1/(sympy.Symbol('day')*sympy.Symbol('person')))\n",
    "\n",
    "_infected = Concept(name='I', units=person_units(), identifiers={'ido': '0000511'})\n",
    "\n",
    "c = {\n",
    "    'S': Concept(name='S', units=person_units(), identifiers={'ido': '0000514'}),\n",
    "    'E': Concept(name='E', units=person_units(), identifiers={'apollosv': '00000154'}),\n",
    "    'I_mild': _infected.with_context(status=\"mild\"),\n",
    "    'I_case': _infected.with_context(status=\"case \"),\n",
    "    'R': Concept(name='R', units=person_units(), identifiers={'ido': '0000592'}),\n",
    "    'D': Concept(name='D', units=person_units(), identifiers={'ncit': 'C28554'}),\n",
    "}\n",
    "c['I_case'].name = 'I_case'\n",
    "c['I_mild'].name = 'I_mild'\n",
    "\n",
    "\n",
    "# TODO: set proper parameter names - beta, gamma, etc\n",
    "parameters = {\n",
    "    'r_SE_mild': Parameter(name='r_SE_mild', units=per_day_units()),  # Infection rate from I_mild\n",
    "    'r_SE_case': Parameter(name='r_SE_case', units=per_day_units()),  # Infection rate from I_case\n",
    "    'r_EI_mild': Parameter(name='r_EI_mild', units=per_day_units()),  # Rate of progressing E -> I_mild\n",
    "    'r_EI_case': Parameter(name='r_EI_case', units=per_day_units()),  # Rate of progressing E -> I_case\n",
    "    'r_I_mildR': Parameter(name='r_I_mildR', units=per_day_units()),  # Rate of progressing I_mild -> R\n",
    "    'r_I_caseR': Parameter(name='r_I_caseR', units=per_day_units()),  # Rate of progressing I_case -> R\n",
    "    'r_I_caseD': Parameter(name='r_I_caseD', units=per_day_units()),  # Rate of progressing I_case -> D\n",
    "    'N': Parameter(name='N', value=100, units=person_units()),  # Need to be updated per country/age group later\n",
    "}\n",
    "\n",
    "S, E, I_mild, I_case, R, D, N, t_0, t, r_SE_mild, r_SE_case, r_EI_mild, r_EI_case, r_I_mildR, r_I_caseR, r_I_caseD = \\\n",
    "    sympy.symbols(\n",
    "        'S E I_mild I_case R D N t_0 t r_SE_mild r_SE_case r_EI_mild r_EI_case r_I_mildR r_I_caseR r_I_caseD'\n",
    "    )\n",
    "\n",
    "\n",
    "# S -> E by I_mild\n",
    "exposure_mild = ControlledConversion(\n",
    "    subject=c['S'],\n",
    "    outcome=c['E'],\n",
    "    controller=c['I_mild'],\n",
    "    rate_law=S*I_mild*r_SE_mild / N\n",
    ")\n",
    "# S -> E by I_case\n",
    "exposure_case = ControlledConversion(\n",
    "    subject=c['S'],\n",
    "    outcome=c['E'],\n",
    "    controller=c['I_case'],\n",
    "    rate_law=S*I_case*r_SE_case / N\n",
    ")\n",
    "\n",
    "# E -> I_mild\n",
    "infection_mild = NaturalConversion(\n",
    "    subject=c['E'],\n",
    "    outcome=c['I_mild'],\n",
    "    rate_law=r_EI_mild*E / N\n",
    ")\n",
    "# E -> I_case\n",
    "infection_case = NaturalConversion(\n",
    "    subject=c['E'],\n",
    "    outcome=c['I_case'],\n",
    "    rate_law=r_EI_case*E / N\n",
    ")\n",
    "\n",
    "# I_mild -> R\n",
    "recovery_mild = NaturalConversion(\n",
    "    subject=c['I_mild'],\n",
    "    outcome=c['R'],\n",
    "    rate_law=r_I_mildR*I_mild / N\n",
    ")\n",
    "# I_case -> R\n",
    "recovery_case = NaturalConversion(\n",
    "    subject=c['I_case'],\n",
    "    outcome=c['R'],\n",
    "    rate_law=r_I_caseR*I_case / N\n",
    ")\n",
    "# I_case -> D\n",
    "death_case = NaturalConversion(\n",
    "    subject=c['I_case'],\n",
    "    outcome=c['D'],\n",
    "    rate_law=r_I_caseD*I_case / N\n",
    ")\n",
    "\n",
    "seird_base = TemplateModel(\n",
    "    templates=[\n",
    "        exposure_mild,\n",
    "        exposure_case,\n",
    "        infection_mild,\n",
    "        recovery_mild,\n",
    "        infection_case,\n",
    "        recovery_case,\n",
    "        death_case,\n",
    "    ],\n",
    "    parameters=parameters,\n",
    "    time=Time(name='t', units=day_units()),\n",
    "    annotations=Annotations(name='EPI Scenario 1')\n",
    ")"
   ]
  },
  {
   "cell_type": "code",
   "execution_count": 4,
   "id": "faec6a71-5927-465f-a6e9-ac3ff2bca732",
   "metadata": {},
   "outputs": [],
   "source": [
    "# Save as JSON\n",
    "AMRPetriNetModel(Model(seird_base)).to_json_file('scenario1_base_petrinet_amr.json')"
   ]
  },
  {
   "cell_type": "code",
   "execution_count": 5,
   "id": "f65c4101-03c9-4e6f-95a3-b3ba0e867c21",
   "metadata": {},
   "outputs": [
    {
     "data": {
      "image/png": "[encoded data removed]",
      "text/plain": [
       "<IPython.core.display.Image object>"
      ]
     },
     "execution_count": 5,
     "metadata": {},
     "output_type": "execute_result"
    }
   ],
   "source": [
    "# Show graph of the base model\n",
    "GraphicalModel.for_jupyter(seird_base)"
   ]
  },
  {
   "cell_type": "markdown",
   "id": "3b96cd84-9d0a-4a52-8c28-b8b1227672fd",
   "metadata": {},
   "source": [
    "### Stratifying by age\n",
    "Each country's population is stratified by age and by the same age groups in intervals of 5 years from 0 up to 80 and then 80+."
   ]
  },
  {
   "cell_type": "code",
   "execution_count": 6,
   "id": "d50ad1d7-922f-411c-8aa9-15af09cf6906",
   "metadata": {},
   "outputs": [
    {
     "name": "stdout",
     "output_type": "stream",
     "text": [
      "{'0-4': '0_4', '5-9': '5_9', '10-14': '10_14', '15-19': '15_19', '20-24': '20_24', '25-29': '25_29', '30-34': '30_34', '35-39': '35_39', '40-44': '40_44', '45-49': '45_49', '50-54': '50_54', '55-59': '55_59', '60-64': '60_64', '65-69': '65_69', '70-74': '70_74', '75-79': '75_79', '80+': '80plus'}\n"
     ]
    }
   ],
   "source": [
    "# Replace dash and plus signs by underscore and literal 'plus' to avoid sympy hickups\n",
    "age_group_map = {ag: ag.replace('+', 'plus').replace('-', '_') for ag in data['France']['population']['age_group'].values}\n",
    "print(age_group_map)"
   ]
  },
  {
   "cell_type": "code",
   "execution_count": 7,
   "id": "35614d0e-499a-4d72-af95-12f3343c5bd7",
   "metadata": {},
   "outputs": [
    {
     "name": "stdout",
     "output_type": "stream",
     "text": [
      "['0_4', '10_14', '15_19', '20_24', '25_29', '30_34', '35_39', '40_44', '45_49', '50_54', '55_59', '5_9', '60_64', '65_69', '70_74', '75_79', '80plus']\n"
     ]
    }
   ],
   "source": [
    "age_strata = sorted(age_group_map.values())\n",
    "print(age_strata)"
   ]
  },
  {
   "cell_type": "code",
   "execution_count": 8,
   "id": "71bad272-4832-40e9-9f04-5914a613aeba",
   "metadata": {},
   "outputs": [
    {
     "data": {
      "text/plain": [
       "{'0_4': '[0,5)',\n",
       " '10_14': '[5,10)',\n",
       " '15_19': '[10,15)',\n",
       " '20_24': '[15,20)',\n",
       " '25_29': '[20,25)',\n",
       " '30_34': '[25,30)',\n",
       " '35_39': '[30,35)',\n",
       " '40_44': '[35,40)',\n",
       " '45_49': '[40,45)',\n",
       " '50_54': '[45,50)',\n",
       " '55_59': '[50,55)',\n",
       " '5_9': '[55,60)',\n",
       " '60_64': '[60,65)',\n",
       " '65_69': '[65,70)',\n",
       " '70_74': '[70,75)',\n",
       " '75_79': '75+',\n",
       " '80plus': '75+'}"
      ]
     },
     "execution_count": 8,
     "metadata": {},
     "output_type": "execute_result"
    }
   ],
   "source": [
    "# Map age group to interaction matrix ids\n",
    "from itertools import zip_longest\n",
    "cm_ixs = data['France']['contact_matrix'].index.values\n",
    "contact_matrix_max = cm_ixs[-1]\n",
    "age_contact_matrix_map = dict(zip_longest(age_strata, cm_ixs, fillvalue=contact_matrix_max))\n",
    "age_contact_matrix_map"
   ]
  },
  {
   "cell_type": "code",
   "execution_count": 9,
   "id": "39fc99e1-988d-47f0-a054-136bb6f98b40",
   "metadata": {},
   "outputs": [
    {
     "name": "stdout",
     "output_type": "stream",
     "text": [
      "CPU times: user 632 ms, sys: 0 ns, total: 632 ms\n",
      "Wall time: 631 ms\n"
     ]
    }
   ],
   "source": [
    "%%time\n",
    "# Do not stratify the infection rate - it will be set by the interaction matrix\n",
    "seird_base_age_strat = stratify(seird_base,\n",
    "                                key='age',\n",
    "                                strata=age_strata,\n",
    "                                structure=[],\n",
    "                                cartesian_control=True,\n",
    "                                params_to_preserve=[\"r_SE_mild\", \"r_SE_case\"])\n",
    "\n",
    "# Don't try to visualize the stratified graph if you're short on time/memory"
   ]
  },
  {
   "cell_type": "markdown",
   "id": "935abe26-c4d5-47c9-8133-9572652e643f",
   "metadata": {},
   "source": [
    "### Set initial values, total populations and apply time dependent interactions\n",
    "The provided data contains the total population per age group and an interaction matrix for age groups, for each country.\n",
    "\n",
    "The masking policy described in the instructions:\n",
    "> \"... each country begins implementing a social distancing policy [and] at t = 60 days ... contact decreases to 30% of its original levels for the interactions of people over the age of 65 with others over the age of 65 (i.e., the 3x3 matrix on the bottom right of the contact matrix) and it decreases to 60% of its original levels otherwise."
   ]
  },
  {
   "cell_type": "code",
   "execution_count": 10,
   "id": "8658a917-94f9-4f2f-9783-7fbcdc354ad0",
   "metadata": {},
   "outputs": [
    {
     "data": {
      "text/latex": [
       "$\\displaystyle \\begin{cases} 1 & \\text{for}\\: t < 60 \\\\0.6 & \\text{otherwise} \\end{cases}$"
      ],
      "text/plain": [
       "Piecewise((1, t < 60), (0.6, True))"
      ]
     },
     "execution_count": 10,
     "metadata": {},
     "output_type": "execute_result"
    }
   ],
   "source": [
    "# Create two indicator variables, one for the 65+ population(s) and one for those below 65\n",
    "young_scaling = sympy.Piecewise(\n",
    "    (1, t<60),\n",
    "    (0.6, t>= 60)\n",
    ")\n",
    "young_scaling"
   ]
  },
  {
   "cell_type": "code",
   "execution_count": 11,
   "id": "a4520161-a4ea-4313-aa8e-f81a7931c0e6",
   "metadata": {},
   "outputs": [
    {
     "data": {
      "text/latex": [
       "$\\displaystyle \\begin{cases} 1 & \\text{for}\\: t < 60 \\\\0.3 & \\text{otherwise} \\end{cases}$"
      ],
      "text/plain": [
       "Piecewise((1, t < 60), (0.3, True))"
      ]
     },
     "execution_count": 11,
     "metadata": {},
     "output_type": "execute_result"
    }
   ],
   "source": [
    "old_scaling = sympy.Piecewise(\n",
    "    (1, t<60),\n",
    "    (0.3, t>= 60)\n",
    ")\n",
    "old_scaling"
   ]
  },
  {
   "cell_type": "code",
   "execution_count": 12,
   "id": "6db93f36-0bc3-488c-ba0f-0b8ccbf48c67",
   "metadata": {},
   "outputs": [],
   "source": [
    "# Apply picewise scaling\n",
    "old = {'65_69', '70_74', '75_79', '80plus'}\n",
    "for templ in seird_base_age_strat.templates:\n",
    "    if templ.type == 'ControlledConversion':\n",
    "        # if both the infected and the susceptible are from 65+, use old_scaling, otherwise use young_scaling\n",
    "        if templ.controller.context['age'] in old and \\\n",
    "                templ.subject.context['age'] in old:\n",
    "            piecewise_scaling = old_scaling\n",
    "        else:\n",
    "            piecewise_scaling = young_scaling\n",
    "\n",
    "        # Update rate law\n",
    "        rate_law = templ.rate_law\n",
    "        new_rate_law = piecewise_scaling*rate_law\n",
    "        templ.rate_law = SympyExprStr(new_rate_law)\n"
   ]
  },
  {
   "cell_type": "code",
   "execution_count": 13,
   "id": "70cc90a0-a3ab-4a0c-a672-c0bbe446ce38",
   "metadata": {},
   "outputs": [
    {
     "name": "stdout",
     "output_type": "stream",
     "text": [
      "Controller age: 0_4\n",
      "Subject age: 0_4\n"
     ]
    },
    {
     "data": {
      "text/latex": [
       "$\\displaystyle \\operatorname{SympyExprStr}\\left(\\left(\\begin{cases} 1 & \\text{for}\\: t < 60 \\\\0.6 & \\text{otherwise} \\end{cases}\\right) \\operatorname{SympyExprStr}\\left(\\frac{I_{mild 0 4} S_{0 4} r_{SE mild}}{N_{0}}\\right)\\right)$"
      ],
      "text/plain": [
       "Piecewise((1, t < 60), (0.6, True))*SympyExprStr(I_mild_0_4*S_0_4*r_SE_mild/N_0)"
      ]
     },
     "execution_count": 13,
     "metadata": {},
     "output_type": "execute_result"
    }
   ],
   "source": [
    "# Check a rate law for a young interaction\n",
    "print('Controller age:', seird_base_age_strat.templates[0].controller.context['age'])\n",
    "print('Subject age:', seird_base_age_strat.templates[0].subject.context['age'])\n",
    "seird_base_age_strat.templates[0].rate_law"
   ]
  },
  {
   "cell_type": "code",
   "execution_count": 14,
   "id": "a695477d-fc9e-4729-a6cd-a352111c60a0",
   "metadata": {},
   "outputs": [
    {
     "name": "stdout",
     "output_type": "stream",
     "text": [
      "Controller age: 65_69\n",
      "Subject age: 65_69\n"
     ]
    },
    {
     "data": {
      "text/latex": [
       "$\\displaystyle \\operatorname{SympyExprStr}\\left(\\left(\\begin{cases} 1 & \\text{for}\\: t < 60 \\\\0.3 & \\text{otherwise} \\end{cases}\\right) \\operatorname{SympyExprStr}\\left(\\frac{I_{mild 65 69} S_{65 69} r_{SE mild}}{N_{221}}\\right)\\right)$"
      ],
      "text/plain": [
       "Piecewise((1, t < 60), (0.3, True))*SympyExprStr(I_mild_65_69*S_65_69*r_SE_mild/N_221)"
      ]
     },
     "execution_count": 14,
     "metadata": {},
     "output_type": "execute_result"
    }
   ],
   "source": [
    "# Check a rate law for an old interaction\n",
    "for templ in seird_base_age_strat.templates:\n",
    "    if templ.controller.context['age'] in old and templ.subject.context['age'] in old:\n",
    "        break\n",
    "print('Controller age:', templ.controller.context['age'])\n",
    "print('Subject age:', templ.subject.context['age'])\n",
    "templ.rate_law"
   ]
  },
  {
   "cell_type": "code",
   "execution_count": 15,
   "id": "61a78718-3da1-4f62-a3c4-149634e3c120",
   "metadata": {},
   "outputs": [],
   "source": [
    "# Save petrinet AMR JSON\n",
    "AMRPetriNetModel(Model(seird_base_age_strat)).to_json_file('scenario1_age_strat_petrinet_amr.json')"
   ]
  },
  {
   "cell_type": "code",
   "execution_count": 16,
   "id": "31b830d2-2caa-4aff-801f-fe0f883d5dce",
   "metadata": {},
   "outputs": [
    {
     "name": "stdout",
     "output_type": "stream",
     "text": [
      "CPU times: user 14.3 s, sys: 13.2 ms, total: 14.3 s\n",
      "Wall time: 14.3 s\n"
     ]
    }
   ],
   "source": [
    "%%time\n",
    "# Apply country-specific data to model\n",
    "for country, country_data in data.items():\n",
    "    # Create a copy of the model for this country\n",
    "    seird_age_strat_country = seird_base_age_strat.copy(deep=True)\n",
    "    \n",
    "    pop_df = country_data['population']\n",
    "    contact_matrix_df = country_data['contact_matrix']\n",
    "    \n",
    "    initials = {}\n",
    "    for age_group, total in pop_df[['age_group', 'n']].values:\n",
    "        age_strat = age_group_map[age_group]\n",
    "        initials.update({\n",
    "            f\"S_{age_strat}\": Initial(concept=Concept(name=f'S_{age_strat}'), expression=sympy.Integer(total-1), value=total-1),\n",
    "            f\"E_{age_strat}\": Initial(concept=Concept(name=f'E_{age_strat}'), expression=sympy.Integer(1), value=1),\n",
    "            f\"I_mild_{age_strat}\": Initial(concept=Concept(name=f'I_mild_{age_strat}'), expression=sympy.Integer(0), value=0),\n",
    "            f\"I_case_{age_strat}\": Initial(concept=Concept(name=f'I_case_{age_strat}'), expression=sympy.Integer(0), value=0),\n",
    "            f\"R_{age_strat}\": Initial(concept=Concept(name=f'R_{age_strat}'), expression=sympy.Integer(0), value=0),\n",
    "            f\"D_{age_strat}\": Initial(concept=Concept(name=f'D_{age_strat}'), expression=sympy.Integer(0), value=0),\n",
    "        })\n",
    "    \n",
    "    # Set initials\n",
    "    seird_age_strat_country.initials = initials\n",
    "\n",
    "    # Update the value for the N per age group - need to figure out the N used for the rate and update it\n",
    "    for templ in seird_age_strat_country.templates:\n",
    "        if templ.type == 'ControlledConversion':\n",
    "            # Find age group\n",
    "            ag = templ.subject.name.lstrip('S_').replace('_', '-').replace('plus', '+')\n",
    "            # Get the age group population\n",
    "            n_age = pop_df['n'][pop_df['age_group'] == ag].values[0]\n",
    "            # Get the key for the N\n",
    "            n_symb_keys = [str(s) for s in templ.rate_law.free_symbols if str(s).startswith('N')]\n",
    "            assert len(n_symb_keys) == 1, n_symb_keys\n",
    "            n_symb_key = n_symb_keys[0]\n",
    "\n",
    "            # Set value\n",
    "            seird_age_strat_country.parameters[n_symb_key].value = int(n_age)  # Cast pandas Int64 -> int\n",
    "\n",
    "            ## Update infection rate laws based on interaction matrix\n",
    "            \n",
    "            # Look up the interaction factor the controller and the subject\n",
    "            controller_name = templ.controller.context['age']\n",
    "            controller_ag = age_contact_matrix_map[controller_name]\n",
    "            subject_name = templ.subject.context['age']\n",
    "            subject_ag = age_contact_matrix_map[subject_name]\n",
    "            contact_factor = contact_matrix_df.at[controller_ag, subject_ag]\n",
    "\n",
    "            # Create symbol for interaction factor\n",
    "            contact_factor_name = f\"contact_factor_{controller_name}_{subject_name}\"\n",
    "            contact_factor_sym = sympy.Symbol(contact_factor_name)\n",
    "            seird_age_strat_country.parameters[contact_factor_name] = \\\n",
    "                Parameter(name=contact_factor_name, value=contact_factor)\n",
    "\n",
    "            # Update rate law\n",
    "            rate_law = templ.rate_law\n",
    "            new_rate_law = contact_factor_sym*rate_law\n",
    "            templ.rate_law = SympyExprStr(new_rate_law)\n",
    "            \n",
    "\n",
    "    # Save to JSON\n",
    "    AMRPetriNetModel(Model(seird_age_strat_country)).to_json_file(f\"seird_age_strat_{country}_petrinet_amr.json\")"
   ]
  },
  {
   "cell_type": "code",
   "execution_count": 17,
   "id": "0d14731d-db75-44ab-8dc9-93400b3a78d3",
   "metadata": {},
   "outputs": [
    {
     "name": "stdout",
     "output_type": "stream",
     "text": [
      "CPU times: user 2 µs, sys: 0 ns, total: 2 µs\n",
      "Wall time: 5.25 µs\n"
     ]
    }
   ],
   "source": [
    "%%time\n",
    "# Load one model to check\n",
    "# FIXME: this seems to error: check out why\n",
    "# from mira.sources.acsets.petri import template_model_from_petri_json_file\n",
    "# UK_age_stratified = template_model_from_petri_json_file(\"seird_age_strat_UK_petrinet_amr.json\")\n",
    "UK_age_stratified = seird_age_strat_country"
   ]
  },
  {
   "cell_type": "code",
   "execution_count": 18,
   "id": "851f79fd-aec6-4354-a7e3-47148f91dd32",
   "metadata": {},
   "outputs": [
    {
     "data": {
      "text/plain": [
       "['r_SE_mild',\n",
       " 'r_SE_case',\n",
       " 'r_EI_mild_0',\n",
       " 'r_EI_mild_1',\n",
       " 'r_EI_mild_2',\n",
       " 'r_EI_mild_3',\n",
       " 'r_EI_mild_4',\n",
       " 'r_EI_mild_5',\n",
       " 'r_EI_mild_6',\n",
       " 'r_EI_mild_7',\n",
       " 'r_EI_mild_8',\n",
       " 'r_EI_mild_9',\n",
       " 'r_EI_mild_10',\n",
       " 'r_EI_mild_11',\n",
       " 'r_EI_mild_12',\n",
       " 'r_EI_mild_13',\n",
       " 'r_EI_mild_14',\n",
       " 'r_EI_mild_15',\n",
       " 'r_EI_mild_16',\n",
       " 'r_EI_case_0',\n",
       " 'r_EI_case_1',\n",
       " 'r_EI_case_2',\n",
       " 'r_EI_case_3',\n",
       " 'r_EI_case_4',\n",
       " 'r_EI_case_5']"
      ]
     },
     "execution_count": 18,
     "metadata": {},
     "output_type": "execute_result"
    }
   ],
   "source": [
    "list(UK_age_stratified.parameters.keys())[:25]"
   ]
  },
  {
   "cell_type": "code",
   "execution_count": 19,
   "id": "92c05239-0f58-488a-8cdd-59a9c7d21464",
   "metadata": {},
   "outputs": [
    {
     "data": {
      "text/plain": [
       "Parameter(name='N_10', display_name=None, description=None, identifiers={}, context={}, units=Unit(expression=person), value=5672509, distribution=None)"
      ]
     },
     "execution_count": 19,
     "metadata": {},
     "output_type": "execute_result"
    }
   ],
   "source": [
    "UK_age_stratified.parameters[\"N_10\"]"
   ]
  },
  {
   "cell_type": "code",
   "execution_count": 20,
   "id": "080c94d3-60ac-4157-a230-9acd335a0998",
   "metadata": {},
   "outputs": [
    {
     "name": "stdout",
     "output_type": "stream",
     "text": [
      "Controller age group: 0_4\n",
      "Subject age group: 0_4\n",
      "contact_factor_0_4_0_4*SympyExprStr(Piecewise((1, t < 60), (0.6, True))*SympyExprStr(I_mild_0_4*S_0_4*r_SE_mild/N_0))\n"
     ]
    }
   ],
   "source": [
    "# Check a rate law for young interaction\n",
    "templ = UK_age_stratified.templates[0]\n",
    "print('Controller age group:', templ.controller.context['age'])\n",
    "print('Subject age group:', templ.subject.context['age'])\n",
    "print(templ.rate_law)"
   ]
  },
  {
   "cell_type": "code",
   "execution_count": 21,
   "id": "e3630d57-122d-49ea-86d8-f63b4dadafee",
   "metadata": {},
   "outputs": [
    {
     "name": "stdout",
     "output_type": "stream",
     "text": [
      "Controller age group: 65_69\n",
      "Subject age group: 65_69\n"
     ]
    },
    {
     "data": {
      "text/latex": [
       "$\\displaystyle \\operatorname{SympyExprStr}\\left(\\left(\\begin{cases} 1 & \\text{for}\\: t < 60 \\\\0.3 & \\text{otherwise} \\end{cases}\\right) \\operatorname{SympyExprStr}\\left(\\frac{I_{mild 65 69} S_{65 69} r_{SE mild}}{N_{221}}\\right)\\right)$"
      ],
      "text/plain": [
       "Piecewise((1, t < 60), (0.3, True))*SympyExprStr(I_mild_65_69*S_65_69*r_SE_mild/N_221)"
      ]
     },
     "execution_count": 21,
     "metadata": {},
     "output_type": "execute_result"
    }
   ],
   "source": [
    "# Check a rate law for an old interaction\n",
    "for templ in seird_base_age_strat.templates:\n",
    "    if templ.controller.context['age'] in old and templ.subject.context['age'] in old:\n",
    "        break\n",
    "print('Controller age group:', templ.controller.context['age'])\n",
    "print('Subject age group:', templ.subject.context['age'])\n",
    "templ.rate_law"
   ]
  }
 ],
 "metadata": {
  "kernelspec": {
   "display_name": "Python 3 (ipykernel)",
   "language": "python",
   "name": "python3"
  },
  "language_info": {
   "codemirror_mode": {
    "name": "ipython",
    "version": 3
   },
   "file_extension": ".py",
   "mimetype": "text/x-python",
   "name": "python",
   "nbconvert_exporter": "python",
   "pygments_lexer": "ipython3",
   "version": "3.11.4"
  }
 },
 "nbformat": 4,
 "nbformat_minor": 5
}
