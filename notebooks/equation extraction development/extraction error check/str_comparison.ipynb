{
 "cells": [
  {
   "cell_type": "markdown",
   "id": "d8f85345",
   "metadata": {},
   "source": [
    "## Comparison of strings \n",
    "This tool can be used for comparing the extracted odes for the same model, but with different prompts or architectures."
   ]
  },
  {
   "cell_type": "code",
   "execution_count": 1,
   "id": "1ec0e175",
   "metadata": {},
   "outputs": [
    {
     "name": "stderr",
     "output_type": "stream",
     "text": [
      "<>:5: SyntaxWarning: invalid escape sequence '\\s'\n",
      "<>:5: SyntaxWarning: invalid escape sequence '\\s'\n",
      "/var/folders/lf/k3_94b6505l3285j70gv8nt00000gp/T/ipykernel_4929/136938493.py:5: SyntaxWarning: invalid escape sequence '\\s'\n",
      "  return re.split('\\s+', s)\n"
     ]
    }
   ],
   "source": [
    "import difflib\n",
    "import re\n",
    "\n",
    "def tokenize(s):\n",
    "    return re.split('\\s+', s)\n",
    "def untokenize(ts):\n",
    "    return ' '.join(ts)\n",
    "        \n",
    "def equalize(s1, s2):\n",
    "    l1 = tokenize(s1)\n",
    "    l2 = tokenize(s2)\n",
    "    res1 = []\n",
    "    res2 = []\n",
    "    prev = difflib.Match(0,0,0)\n",
    "    for match in difflib.SequenceMatcher(a=l1, b=l2).get_matching_blocks():\n",
    "        if (prev.a + prev.size != match.a):\n",
    "            for i in range(prev.a + prev.size, match.a):\n",
    "                res2 += ['_' * len(l1[i])]\n",
    "            res1 += l1[prev.a + prev.size:match.a]\n",
    "        if (prev.b + prev.size != match.b):\n",
    "            for i in range(prev.b + prev.size, match.b):\n",
    "                res1 += ['_' * len(l2[i])]\n",
    "            res2 += l2[prev.b + prev.size:match.b]\n",
    "        res1 += l1[match.a:match.a+match.size]\n",
    "        res2 += l2[match.b:match.b+match.size]\n",
    "        prev = match\n",
    "    return untokenize(res1), untokenize(res2)\n",
    "\n",
    "def insert_newlines(string, every=64, window=10):\n",
    "    result = []\n",
    "    from_string = string\n",
    "    while len(from_string) > 0:\n",
    "        cut_off = every\n",
    "        if len(from_string) > every:\n",
    "            while (from_string[cut_off-1] != ' ') and (cut_off > (every-window)):\n",
    "                cut_off -= 1\n",
    "        else:\n",
    "            cut_off = len(from_string)\n",
    "        part = from_string[:cut_off]\n",
    "        result += [part]\n",
    "        from_string = from_string[cut_off:]\n",
    "    return result\n",
    "\n",
    "def show_comparison(s1, s2, width=40, margin=10, sidebyside=True, compact=False):\n",
    "    s1, s2 = equalize(s1,s2)\n",
    "\n",
    "    if sidebyside:\n",
    "        s1 = insert_newlines(s1, width, margin)\n",
    "        s2 = insert_newlines(s2, width, margin)\n",
    "        if compact:\n",
    "            for i in range(0, len(s1)):\n",
    "                lft = re.sub(' +', ' ', s1[i].replace('_', '')).ljust(width)\n",
    "                rgt = re.sub(' +', ' ', s2[i].replace('_', '')).ljust(width) \n",
    "                print(lft + ' | ' + rgt + ' | ')        \n",
    "        else:\n",
    "            for i in range(0, len(s1)):\n",
    "                lft = s1[i].ljust(width)\n",
    "                rgt = s2[i].ljust(width)\n",
    "                print(lft + ' | ' + rgt + ' | ')\n",
    "    else:\n",
    "        print(s1)\n",
    "        print(s2)"
   ]
  },
  {
   "cell_type": "markdown",
   "id": "a3cbb1d1",
   "metadata": {},
   "source": [
    "Run as shown in the example above, use of multiple quotation marks is needed."
   ]
  },
  {
   "cell_type": "code",
   "execution_count": 5,
   "id": "63881559",
   "metadata": {},
   "outputs": [
    {
     "name": "stdout",
     "output_type": "stream",
     "text": [
      "odes = [\n",
      "    sympy.Eq(S(t).diff(t), - beta * S(t) * I(t) / N),\n",
      "    sympy.Eq(E(t).diff(t), beta * S(t) * I(t) / N - alpha * E(t)),\n",
      "    sympy.Eq(I(t).diff(t), alpha * E(t) - gamma * I(t)),\n",
      "    sympy.Eq(R(t).diff(t), gamma * I(t))\n",
      "]\n",
      "odes = [\n",
      "    sympy.Eq(S(t).diff(t), - beta * S(t) / N),\n",
      "    sympy.Eq(I(t).diff(t), beta * S(t) * I(t) / N - alpha * E(t)),\n",
      "    sympy.Eq(I(t).diff(t), alpha * E(t) - gamma_2 * I(t)),\n",
      "    sympy.Eq(R(t).diff(t), gamma * I(t))\n",
      "]\n",
      "\n",
      "Above-below comparison\n",
      "-------------------------------------------------------------------------------------\n",
      "odes = [ sympy.Eq(S(t).diff(t), - beta * S(t) * I(t) / N), sympy.Eq(E(t).diff(t), ______________________ beta * S(t) * I(t) / N - alpha * E(t)), sympy.Eq(I(t).diff(t), alpha * E(t) - gamma _______ * I(t)), sympy.Eq(R(t).diff(t), gamma * I(t)) ]\n",
      "odes = [ sympy.Eq(S(t).diff(t), - beta * S(t) _ ____ / N), ______________________ sympy.Eq(I(t).diff(t), beta * S(t) * I(t) / N - alpha * E(t)), sympy.Eq(I(t).diff(t), alpha * E(t) - _____ gamma_2 * I(t)), sympy.Eq(R(t).diff(t), gamma * I(t)) ]\n"
     ]
    }
   ],
   "source": [
    "s1 = \"\"\"odes = [\n",
    "    sympy.Eq(S(t).diff(t), - beta * S(t) * I(t) / N),\n",
    "    sympy.Eq(E(t).diff(t), beta * S(t) * I(t) / N - alpha * E(t)),\n",
    "    sympy.Eq(I(t).diff(t), alpha * E(t) - gamma * I(t)),\n",
    "    sympy.Eq(R(t).diff(t), gamma * I(t))\n",
    "]\"\"\"\n",
    "\n",
    "s2 = \"\"\"odes = [\n",
    "    sympy.Eq(S(t).diff(t), - beta * S(t) / N),\n",
    "    sympy.Eq(I(t).diff(t), beta * S(t) * I(t) / N - alpha * E(t)),\n",
    "    sympy.Eq(I(t).diff(t), alpha * E(t) - gamma_2 * I(t)),\n",
    "    sympy.Eq(R(t).diff(t), gamma * I(t))\n",
    "]\"\"\"\n",
    "\n",
    "print(s1)\n",
    "print(s2)\n",
    "\n",
    "print()\n",
    "print('Above-below comparison')\n",
    "print('-------------------------------------------------------------------------------------')\n",
    "show_comparison(s1, s2, sidebyside=False)"
   ]
  }
 ],
 "metadata": {
  "kernelspec": {
   "display_name": ".venv",
   "language": "python",
   "name": "python3"
  },
  "language_info": {
   "codemirror_mode": {
    "name": "ipython",
    "version": 3
   },
   "file_extension": ".py",
   "mimetype": "text/x-python",
   "name": "python",
   "nbconvert_exporter": "python",
   "pygments_lexer": "ipython3",
   "version": "3.13.5"
  }
 },
 "nbformat": 4,
 "nbformat_minor": 5
}
