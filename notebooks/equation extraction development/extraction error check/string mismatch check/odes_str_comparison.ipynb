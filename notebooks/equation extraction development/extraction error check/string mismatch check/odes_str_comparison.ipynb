{
 "cells": [
  {
   "cell_type": "markdown",
   "id": "dc820c27",
   "metadata": {},
   "source": [
    "### ODES comparison\n",
    "string comaprison of the correct and the extracted odes "
   ]
  },
  {
   "cell_type": "code",
   "execution_count": null,
   "id": "c00f4b16",
   "metadata": {},
   "outputs": [
    {
     "name": "stdout",
     "output_type": "stream",
     "text": [
      "odes = [\n",
      "    sympy.Eq(sh(t).diff(t), beta_h - (beta_1 * ir(t) + beta_2 * ih(t)) * sh(t) / N_h - mu_h * sh(t) + phi * qh(t)),\n",
      "    sympy.Eq(eh(t).diff(t), (beta_1 * ir(t) + beta_2 * ih(t)) * sh(t) / N_h - (alpha_1 + alpha_2 + mu_h) * eh(t)),\n",
      "    sympy.Eq(ih(t).diff(t), alpha_1 * eh(t) - (mu_h + delta_h + gamma) * ih(t)),\n",
      "    sympy.Eq(qh(t).diff(t), alpha_2 * eh(t) - (phi + tau + delta_h + mu_h) * qh(t)),\n",
      "    sympy.Eq(rh(t).diff(t), gamma * qh(t) + tau*qh(t) - mu_h * rh(t)),\n",
      "    \n",
      "    sympy.Eq(sr(t).diff(t), beta_r - (beta_3 * sr(t) * ir(t) / N_r) - mu_r*sr(t)),\n",
      "    \n",
      "    sympy.Eq(er(t).diff(t), beta_3 * sr(t) * ir(t) / N_r - (mu_r + alpha_3) * er(t)),\n",
      "    sympy.Eq(ir(t).diff(t), alpha_3 * er(t) - (mu_r + delta_r) * ir(t))\n",
      "]\n"
     ]
    }
   ],
   "source": [
    "# Correct string (maunally extracted list)\n",
    "file_path = '/Users/kovacs.f/Desktop/mira/notebooks/equation extraction development/extraction error check/string mismatch check/correct_eqs_list.tsv'\n",
    "\n",
    "df = pd.read_csv(file_path, sep='\\t')\n",
    "try:\n",
    "    correct_str = df[df['model'] == biomodel_name]['correct_eqs'].iloc[0]\n",
    "except IndexError:\n",
    "    raise ValueError(f\"No correct equations found for model '{biomodel_name}' in {file_path}\")\n",
    "\n",
    "print(correct_str)"
   ]
  },
  {
   "cell_type": "code",
   "execution_count": null,
   "id": "731c5d3f",
   "metadata": {},
   "outputs": [
    {
     "data": {
      "text/plain": [
       "[Eq(Derivative(sh(t), t), beta_h - mu_h*sh(t) + phi*qh(t) - (beta_1*ir(t) + beta_2*ih(t))*sh(t)/N_h),\n",
       " Eq(Derivative(eh(t), t), -(alpha_1 + alpha_2 + mu_h)*eh(t) + (beta_1*ir(t) + beta_2*ih(t))*sh(t)/N_h),\n",
       " Eq(Derivative(ih(t), t), alpha_1*eh(t) - (delta_h + gamma + mu_h)*ih(t)),\n",
       " Eq(Derivative(qh(t), t), alpha_2*eh(t) - (delta_h + mu_h + phi + tau)*qh(t)),\n",
       " Eq(Derivative(rh(t), t), gamma*qh(t) - mu_h*rh(t) + tau*qh(t)),\n",
       " Eq(Derivative(sr(t), t), beta_r - mu_r*sr(t) - beta_3*ir(t)*sr(t)/N_r),\n",
       " Eq(Derivative(er(t), t), -(alpha_3 + mu_r)*er(t) + beta_3*ir(t)*sr(t)/N_r),\n",
       " Eq(Derivative(ir(t), t), alpha_3*er(t) - (delta_r + mu_r)*ir(t))]"
      ]
     },
     "metadata": {},
     "output_type": "display_data"
    }
   ],
   "source": [
    "# Trasforming correct_str to sympy eq\n",
    "correct_odes_sympy = string_to_sympy_odes(correct_str)\n",
    "correct_odes_sympy"
   ]
  },
  {
   "cell_type": "code",
   "execution_count": null,
   "id": "4c7a6144",
   "metadata": {},
   "outputs": [
    {
     "data": {
      "text/plain": [
       "[Eq(Derivative(Sh(t), t), -mu_h*Sh(t) + phi*Qh(t) + (beta_1*It(t) + beta_2*Ih(t))/N_h),\n",
       " Eq(Derivative(Eh(t), t), -(alpha_1 + alpha_2 + mu_h)*Eh(t) + alpha_1*(beta_1*Ih(t) + It(t))/N_h),\n",
       " Eq(Derivative(Ih(t), t), alpha_2*Eh(t) - (gamma_h + mu_h + phi)*Qh(t)),\n",
       " Eq(Derivative(Qh(t), t), gamma_h*Rh(t) - mu_h*Qh(t)),\n",
       " Eq(Derivative(St(t), t), mu_t*St(t) - beta_2*It(t)*St(t)/N_t),\n",
       " Eq(Derivative(Et(t), t), -(alpha_3 + mu_t)*Et(t) + beta_2*It(t)*St(t)/N_t),\n",
       " Eq(Derivative(Ih(t), t), alpha_3*Et(t) - mu_t*It(t)),\n",
       " Eq(Derivative(Rt(t), t), alpha_3*Et(t) - mu_t*Rt(t))]"
      ]
     },
     "metadata": {},
     "output_type": "display_data"
    }
   ],
   "source": [
    "# Trasforming extracted_str to sympy eq\n",
    "extracted_odes_sympy = string_to_sympy_odes(ode_str)\n",
    "extracted_odes_sympy"
   ]
  },
  {
   "cell_type": "code",
   "execution_count": null,
   "id": "26fe20f0",
   "metadata": {},
   "outputs": [],
   "source": [
    "print(corrected_ode_str)\n",
    "\n",
    "corrected_odes_sympy = string_to_sympy_odes(corrected_ode_str)\n",
    "\n",
    "corrected_odes_sympy"
   ]
  },
  {
   "cell_type": "code",
   "execution_count": null,
   "id": "499b224f",
   "metadata": {},
   "outputs": [
    {
     "name": "stdout",
     "output_type": "stream",
     "text": [
      "Above-below comparison:\n",
      "Correct odes (extracted manually):\n",
      "[Eq(Derivative(sh(t), t), beta_h - mu_h*sh(t) + phi*qh(t) - (beta_1*ir(t) + beta_2*ih(t))*sh(t)/N_h), Eq(Derivative(eh(t), t), -(alpha_1 + alpha_2 + mu_h)*eh(t) + (beta_1*ir(t) + beta_2*ih(t))*sh(t)/N_h), Eq(Derivative(ih(t), t), alpha_1*eh(t) - (delta_h + gamma + mu_h)*ih(t)), Eq(Derivative(qh(t), t), alpha_2*eh(t) - (delta_h + mu_h + phi + tau)*qh(t)), Eq(Derivative(rh(t), t), gamma*qh(t) - mu_h*rh(t) + tau*qh(t)), Eq(Derivative(sr(t), t), beta_r - mu_r*sr(t) - beta_3*ir(t)*sr(t)/N_r), Eq(Derivative(er(t), t), -(alpha_3 + mu_r)*er(t) + beta_3*ir(t)*sr(t)/N_r), Eq(Derivative(ir(t), t), alpha_3*er(t) - (delta_r + mu_r)*ir(t))]\n",
      "Extrated odes from the image:\n",
      "[Eq(Derivative(Sh(t), t), -mu_h*Sh(t) + phi*Qh(t) + (beta_1*It(t) + beta_2*Ih(t))/N_h), Eq(Derivative(Eh(t), t), -(alpha_1 + alpha_2 + mu_h)*Eh(t) + alpha_1*(beta_1*Ih(t) + It(t))/N_h), Eq(Derivative(Ih(t), t), alpha_2*Eh(t) - (gamma_h + mu_h + phi)*Qh(t)), Eq(Derivative(Qh(t), t), gamma_h*Rh(t) - mu_h*Qh(t)), Eq(Derivative(St(t), t), mu_t*St(t) - beta_2*It(t)*St(t)/N_t), Eq(Derivative(Et(t), t), -(alpha_3 + mu_t)*Et(t) + beta_2*It(t)*St(t)/N_t), Eq(Derivative(Ih(t), t), alpha_3*Et(t) - mu_t*It(t)), Eq(Derivative(Rt(t), t), alpha_3*Et(t) - mu_t*Rt(t))]\n",
      "Checked and corrected odes:\n",
      "[Eq(Derivative(Sh(t), t), -mu_h*Sh(t) + phi*Qh(t) + (beta_1*It(t) + beta_2*Ih(t))/N_h), Eq(Derivative(Eh(t), t), -(alpha_1 + alpha_2 + mu_h)*Eh(t) + alpha_1*(beta_1*Ih(t) + It(t))/N_h), Eq(Derivative(Ih(t), t), alpha_2*Eh(t) - (gamma_h + mu_h + phi)*Qh(t)), Eq(Derivative(Qh(t), t), gamma_h*Rh(t) - mu_h*Qh(t)), Eq(Derivative(St(t), t), mu_t*St(t) - beta_2*It(t)*St(t)/N_t), Eq(Derivative(Et(t), t), -(alpha_3 + mu_t)*Et(t) + beta_2*It(t)*St(t)/N_t), Eq(Derivative(It(t), t), alpha_3*Et(t) - mu_t*It(t)), Eq(Derivative(Rt(t), t), alpha_3*Et(t) - mu_t*Rt(t))]\n",
      "Matrix of odes extracted from TM:\n",
      "[Eq(Derivative(Et(t), t), -Et*(alpha_3 + mu_t) + It*St*beta_2/N_t), Eq(Derivative(It(t), t), Et*alpha_3 - It*mu_t), Eq(Derivative(Rt(t), t), Et*alpha_3 - Rt*mu_t), Eq(Derivative(Qh(t), t), -Qh*mu_h + gamma_h*Rh(t)), Eq(Derivative(Sh(t), t), Qh*phi - Sh*mu_h + (Ih*beta_2 + It*beta_1)/N_h), Eq(Derivative(Eh(t), t), -Eh*(alpha_1 + alpha_2 + mu_h) + alpha_1*(Ih*beta_1 + It)/N_h), Eq(Derivative(Ih(t), t), Eh*alpha_2 - Qh*(gamma_h + mu_h + phi)), Eq(Derivative(St(t), t), -It*St*beta_2/N_t + St*mu_t)]\n"
     ]
    }
   ],
   "source": [
    "# Displaying odes\n",
    "print('Above-below comparison:')\n",
    "print('Correct odes (extracted manually):')\n",
    "print(correct_odes_sympy)\n",
    "print('Extrated odes from the image:')\n",
    "print(extracted_odes_sympy)\n",
    "print('Checked and corrected odes:')\n",
    "print(corrected_odes_sympy)\n",
    "print('Matrix of odes extracted from TM:')\n",
    "print(mtx_odes_sympy)"
   ]
  },
  {
   "cell_type": "code",
   "execution_count": null,
   "id": "9c10e815",
   "metadata": {},
   "outputs": [],
   "source": [
    "# Sort for comparison\n",
    "correct_odes_sorted = sort_equations_by_lhs(correct_odes_sympy)\n",
    "extracted_odes_sorted = sort_equations_by_lhs(extracted_odes_sympy)\n",
    "corrected_odes_sorted = sort_equations_by_lhs(corrected_odes_sympy)\n",
    "mtx_odes_sorted = sort_equations_by_lhs(mtx_odes_sympy)"
   ]
  },
  {
   "cell_type": "code",
   "execution_count": null,
   "id": "a47748ce",
   "metadata": {},
   "outputs": [],
   "source": [
    "# Comparison by substraction\n",
    "# correct_odes vs. extracted_odes_sympy\n",
    "diff_correct_extracted_odes = []\n",
    "for eq1, eq2 in zip(correct_odes_sorted, extracted_odes_sorted):\n",
    "    diff = sympy.simplify((eq1.lhs - eq1.rhs) - (eq2.lhs - eq2.rhs))\n",
    "    diff_correct_extracted_odes.append(diff)\n",
    "\n",
    "# correct_odes vs. corrected_odes_sympy\n",
    "diff_correct_corrected_odes = []\n",
    "for eq1, eq2 in zip(correct_odes_sorted, corrected_odes_sorted):\n",
    "    diff = sympy.simplify((eq1.lhs - eq1.rhs) - (eq2.lhs - eq2.rhs))\n",
    "    diff_correct_corrected_odes.append(diff)\n",
    "\n",
    "# correct_odes vs. mtx_odes_sympy\n",
    "diff_correct_mtx_odes = []\n",
    "for eq1, eq2 in zip(correct_odes_sorted, mtx_odes_sorted):\n",
    "    diff = sympy.simplify((eq1.lhs - eq1.rhs) - (eq2.lhs - eq2.rhs))\n",
    "    diff_correct_mtx_odes.append(diff)"
   ]
  },
  {
   "cell_type": "code",
   "execution_count": null,
   "id": "137e5baf",
   "metadata": {},
   "outputs": [],
   "source": [
    "# Save detailed comparison\n",
    "def comparisons_to_md(\n",
    "    correct_odes_sorted,\n",
    "    extracted_odes_sorted,\n",
    "    corrected_odes_sorted,\n",
    "    mtx_odes_sorted,\n",
    "    biomodel_name,\n",
    "    folder_path=\"/Users/kovacs.f/Desktop/mira/notebooks/equation extraction development/extraction error check/string mismatch check/comparison_results_version002\"\n",
    "):\n",
    "    timestamp = datetime.now().strftime(\"%Y-%m-%d_%H-%M-%S\")\n",
    "    os.makedirs(folder_path, exist_ok=True)\n",
    "    file_path = os.path.join(folder_path, f\"comparison_{biomodel_name}_odes.md\")\n",
    "    \n",
    "    with open(file_path, 'w', encoding='utf-8') as f:\n",
    "        f.write(f\"\\n# Comparison by Subtraction\\n\")\n",
    "        f.write(f\"## Model: {biomodel_name}\\n\")\n",
    "        f.write(f\"### Timestamp: {timestamp}\\n\\n\")\n",
    "        \n",
    "        # 1. correct_odes vs extracted_odes \n",
    "        f.write(\"## 1. correct_odes vs extracted_odes_sympy\\n\\n\")\n",
    "        for i, (eq1, eq2) in enumerate(zip(correct_odes_sorted, extracted_odes_sorted)):\n",
    "            f.write(f\"**Equation {i}:**\\n\")\n",
    "            f.write(f\"- Correct:   `{eq1}`\\n\")\n",
    "            f.write(f\"- Extracted: `{eq2}`\\n\")\n",
    "            diff = sympy.simplify((eq1.lhs - eq1.rhs) - (eq2.lhs - eq2.rhs))\n",
    "            f.write(f\"- Difference: `{diff}`\\n\\n\")\n",
    "        \n",
    "        # 2. correct_odes vs corrected_odes\n",
    "        f.write(\"## 2. correct_odes vs corrected_odes_sympy\\n\\n\")\n",
    "        for i, (eq1, eq2) in enumerate(zip(correct_odes_sorted, corrected_odes_sorted)):\n",
    "            f.write(f\"**Equation {i}:**\\n\")\n",
    "            f.write(f\"- Correct: `{eq1}`\\n\")\n",
    "            f.write(f\"- Corrected: `{eq2}`\\n\")\n",
    "            diff = sympy.simplify((eq1.lhs - eq1.rhs) - (eq2.lhs - eq2.rhs))\n",
    "            f.write(f\"- Difference: `{diff}`\\n\\n\")\n",
    "        \n",
    "        # 3. correct_odes vs mtx_odes \n",
    "        f.write(\"## 3. correct_odes vs mtx_odes_sympy\\n\\n\")\n",
    "        for i in range(min(len(mtx_odes_sorted), len(correct_odes_sorted))):\n",
    "            eq_mtx = mtx_odes_sorted[i]  \n",
    "            eq_correct = correct_odes_sorted[i] \n",
    "            f.write(f\"**Equation {i}:**\\n\")\n",
    "            f.write(f\"- Correct: `{eq_correct}`\\n\")\n",
    "            f.write(f\"- Matrix:  `{eq_mtx}`\\n\")\n",
    "            diff = sympy.simplify((eq_mtx.lhs - eq_mtx.rhs) - (eq_correct.lhs - eq_correct.rhs))\n",
    "            f.write(f\"- Difference: `{diff}`\\n\\n\")\n",
    "\n",
    "comparisons_to_md(\n",
    "    correct_odes_sorted,\n",
    "    extracted_odes_sorted,\n",
    "    corrected_odes_sorted,\n",
    "    mtx_odes_sorted,\n",
    "    biomodel_name,\n",
    "    folder_path='/Users/kovacs.f/Desktop/mira/notebooks/equation extraction development/extraction error check/string mismatch check/comparison_results_version002'\n",
    ")"
   ]
  },
  {
   "cell_type": "code",
   "execution_count": null,
   "id": "1fbb9b54",
   "metadata": {},
   "outputs": [],
   "source": [
    "# Helper function: str to sympy\n",
    "def string_to_sympy_odes(ode_string):\n",
    "    \"\"\"Convert string representation of ODEs to actual SymPy objects - works with ANY symbols.\"\"\"\n",
    "\n",
    "    # Extract the code between 'odes = [' and ']'\n",
    "    match = re.search(r'odes\\s*=\\s*\\[(.*?)\\]', ode_string, re.DOTALL)\n",
    "    if not match:\n",
    "        raise ValueError(\"Could not find 'odes = [...]' pattern\")\n",
    "    \n",
    "    content = match.group(1)\n",
    "    \n",
    "    # Find all unique symbols in the string\n",
    "    # Functions: anything followed by (t)\n",
    "    function_names = set(re.findall(r'(\\w+)(?=\\(t\\))', content))\n",
    "    \n",
    "    # Parameters: all other word tokens that aren't Python/SymPy keywords\n",
    "    all_tokens = set(re.findall(r'\\b[a-zA-Z_]\\w*\\b', content))\n",
    "    keywords = {'sympy', 'Eq', 'diff', 't', 'import', 'def', 'class', 'None', 'True', 'False'}\n",
    "    parameter_names = all_tokens - function_names - keywords\n",
    "    \n",
    "    # Build namespace\n",
    "    namespace = {\n",
    "        'sympy': sympy,\n",
    "        'Eq': sympy.Eq,\n",
    "        't': sympy.Symbol('t')\n",
    "    }\n",
    "    \n",
    "    # Create all functions\n",
    "    for fname in function_names:\n",
    "        namespace[fname] = sympy.Function(fname)\n",
    "    \n",
    "    # Create all parameters\n",
    "    for pname in parameter_names:\n",
    "        namespace[pname] = sympy.Symbol(pname)\n",
    "    \n",
    "    code = f\"odes = [{content}]\"\n",
    "    exec(code, namespace)\n",
    "    \n",
    "    return namespace['odes']"
   ]
  },
  {
   "cell_type": "code",
   "execution_count": null,
   "id": "4171401d",
   "metadata": {},
   "outputs": [],
   "source": [
    "# Helper function: function notation with (t) \n",
    "\n",
    "def convert_to_function_notation(equations):\n",
    "    \"\"\"Convert Derivative(S, t) to Derivative(S(t), t) in equations\"\"\"\n",
    "    t = sympy.Symbol('t')\n",
    "\n",
    "    result = []\n",
    "    for eq in equations:\n",
    "        # Fix the left-hand side\n",
    "        if isinstance(eq.lhs, sympy.Derivative):\n",
    "            var = eq.lhs.args[0]  # This is S, E, etc.\n",
    "            if isinstance(var, sympy.Symbol):\n",
    "                func_name = str(var)\n",
    "                func = sympy.Function(func_name)\n",
    "                new_lhs = sympy.Derivative(func(t), t)\n",
    "            else:\n",
    "                new_lhs = eq.lhs\n",
    "        else:\n",
    "            new_lhs = eq.lhs\n",
    "        \n",
    "        # Fix the right-hand side\n",
    "        state_vars = ['S', 'E', 'I', 'P', 'A', 'H', 'R', 'F']\n",
    "        subs_dict = {}\n",
    "        for var_name in state_vars:\n",
    "            var = sympy.Symbol(var_name)\n",
    "            if var in eq.rhs.free_symbols:\n",
    "                func = sympy.Function(var_name)\n",
    "                subs_dict[var] = func(t)\n",
    "        \n",
    "        new_rhs = eq.rhs.subs(subs_dict)\n",
    "        result.append(sympy.Eq(new_lhs, new_rhs))\n",
    "    \n",
    "    return result"
   ]
  },
  {
   "cell_type": "code",
   "execution_count": null,
   "id": "f18c3aef",
   "metadata": {},
   "outputs": [],
   "source": [
    "# Helper function: sort equations by LHS\n",
    "\n",
    "def sort_equations_by_lhs(equations):\n",
    "    \"\"\"Sort equations by the variable letter in the LHS derivative\"\"\"\n",
    "    import re\n",
    "    \n",
    "    def get_lhs_variable(eq):\n",
    "        lhs_str = str(eq.lhs)\n",
    "        # Handle Derivative(S(t), t) or Derivative(S, t) format\n",
    "        match = re.search(r'Derivative\\(([A-Z])(?:\\(t\\))?,', lhs_str)\n",
    "        if match:\n",
    "            return match.group(1)\n",
    "        # Fallback: look for any single letter variable\n",
    "        match = re.search(r'([AEFHIPRS])', lhs_str)\n",
    "        if match:\n",
    "            return match.group(1)\n",
    "        return 'Z'\n",
    "    \n",
    "    return sorted(equations, key=get_lhs_variable)"
   ]
  }
 ],
 "metadata": {
  "language_info": {
   "name": "python"
  }
 },
 "nbformat": 4,
 "nbformat_minor": 5
}
