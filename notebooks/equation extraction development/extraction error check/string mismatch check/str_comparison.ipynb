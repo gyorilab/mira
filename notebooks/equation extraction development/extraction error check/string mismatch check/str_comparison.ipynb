{
 "cells": [
  {
   "cell_type": "code",
   "execution_count": 4,
   "id": "fca5657b",
   "metadata": {},
   "outputs": [],
   "source": [
    "import difflib\n",
    "import re"
   ]
  },
  {
   "cell_type": "code",
   "execution_count": null,
   "id": "f7680211",
   "metadata": {},
   "outputs": [],
   "source": [
    "import sys\n",
    "print(sys.executable)"
   ]
  },
  {
   "cell_type": "markdown",
   "id": "d8f85345",
   "metadata": {},
   "source": [
    "## Comparison of strings \n",
    "This tool can be used for comparing the extracted odes for the same model, but with different prompts or architectures.\n",
    "\n",
    "> s1 is the original string, s2 is the extracted"
   ]
  },
  {
   "cell_type": "code",
   "execution_count": 5,
   "id": "d9fad6e0",
   "metadata": {},
   "outputs": [
    {
     "ename": "NameError",
     "evalue": "name 'pd' is not defined",
     "output_type": "error",
     "traceback": [
      "\u001b[0;31m---------------------------------------------------------------------------\u001b[0m",
      "\u001b[0;31mNameError\u001b[0m                                 Traceback (most recent call last)",
      "Cell \u001b[0;32mIn[5], line 4\u001b[0m\n\u001b[1;32m      1\u001b[0m version \u001b[38;5;241m=\u001b[39m \u001b[38;5;124m\"\u001b[39m\u001b[38;5;124m001\u001b[39m\u001b[38;5;124m\"\u001b[39m\n\u001b[1;32m      3\u001b[0m data_path \u001b[38;5;241m=\u001b[39m \u001b[38;5;124m'\u001b[39m\u001b[38;5;124m.\u001b[39m\u001b[38;5;124m'\u001b[39m  \u001b[38;5;66;03m# Current directory, or change to your path\u001b[39;00m\n\u001b[0;32m----> 4\u001b[0m df_correct \u001b[38;5;241m=\u001b[39m \u001b[43mpd\u001b[49m\u001b[38;5;241m.\u001b[39mread_csv(os\u001b[38;5;241m.\u001b[39mpath\u001b[38;5;241m.\u001b[39mjoin(data_path, \u001b[38;5;124m'\u001b[39m\u001b[38;5;124mcorrect_eqs_list.tsv\u001b[39m\u001b[38;5;124m'\u001b[39m), sep\u001b[38;5;241m=\u001b[39m\u001b[38;5;124m'\u001b[39m\u001b[38;5;130;01m\\t\u001b[39;00m\u001b[38;5;124m'\u001b[39m)\n\u001b[1;32m      5\u001b[0m df_extracted \u001b[38;5;241m=\u001b[39m pd\u001b[38;5;241m.\u001b[39mread_csv(os\u001b[38;5;241m.\u001b[39mpath\u001b[38;5;241m.\u001b[39mjoin(data_path, \u001b[38;5;124mf\u001b[39m\u001b[38;5;124m'\u001b[39m\u001b[38;5;124mextracted_eqs_VERSION\u001b[39m\u001b[38;5;132;01m{\u001b[39;00mversion\u001b[38;5;132;01m}\u001b[39;00m\u001b[38;5;124m.tsv\u001b[39m\u001b[38;5;124m'\u001b[39m), sep\u001b[38;5;241m=\u001b[39m\u001b[38;5;124m'\u001b[39m\u001b[38;5;130;01m\\t\u001b[39;00m\u001b[38;5;124m'\u001b[39m)\n",
      "\u001b[0;31mNameError\u001b[0m: name 'pd' is not defined"
     ]
    }
   ],
   "source": [
    "version = \"001\"\n",
    "\n",
    "data_path = '.'  # Current directory, or change to your path\n",
    "df_correct = pd.read_csv(os.path.join(data_path, 'correct_eqs_list.tsv'), sep='\\t')\n",
    "df_extracted = pd.read_csv(os.path.join(data_path, f'extracted_eqs_VERSION{version}.tsv'), sep='\\t')"
   ]
  },
  {
   "cell_type": "code",
   "execution_count": null,
   "id": "421d7a93",
   "metadata": {},
   "outputs": [],
   "source": [
    "output_file= f'comparison_results_version{version}.txt'\n",
    "\n",
    "with open(output_file, 'w') as f:\n",
    "        for idx, row in df_correct.iterrows():\n",
    "            model_name = row['model']\n",
    "            s1 = row['correct_eqs']\n",
    "\n",
    "            matching = df_extracted[df_extracted['model'] == model_name]\n",
    "            if not matching.empty:\n",
    "                s2 = matching.iloc[0]['extracted_eqs'] #there shouldn't be multiple rows for a model, but iloc[0] selects the first one if it happens\n",
    "\n",
    "                f.write(f\"\\n{'='*80}\\n\")\n",
    "                f.write(f\"Model: {model_name}\\n\")\n",
    "                f.write(f\"{'='*80}\\n\")\n",
    "                f.write(\"Correct equation:\\n\")\n",
    "                f.write(s1 + \"\\n\\n\")\n",
    "                f.write(\"Extracted equation:\\n\")\n",
    "                f.write(s2 + \"\\n\\n\")\n",
    "                f.write('Above-below comparison\\n')\n",
    "                f.write('-'*80 + '\\n')\n",
    "\n",
    "                eq1, eq2 = equalize(s1, s2)\n",
    "                f.write(eq1 + '\\n')\n",
    "                f.write(eq2 + '\\n')\n",
    "                f.write('\\n')\n",
    "\n",
    "                print(f\"\\nComparing model: {model_name}\")\n",
    "                print('Above-below comparison')\n",
    "                print('-'*80)\n",
    "                show_comparison(s1, s2, sidebyside=False)\n",
    "\n",
    "print(f\"\\nResults saved to: {output_file}\")"
   ]
  },
  {
   "cell_type": "code",
   "execution_count": null,
   "id": "1ec0e175",
   "metadata": {},
   "outputs": [],
   "source": [
    "def tokenize(s):\n",
    "    return re.split('\\s+', s)\n",
    "def untokenize(ts):\n",
    "    return ' '.join(ts)\n",
    "        \n",
    "def equalize(s1, s2):\n",
    "    l1 = tokenize(s1)\n",
    "    l2 = tokenize(s2)\n",
    "    res1 = []\n",
    "    res2 = []\n",
    "    prev = difflib.Match(0,0,0)\n",
    "    for match in difflib.SequenceMatcher(a=l1, b=l2).get_matching_blocks():\n",
    "        if (prev.a + prev.size != match.a):\n",
    "            for i in range(prev.a + prev.size, match.a):\n",
    "                res2 += ['_' * len(l1[i])]\n",
    "            res1 += l1[prev.a + prev.size:match.a]\n",
    "        if (prev.b + prev.size != match.b):\n",
    "            for i in range(prev.b + prev.size, match.b):\n",
    "                res1 += ['_' * len(l2[i])]\n",
    "            res2 += l2[prev.b + prev.size:match.b]\n",
    "        res1 += l1[match.a:match.a+match.size]\n",
    "        res2 += l2[match.b:match.b+match.size]\n",
    "        prev = match\n",
    "    return untokenize(res1), untokenize(res2)\n",
    "\n",
    "def insert_newlines(string, every=64, window=10):\n",
    "    result = []\n",
    "    from_string = string\n",
    "    while len(from_string) > 0:\n",
    "        cut_off = every\n",
    "        if len(from_string) > every:\n",
    "            while (from_string[cut_off-1] != ' ') and (cut_off > (every-window)):\n",
    "                cut_off -= 1\n",
    "        else:\n",
    "            cut_off = len(from_string)\n",
    "        part = from_string[:cut_off]\n",
    "        result += [part]\n",
    "        from_string = from_string[cut_off:]\n",
    "    return result\n",
    "\n",
    "def show_comparison(s1, s2, width=40, margin=10, sidebyside=True, compact=False):\n",
    "    s1, s2 = equalize(s1,s2)\n",
    "\n",
    "    if sidebyside:\n",
    "        s1 = insert_newlines(s1, width, margin)\n",
    "        s2 = insert_newlines(s2, width, margin)\n",
    "        if compact:\n",
    "            for i in range(0, len(s1)):\n",
    "                lft = re.sub(' +', ' ', s1[i].replace('_', '')).ljust(width)\n",
    "                rgt = re.sub(' +', ' ', s2[i].replace('_', '')).ljust(width) \n",
    "                print(lft + ' | ' + rgt + ' | ')        \n",
    "        else:\n",
    "            for i in range(0, len(s1)):\n",
    "                lft = s1[i].ljust(width)\n",
    "                rgt = s2[i].ljust(width)\n",
    "                print(lft + ' | ' + rgt + ' | ')\n",
    "    else:\n",
    "        print(s1)\n",
    "        print(s2)"
   ]
  },
  {
   "cell_type": "markdown",
   "id": "a3cbb1d1",
   "metadata": {},
   "source": [
    "Run as shown in the example above, use of multiple quotation marks is needed."
   ]
  },
  {
   "cell_type": "code",
   "execution_count": 3,
   "id": "63881559",
   "metadata": {},
   "outputs": [
    {
     "name": "stdout",
     "output_type": "stream",
     "text": [
      "odes = [\n",
      "    sympy.Eq(S(t).diff(t), - beta * S(t) * I(t) / N),\n",
      "    sympy.Eq(E(t).diff(t), beta * S(t) * I(t) / N - alpha * E(t)),\n",
      "    sympy.Eq(I(t).diff(t), alpha * E(t) - gamma * I(t)),\n",
      "    sympy.Eq(R(t).diff(t), gamma * I(t))\n",
      "]\n",
      "odes = [\n",
      "    sympy.Eq(S(t).diff(t), - beta * S(t) / N),\n",
      "    sympy.Eq(I(t).diff(t), beta * S(t) * I(t) / N - alpha * E(t)),\n",
      "    sympy.Eq(I(t).diff(t), alpha * E(t) - gamma_2 * I(t)),\n",
      "    sympy.Eq(R(t).diff(t), gamma * I(t))\n",
      "]\n",
      "\n",
      "Above-below comparison\n",
      "-------------------------------------------------------------------------------------\n",
      "odes = [ sympy.Eq(S(t).diff(t), - beta * S(t) * I(t) / N), sympy.Eq(E(t).diff(t), ______________________ beta * S(t) * I(t) / N - alpha * E(t)), sympy.Eq(I(t).diff(t), alpha * E(t) - gamma _______ * I(t)), sympy.Eq(R(t).diff(t), gamma * I(t)) ]\n",
      "odes = [ sympy.Eq(S(t).diff(t), - beta * S(t) _ ____ / N), ______________________ sympy.Eq(I(t).diff(t), beta * S(t) * I(t) / N - alpha * E(t)), sympy.Eq(I(t).diff(t), alpha * E(t) - _____ gamma_2 * I(t)), sympy.Eq(R(t).diff(t), gamma * I(t)) ]\n"
     ]
    }
   ],
   "source": [
    "original_str = \"\"\"odes = [\n",
    "    sympy.Eq(S(t).diff(t), - beta * S(t) * I(t) / N),\n",
    "    sympy.Eq(E(t).diff(t), beta * S(t) * I(t) / N - alpha * E(t)),\n",
    "    sympy.Eq(I(t).diff(t), alpha * E(t) - gamma * I(t)),\n",
    "    sympy.Eq(R(t).diff(t), gamma * I(t))\n",
    "]\"\"\"\n",
    "\n",
    "extracted_str = \"\"\"odes = [\n",
    "    sympy.Eq(S(t).diff(t), - beta * S(t) / N),\n",
    "    sympy.Eq(I(t).diff(t), beta * S(t) * I(t) / N - alpha * E(t)),\n",
    "    sympy.Eq(I(t).diff(t), alpha * E(t) - gamma_2 * I(t)),\n",
    "    sympy.Eq(R(t).diff(t), gamma * I(t))\n",
    "]\"\"\"\n",
    "\n",
    "print(original_str)\n",
    "print(extracted_str)\n",
    "\n",
    "print()\n",
    "print('Above-below comparison')\n",
    "print('-------------------------------------------------------------------------------------')\n",
    "show_comparison(original_str, extracted_str, sidebyside=False)"
   ]
  }
 ],
 "metadata": {
  "kernelspec": {
   "display_name": "Python (MIRA)",
   "language": "python",
   "name": "mira-env"
  },
  "language_info": {
   "codemirror_mode": {
    "name": "ipython",
    "version": 3
   },
   "file_extension": ".py",
   "mimetype": "text/x-python",
   "name": "python",
   "nbconvert_exporter": "python",
   "pygments_lexer": "ipython3",
   "version": "3.9.6"
  }
 },
 "nbformat": 4,
 "nbformat_minor": 5
}
