{
 "cells": [
  {
   "cell_type": "code",
   "execution_count": 31,
   "id": "fca5657b",
   "metadata": {},
   "outputs": [],
   "source": [
    "import difflib\n",
    "import re\n",
    "import pandas as pd\n",
    "import os\n",
    "import csv\n",
    "from datetime import datetime"
   ]
  },
  {
   "cell_type": "code",
   "execution_count": 32,
   "id": "05b8890c",
   "metadata": {},
   "outputs": [
    {
     "name": "stdout",
     "output_type": "stream",
     "text": [
      "/Users/kovacs.f/Desktop/mira/notebooks/equation extraction development/extraction error check/string mismatch check\n"
     ]
    }
   ],
   "source": [
    "print(os.getcwd())"
   ]
  },
  {
   "cell_type": "markdown",
   "id": "d8f85345",
   "metadata": {},
   "source": [
    "## Comparison of strings \n",
    "This tool can be used for comparing the extracted odes for the same model, but with different prompts or architectures.\n",
    "\n",
    "> s1 is the original string, s2 is the extracted"
   ]
  },
  {
   "cell_type": "code",
   "execution_count": 33,
   "id": "d9fad6e0",
   "metadata": {},
   "outputs": [
    {
     "ename": "FileNotFoundError",
     "evalue": "[Errno 2] No such file or directory: './correct_eqs_list.tsv'",
     "output_type": "error",
     "traceback": [
      "\u001b[31m---------------------------------------------------------------------------\u001b[39m",
      "\u001b[31mFileNotFoundError\u001b[39m                         Traceback (most recent call last)",
      "\u001b[36mCell\u001b[39m\u001b[36m \u001b[39m\u001b[32mIn[33]\u001b[39m\u001b[32m, line 4\u001b[39m\n\u001b[32m      1\u001b[39m version = \u001b[33m\"\u001b[39m\u001b[33m002\u001b[39m\u001b[33m\"\u001b[39m \u001b[38;5;66;03m# manually type the version here\u001b[39;00m\n\u001b[32m      3\u001b[39m data_path = \u001b[33m'\u001b[39m\u001b[33m.\u001b[39m\u001b[33m'\u001b[39m  \n\u001b[32m----> \u001b[39m\u001b[32m4\u001b[39m df_correct = \u001b[43mpd\u001b[49m\u001b[43m.\u001b[49m\u001b[43mread_csv\u001b[49m\u001b[43m(\u001b[49m\u001b[43mos\u001b[49m\u001b[43m.\u001b[49m\u001b[43mpath\u001b[49m\u001b[43m.\u001b[49m\u001b[43mjoin\u001b[49m\u001b[43m(\u001b[49m\u001b[43mdata_path\u001b[49m\u001b[43m,\u001b[49m\u001b[43m \u001b[49m\u001b[33;43m'\u001b[39;49m\u001b[33;43mcorrect_eqs_list.tsv\u001b[39;49m\u001b[33;43m'\u001b[39;49m\u001b[43m)\u001b[49m\u001b[43m,\u001b[49m\u001b[43m \u001b[49m\u001b[43msep\u001b[49m\u001b[43m=\u001b[49m\u001b[33;43m'\u001b[39;49m\u001b[38;5;130;43;01m\\t\u001b[39;49;00m\u001b[33;43m'\u001b[39;49m\u001b[43m)\u001b[49m\n\u001b[32m      5\u001b[39m df_extracted = pd.read_csv(os.path.join(data_path, \u001b[33mf\u001b[39m\u001b[33m'\u001b[39m\u001b[33mextracted_eqs_VERSION\u001b[39m\u001b[38;5;132;01m{\u001b[39;00mversion\u001b[38;5;132;01m}\u001b[39;00m\u001b[33m.tsv\u001b[39m\u001b[33m'\u001b[39m), sep=\u001b[33m'\u001b[39m\u001b[38;5;130;01m\\t\u001b[39;00m\u001b[33m'\u001b[39m)\n",
      "\u001b[36mFile \u001b[39m\u001b[32m~/Desktop/mira/.venv/lib/python3.13/site-packages/pandas/io/parsers/readers.py:1026\u001b[39m, in \u001b[36mread_csv\u001b[39m\u001b[34m(filepath_or_buffer, sep, delimiter, header, names, index_col, usecols, dtype, engine, converters, true_values, false_values, skipinitialspace, skiprows, skipfooter, nrows, na_values, keep_default_na, na_filter, verbose, skip_blank_lines, parse_dates, infer_datetime_format, keep_date_col, date_parser, date_format, dayfirst, cache_dates, iterator, chunksize, compression, thousands, decimal, lineterminator, quotechar, quoting, doublequote, escapechar, comment, encoding, encoding_errors, dialect, on_bad_lines, delim_whitespace, low_memory, memory_map, float_precision, storage_options, dtype_backend)\u001b[39m\n\u001b[32m   1013\u001b[39m kwds_defaults = _refine_defaults_read(\n\u001b[32m   1014\u001b[39m     dialect,\n\u001b[32m   1015\u001b[39m     delimiter,\n\u001b[32m   (...)\u001b[39m\u001b[32m   1022\u001b[39m     dtype_backend=dtype_backend,\n\u001b[32m   1023\u001b[39m )\n\u001b[32m   1024\u001b[39m kwds.update(kwds_defaults)\n\u001b[32m-> \u001b[39m\u001b[32m1026\u001b[39m \u001b[38;5;28;01mreturn\u001b[39;00m \u001b[43m_read\u001b[49m\u001b[43m(\u001b[49m\u001b[43mfilepath_or_buffer\u001b[49m\u001b[43m,\u001b[49m\u001b[43m \u001b[49m\u001b[43mkwds\u001b[49m\u001b[43m)\u001b[49m\n",
      "\u001b[36mFile \u001b[39m\u001b[32m~/Desktop/mira/.venv/lib/python3.13/site-packages/pandas/io/parsers/readers.py:620\u001b[39m, in \u001b[36m_read\u001b[39m\u001b[34m(filepath_or_buffer, kwds)\u001b[39m\n\u001b[32m    617\u001b[39m _validate_names(kwds.get(\u001b[33m\"\u001b[39m\u001b[33mnames\u001b[39m\u001b[33m\"\u001b[39m, \u001b[38;5;28;01mNone\u001b[39;00m))\n\u001b[32m    619\u001b[39m \u001b[38;5;66;03m# Create the parser.\u001b[39;00m\n\u001b[32m--> \u001b[39m\u001b[32m620\u001b[39m parser = \u001b[43mTextFileReader\u001b[49m\u001b[43m(\u001b[49m\u001b[43mfilepath_or_buffer\u001b[49m\u001b[43m,\u001b[49m\u001b[43m \u001b[49m\u001b[43m*\u001b[49m\u001b[43m*\u001b[49m\u001b[43mkwds\u001b[49m\u001b[43m)\u001b[49m\n\u001b[32m    622\u001b[39m \u001b[38;5;28;01mif\u001b[39;00m chunksize \u001b[38;5;129;01mor\u001b[39;00m iterator:\n\u001b[32m    623\u001b[39m     \u001b[38;5;28;01mreturn\u001b[39;00m parser\n",
      "\u001b[36mFile \u001b[39m\u001b[32m~/Desktop/mira/.venv/lib/python3.13/site-packages/pandas/io/parsers/readers.py:1620\u001b[39m, in \u001b[36mTextFileReader.__init__\u001b[39m\u001b[34m(self, f, engine, **kwds)\u001b[39m\n\u001b[32m   1617\u001b[39m     \u001b[38;5;28mself\u001b[39m.options[\u001b[33m\"\u001b[39m\u001b[33mhas_index_names\u001b[39m\u001b[33m\"\u001b[39m] = kwds[\u001b[33m\"\u001b[39m\u001b[33mhas_index_names\u001b[39m\u001b[33m\"\u001b[39m]\n\u001b[32m   1619\u001b[39m \u001b[38;5;28mself\u001b[39m.handles: IOHandles | \u001b[38;5;28;01mNone\u001b[39;00m = \u001b[38;5;28;01mNone\u001b[39;00m\n\u001b[32m-> \u001b[39m\u001b[32m1620\u001b[39m \u001b[38;5;28mself\u001b[39m._engine = \u001b[38;5;28;43mself\u001b[39;49m\u001b[43m.\u001b[49m\u001b[43m_make_engine\u001b[49m\u001b[43m(\u001b[49m\u001b[43mf\u001b[49m\u001b[43m,\u001b[49m\u001b[43m \u001b[49m\u001b[38;5;28;43mself\u001b[39;49m\u001b[43m.\u001b[49m\u001b[43mengine\u001b[49m\u001b[43m)\u001b[49m\n",
      "\u001b[36mFile \u001b[39m\u001b[32m~/Desktop/mira/.venv/lib/python3.13/site-packages/pandas/io/parsers/readers.py:1880\u001b[39m, in \u001b[36mTextFileReader._make_engine\u001b[39m\u001b[34m(self, f, engine)\u001b[39m\n\u001b[32m   1878\u001b[39m     \u001b[38;5;28;01mif\u001b[39;00m \u001b[33m\"\u001b[39m\u001b[33mb\u001b[39m\u001b[33m\"\u001b[39m \u001b[38;5;129;01mnot\u001b[39;00m \u001b[38;5;129;01min\u001b[39;00m mode:\n\u001b[32m   1879\u001b[39m         mode += \u001b[33m\"\u001b[39m\u001b[33mb\u001b[39m\u001b[33m\"\u001b[39m\n\u001b[32m-> \u001b[39m\u001b[32m1880\u001b[39m \u001b[38;5;28mself\u001b[39m.handles = \u001b[43mget_handle\u001b[49m\u001b[43m(\u001b[49m\n\u001b[32m   1881\u001b[39m \u001b[43m    \u001b[49m\u001b[43mf\u001b[49m\u001b[43m,\u001b[49m\n\u001b[32m   1882\u001b[39m \u001b[43m    \u001b[49m\u001b[43mmode\u001b[49m\u001b[43m,\u001b[49m\n\u001b[32m   1883\u001b[39m \u001b[43m    \u001b[49m\u001b[43mencoding\u001b[49m\u001b[43m=\u001b[49m\u001b[38;5;28;43mself\u001b[39;49m\u001b[43m.\u001b[49m\u001b[43moptions\u001b[49m\u001b[43m.\u001b[49m\u001b[43mget\u001b[49m\u001b[43m(\u001b[49m\u001b[33;43m\"\u001b[39;49m\u001b[33;43mencoding\u001b[39;49m\u001b[33;43m\"\u001b[39;49m\u001b[43m,\u001b[49m\u001b[43m \u001b[49m\u001b[38;5;28;43;01mNone\u001b[39;49;00m\u001b[43m)\u001b[49m\u001b[43m,\u001b[49m\n\u001b[32m   1884\u001b[39m \u001b[43m    \u001b[49m\u001b[43mcompression\u001b[49m\u001b[43m=\u001b[49m\u001b[38;5;28;43mself\u001b[39;49m\u001b[43m.\u001b[49m\u001b[43moptions\u001b[49m\u001b[43m.\u001b[49m\u001b[43mget\u001b[49m\u001b[43m(\u001b[49m\u001b[33;43m\"\u001b[39;49m\u001b[33;43mcompression\u001b[39;49m\u001b[33;43m\"\u001b[39;49m\u001b[43m,\u001b[49m\u001b[43m \u001b[49m\u001b[38;5;28;43;01mNone\u001b[39;49;00m\u001b[43m)\u001b[49m\u001b[43m,\u001b[49m\n\u001b[32m   1885\u001b[39m \u001b[43m    \u001b[49m\u001b[43mmemory_map\u001b[49m\u001b[43m=\u001b[49m\u001b[38;5;28;43mself\u001b[39;49m\u001b[43m.\u001b[49m\u001b[43moptions\u001b[49m\u001b[43m.\u001b[49m\u001b[43mget\u001b[49m\u001b[43m(\u001b[49m\u001b[33;43m\"\u001b[39;49m\u001b[33;43mmemory_map\u001b[39;49m\u001b[33;43m\"\u001b[39;49m\u001b[43m,\u001b[49m\u001b[43m \u001b[49m\u001b[38;5;28;43;01mFalse\u001b[39;49;00m\u001b[43m)\u001b[49m\u001b[43m,\u001b[49m\n\u001b[32m   1886\u001b[39m \u001b[43m    \u001b[49m\u001b[43mis_text\u001b[49m\u001b[43m=\u001b[49m\u001b[43mis_text\u001b[49m\u001b[43m,\u001b[49m\n\u001b[32m   1887\u001b[39m \u001b[43m    \u001b[49m\u001b[43merrors\u001b[49m\u001b[43m=\u001b[49m\u001b[38;5;28;43mself\u001b[39;49m\u001b[43m.\u001b[49m\u001b[43moptions\u001b[49m\u001b[43m.\u001b[49m\u001b[43mget\u001b[49m\u001b[43m(\u001b[49m\u001b[33;43m\"\u001b[39;49m\u001b[33;43mencoding_errors\u001b[39;49m\u001b[33;43m\"\u001b[39;49m\u001b[43m,\u001b[49m\u001b[43m \u001b[49m\u001b[33;43m\"\u001b[39;49m\u001b[33;43mstrict\u001b[39;49m\u001b[33;43m\"\u001b[39;49m\u001b[43m)\u001b[49m\u001b[43m,\u001b[49m\n\u001b[32m   1888\u001b[39m \u001b[43m    \u001b[49m\u001b[43mstorage_options\u001b[49m\u001b[43m=\u001b[49m\u001b[38;5;28;43mself\u001b[39;49m\u001b[43m.\u001b[49m\u001b[43moptions\u001b[49m\u001b[43m.\u001b[49m\u001b[43mget\u001b[49m\u001b[43m(\u001b[49m\u001b[33;43m\"\u001b[39;49m\u001b[33;43mstorage_options\u001b[39;49m\u001b[33;43m\"\u001b[39;49m\u001b[43m,\u001b[49m\u001b[43m \u001b[49m\u001b[38;5;28;43;01mNone\u001b[39;49;00m\u001b[43m)\u001b[49m\u001b[43m,\u001b[49m\n\u001b[32m   1889\u001b[39m \u001b[43m\u001b[49m\u001b[43m)\u001b[49m\n\u001b[32m   1890\u001b[39m \u001b[38;5;28;01massert\u001b[39;00m \u001b[38;5;28mself\u001b[39m.handles \u001b[38;5;129;01mis\u001b[39;00m \u001b[38;5;129;01mnot\u001b[39;00m \u001b[38;5;28;01mNone\u001b[39;00m\n\u001b[32m   1891\u001b[39m f = \u001b[38;5;28mself\u001b[39m.handles.handle\n",
      "\u001b[36mFile \u001b[39m\u001b[32m~/Desktop/mira/.venv/lib/python3.13/site-packages/pandas/io/common.py:873\u001b[39m, in \u001b[36mget_handle\u001b[39m\u001b[34m(path_or_buf, mode, encoding, compression, memory_map, is_text, errors, storage_options)\u001b[39m\n\u001b[32m    868\u001b[39m \u001b[38;5;28;01melif\u001b[39;00m \u001b[38;5;28misinstance\u001b[39m(handle, \u001b[38;5;28mstr\u001b[39m):\n\u001b[32m    869\u001b[39m     \u001b[38;5;66;03m# Check whether the filename is to be opened in binary mode.\u001b[39;00m\n\u001b[32m    870\u001b[39m     \u001b[38;5;66;03m# Binary mode does not support 'encoding' and 'newline'.\u001b[39;00m\n\u001b[32m    871\u001b[39m     \u001b[38;5;28;01mif\u001b[39;00m ioargs.encoding \u001b[38;5;129;01mand\u001b[39;00m \u001b[33m\"\u001b[39m\u001b[33mb\u001b[39m\u001b[33m\"\u001b[39m \u001b[38;5;129;01mnot\u001b[39;00m \u001b[38;5;129;01min\u001b[39;00m ioargs.mode:\n\u001b[32m    872\u001b[39m         \u001b[38;5;66;03m# Encoding\u001b[39;00m\n\u001b[32m--> \u001b[39m\u001b[32m873\u001b[39m         handle = \u001b[38;5;28;43mopen\u001b[39;49m\u001b[43m(\u001b[49m\n\u001b[32m    874\u001b[39m \u001b[43m            \u001b[49m\u001b[43mhandle\u001b[49m\u001b[43m,\u001b[49m\n\u001b[32m    875\u001b[39m \u001b[43m            \u001b[49m\u001b[43mioargs\u001b[49m\u001b[43m.\u001b[49m\u001b[43mmode\u001b[49m\u001b[43m,\u001b[49m\n\u001b[32m    876\u001b[39m \u001b[43m            \u001b[49m\u001b[43mencoding\u001b[49m\u001b[43m=\u001b[49m\u001b[43mioargs\u001b[49m\u001b[43m.\u001b[49m\u001b[43mencoding\u001b[49m\u001b[43m,\u001b[49m\n\u001b[32m    877\u001b[39m \u001b[43m            \u001b[49m\u001b[43merrors\u001b[49m\u001b[43m=\u001b[49m\u001b[43merrors\u001b[49m\u001b[43m,\u001b[49m\n\u001b[32m    878\u001b[39m \u001b[43m            \u001b[49m\u001b[43mnewline\u001b[49m\u001b[43m=\u001b[49m\u001b[33;43m\"\u001b[39;49m\u001b[33;43m\"\u001b[39;49m\u001b[43m,\u001b[49m\n\u001b[32m    879\u001b[39m \u001b[43m        \u001b[49m\u001b[43m)\u001b[49m\n\u001b[32m    880\u001b[39m     \u001b[38;5;28;01melse\u001b[39;00m:\n\u001b[32m    881\u001b[39m         \u001b[38;5;66;03m# Binary mode\u001b[39;00m\n\u001b[32m    882\u001b[39m         handle = \u001b[38;5;28mopen\u001b[39m(handle, ioargs.mode)\n",
      "\u001b[31mFileNotFoundError\u001b[39m: [Errno 2] No such file or directory: './correct_eqs_list.tsv'"
     ]
    }
   ],
   "source": [
    "version = \"002\" # manually type the version here\n",
    "\n",
    "data_path = '.'  \n",
    "df_correct = pd.read_csv(os.path.join(data_path, 'correct_eqs_list.tsv'), sep='\\t')\n",
    "df_extracted = pd.read_csv(os.path.join(data_path, f'extracted_eqs_VERSION{version}.tsv'), sep='\\t')"
   ]
  },
  {
   "cell_type": "code",
   "execution_count": null,
   "id": "1ec0e175",
   "metadata": {},
   "outputs": [
    {
     "name": "stderr",
     "output_type": "stream",
     "text": [
      "<>:2: SyntaxWarning: invalid escape sequence '\\s'\n",
      "<>:2: SyntaxWarning: invalid escape sequence '\\s'\n",
      "/var/folders/lf/k3_94b6505l3285j70gv8nt00000gp/T/ipykernel_41327/1548269704.py:2: SyntaxWarning: invalid escape sequence '\\s'\n",
      "  return re.split('\\s+', s)\n"
     ]
    }
   ],
   "source": [
    "def tokenize(s):\n",
    "    return re.split('\\s+', s)\n",
    "def untokenize(ts):\n",
    "    return ' '.join(ts)\n",
    "        \n",
    "def equalize(s1, s2):\n",
    "    l1 = tokenize(s1)\n",
    "    l2 = tokenize(s2)\n",
    "    res1 = []\n",
    "    res2 = []\n",
    "    prev = difflib.Match(0,0,0)\n",
    "    for match in difflib.SequenceMatcher(a=l1, b=l2).get_matching_blocks():\n",
    "        if (prev.a + prev.size != match.a):\n",
    "            for i in range(prev.a + prev.size, match.a):\n",
    "                res2 += ['_' * len(l1[i])]\n",
    "            res1 += l1[prev.a + prev.size:match.a]\n",
    "        if (prev.b + prev.size != match.b):\n",
    "            for i in range(prev.b + prev.size, match.b):\n",
    "                res1 += ['_' * len(l2[i])]\n",
    "            res2 += l2[prev.b + prev.size:match.b]\n",
    "        res1 += l1[match.a:match.a+match.size]\n",
    "        res2 += l2[match.b:match.b+match.size]\n",
    "        prev = match\n",
    "    return untokenize(res1), untokenize(res2)\n",
    "\n",
    "def insert_newlines(string, every=64, window=10):\n",
    "    result = []\n",
    "    from_string = string\n",
    "    while len(from_string) > 0:\n",
    "        cut_off = every\n",
    "        if len(from_string) > every:\n",
    "            while (from_string[cut_off-1] != ' ') and (cut_off > (every-window)):\n",
    "                cut_off -= 1\n",
    "        else:\n",
    "            cut_off = len(from_string)\n",
    "        part = from_string[:cut_off]\n",
    "        result += [part]\n",
    "        from_string = from_string[cut_off:]\n",
    "    return result\n",
    "\n",
    "def show_comparison(s1, s2, width=40, margin=10, sidebyside=True, compact=False):\n",
    "    s1, s2 = equalize(s1,s2)\n",
    "\n",
    "    if sidebyside:\n",
    "        s1 = insert_newlines(s1, width, margin)\n",
    "        s2 = insert_newlines(s2, width, margin)\n",
    "        if compact:\n",
    "            for i in range(0, len(s1)):\n",
    "                lft = re.sub(' +', ' ', s1[i].replace('_', '')).ljust(width)\n",
    "                rgt = re.sub(' +', ' ', s2[i].replace('_', '')).ljust(width) \n",
    "                print(lft + ' | ' + rgt + ' | ')        \n",
    "        else:\n",
    "            for i in range(0, len(s1)):\n",
    "                lft = s1[i].ljust(width)\n",
    "                rgt = s2[i].ljust(width)\n",
    "                print(lft + ' | ' + rgt + ' | ')\n",
    "    else:\n",
    "        print(s1)\n",
    "        print(s2)\n",
    "\n",
    "def find_errors(s1, s2):\n",
    "    errors = []\n",
    "    \n",
    "    tokens1 = tokenize(s1)\n",
    "    tokens2 = tokenize(s2)\n",
    "    \n",
    "    missing = set(tokens1) - set(tokens2)           #missing tokens\n",
    "    for token in missing:\n",
    "        errors.append(f\"Missing token: '{token}'\")\n",
    "    \n",
    "    extra = set(tokens2) - set(tokens1)         #extra token insertations\n",
    "    for token in extra:\n",
    "        errors.append(f\"Extra token: '{token}'\")\n",
    "    \n",
    "    matcher = difflib.SequenceMatcher(None, tokens1, tokens2)\n",
    "    for tag, i1, i2, j1, j2 in matcher.get_opcodes():\n",
    "        if tag == 'replace':\n",
    "            for k in range(i2 - i1):\n",
    "                if i1 + k < len(tokens1) and j1 + k < len(tokens2):\n",
    "                    errors.append(f\"Changed: '{tokens1[i1 + k]}' → '{tokens2[j1 + k]}'\")\n",
    "    \n",
    "    return errors\n",
    "\n",
    "def count_mismatches(eq1, eq2):         # counting underscores\n",
    "    mismatches = 0\n",
    "    mismatches += eq1.count('_')\n",
    "    mismatches += eq2.count('_')\n",
    "    return mismatches\n",
    "\n",
    "def normalize_equation(s):      # linebreaks and spaces are not errors\n",
    "    s = re.sub(r'\\s+', ' ', s)\n",
    "    s = re.sub(r'\\s*,\\s*', ', ', s)\n",
    "    s = re.sub(r'\\s*\\[\\s*', '[', s)\n",
    "    s = re.sub(r'\\s*\\]\\s*', ']', s)\n",
    "    s = re.sub(r'\\s*([+\\-*/=()<>,])\\s*', r'\\1', s)\n",
    "    s = re.sub(r'([+\\-*/=])', r' \\1 ', s)\n",
    "    return s.strip()"
   ]
  },
  {
   "cell_type": "code",
   "execution_count": null,
   "id": "78b983d1",
   "metadata": {},
   "outputs": [
    {
     "name": "stdout",
     "output_type": "stream",
     "text": [
      "\n",
      "Comparing model: BIOMD0000000991\n",
      "Above-below comparison\n",
      "--------------------------------------------------------------------------------\n",
      "odes = [sympy.Eq(S(t).diff(t), - beta_c _______ * (alpha ___________________________________ * A ____ + I) __ _ __________ * S / (N_h - I_D)),sympy.Eq(E(t).diff(t),beta_c _______ * (alpha * A + I) * S / (N_h - I_D) ____ - sigma * E),sympy.Eq(A(t).diff(t),nu ______________________________ _ ____ * sigma * E ____ - (theta ______ + gamma_a) ____ * A),sympy.Eq(I(t).diff(t),(1 - nu) _______________________________ * sigma * E ____ - (psi _____ _ _________________________________ _ ____ + gamma_O _____ _ ____ + d_O) _____ * I),sympy.Eq(I_D(t).diff(t),theta ____________________________ _ __ _ __________ * A _______ _ _______________________________ _ ____ _ ______ + psi ___ * I - (gamma_i + d_D) * I_D),sympy.Eq(R(t).diff(t),gamma_i * I_D + gamma_a * A + gamma_O * I)] ______\n",
      "odes = [sympy.Eq(S(t).diff(t), - ______ lambda_ * ______ S(t)),sympy.Eq(E(t).diff(t),lambda_ * _ S(t) + __ (1 - epsilon_v) * _ _ ____ _ __________________________________ lambda_ * ______ _ _ _ __ _ _ _ ____ _ ____ V(t) - sigma * ___________________________ E(t)),sympy.Eq(I(t).diff(t),(1 - p_T) * sigma * _ E(t) - ______ (delta + ________ eta) * ___________________________ _ ___ I(t)),sympy.Eq(T(t).diff(t),p_T * sigma * _ E(t) - ____ delta * T(t)),sympy.Eq(R(t).diff(t),delta * I(t) + _______ delta * T(t) + ____ kappa * ________________________________ H(t)),sympy.Eq(V(t).diff(t), - (1 - epsilon_v) * _ lambda_ * V(t)),sympy.Eq(H(t).diff(t),eta * I(t) - (kappa + ___ mu) * _ _ ________ _ ____ _ __________________________________ _ ___ _ _______ _ _ _ _______ _ ___ H(t))]\n",
      "\n",
      "Results saved to: str_comparison_results_version002.txt\n"
     ]
    }
   ],
   "source": [
    "output_file= f'str_comparison_results_version{version}.txt'\n",
    "\n",
    "total_models = 0\n",
    "total_mismatches = 0\n",
    "models_with_errors = []\n",
    "\n",
    "with open(output_file, 'w') as f:\n",
    "        for idx, row in df_correct.iterrows():\n",
    "            model_name = row['model']\n",
    "            s1 = str(row['correct_eqs'])\n",
    "            s1 = normalize_equation(s1)\n",
    "\n",
    "            matching = df_extracted[df_extracted['model'] == model_name]\n",
    "            if not matching.empty:\n",
    "                total_models += 1\n",
    "                s2 = str(matching.iloc[0]['extracted_eqs']) #there shouldn't be multiple rows for a model, but iloc[0] selects the first one if it happens\n",
    "                s2 = normalize_equation(s2)\n",
    "\n",
    "                f.write(f\"\\n{'='*80}\\n\")\n",
    "                f.write(f\"Model: {model_name}\\n\")\n",
    "                f.write(f\"{'='*80}\\n\")\n",
    "                f.write(\"Correct equation:\\n\")\n",
    "                f.write(s1 + \"\\n\\n\")\n",
    "                f.write(\"Extracted equation:\\n\")\n",
    "                f.write(s2 + \"\\n\\n\")\n",
    "                f.write('Above-below comparison\\n')\n",
    "                f.write('-'*80 + '\\n')\n",
    "\n",
    "                eq1, eq2 = equalize(s1, s2)\n",
    "                f.write(eq1 + '\\n')\n",
    "                f.write(eq2 + '\\n')\n",
    "                f.write('\\n')\n",
    "\n",
    "                mismatch_count = count_mismatches(eq1, eq2)\n",
    "                f.write(f\"\\nNumber of mismatches: {mismatch_count}\\n\")\n",
    "                total_mismatches += mismatch_count\n",
    "\n",
    "                errors = find_errors(s1, s2)\n",
    "                if errors:\n",
    "                    models_with_errors.append((model_name, len(errors)))\n",
    "                    f.write(f\"\\nErrors found ({len(errors)}):\\n\")\n",
    "                    for error in errors:\n",
    "                        f.write(f\"  - {error}\\n\")\n",
    "                else:\n",
    "                    f.write(\"\\nNo token-level errors found (equations may differ only in spacing/formatting)\\n\")\n",
    "\n",
    "                print(f\"\\nComparing model: {model_name}\")\n",
    "                print('Above-below comparison')\n",
    "                print('-'*80)\n",
    "                show_comparison(s1, s2, sidebyside=False)\n",
    "            else:\n",
    "                f.write(f\"\\nModel {model_name} not found in extracted equations!\\n\")    \n",
    "\n",
    "with open(output_file, 'a') as f:\n",
    "    f.write(f\"\\n\\n{'='*80}\\n\")\n",
    "    f.write(\"SUMMARY\\n\")\n",
    "    f.write(f\"{'='*80}\\n\")\n",
    "    f.write(f\"Total models compared: {total_models}\\n\")\n",
    "    f.write(f\"Total mismatches found: {total_mismatches}\\n\")\n",
    "    f.write(f\"Models with errors: {len(models_with_errors)}\\n\\n\")\n",
    "    \n",
    "    if models_with_errors:\n",
    "        f.write(\"Models with errors (model_name, error_count):\\n\")\n",
    "        for model, count in models_with_errors:\n",
    "            f.write(f\"  - {model}: {count} errors\\n\")\n",
    "\n",
    "print(f\"\\nResults saved to: {output_file}\")"
   ]
  },
  {
   "cell_type": "markdown",
   "id": "5370b243",
   "metadata": {},
   "source": [
    "Summaries of the different versions in a csv:"
   ]
  },
  {
   "cell_type": "code",
   "execution_count": null,
   "id": "537476c4",
   "metadata": {},
   "outputs": [
    {
     "name": "stdout",
     "output_type": "stream",
     "text": [
      "\n",
      "Summary appended to: str_check_version_sums.csv\n"
     ]
    }
   ],
   "source": [
    "summary_csv = 'str_check_version_sums.csv'\n",
    "\n",
    "file_exists = os.path.exists(summary_csv)\n",
    "\n",
    "with open(summary_csv, 'a', newline='') as f:\n",
    "    fieldnames = ['version', 'timestamp', 'total_models', 'total_mismatches', 'models_with_errors', 'error_details']\n",
    "    writer = csv.DictWriter(f, fieldnames=fieldnames)\n",
    "    if not file_exists:\n",
    "        writer.writeheader()\n",
    "    error_details = '; '.join([f\"{model}:{count}\" for model, count in models_with_errors])\n",
    "    writer.writerow({\n",
    "        'version': version,\n",
    "        'timestamp': datetime.now().strftime(\"%Y-%m-%d %H:%M:%S\"),\n",
    "        'total_models': total_models,\n",
    "        'total_mismatches': total_mismatches,\n",
    "        'models_with_errors': len(models_with_errors),\n",
    "        'error_details': error_details\n",
    "    })\n",
    "print(f\"\\nSummary appended to: {summary_csv}\")"
   ]
  },
  {
   "cell_type": "code",
   "execution_count": null,
   "id": "63881559",
   "metadata": {},
   "outputs": [],
   "source": [
    "#if you want to make only on comaprison, do it manually like this:\n",
    "\n",
    "# original_str = \"\"\"odes = [\n",
    "#     sympy.Eq(S(t).diff(t), - beta * S(t) * I(t) / N),\n",
    "#     sympy.Eq(E(t).diff(t), beta * S(t) * I(t) / N - alpha * E(t)),\n",
    "#     sympy.Eq(I(t).diff(t), alpha * E(t) - gamma * I(t)),\n",
    "#     sympy.Eq(R(t).diff(t), gamma * I(t))\n",
    "# ]\"\"\"\n",
    "\n",
    "# extracted_str = \"\"\"odes = [\n",
    "#     sympy.Eq(S(t).diff(t), - beta * S(t) / N),\n",
    "#     sympy.Eq(I(t).diff(t), beta * S(t) * I(t) / N - alpha * E(t)),\n",
    "#     sympy.Eq(I(t).diff(t), alpha * E(t) - gamma_2 * I(t)),\n",
    "#     sympy.Eq(R(t).diff(t), gamma * I(t))\n",
    "# ]\"\"\"\n",
    "\n",
    "# print(original_str)\n",
    "# print(extracted_str)\n",
    "\n",
    "# print()\n",
    "# print('Above-below comparison')\n",
    "# print('-------------------------------------------------------------------------------------')\n",
    "# show_comparison(original_str, extracted_str, sidebyside=False)"
   ]
  }
 ],
 "metadata": {
  "kernelspec": {
   "display_name": "Python (mira)",
   "language": "python",
   "name": "mira"
  },
  "language_info": {
   "codemirror_mode": {
    "name": "ipython",
    "version": 3
   },
   "file_extension": ".py",
   "mimetype": "text/x-python",
   "name": "python",
   "nbconvert_exporter": "python",
   "pygments_lexer": "ipython3",
   "version": "3.13.5"
  }
 },
 "nbformat": 4,
 "nbformat_minor": 5
}
