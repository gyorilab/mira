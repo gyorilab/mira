{
 "cells": [
  {
   "cell_type": "markdown",
   "metadata": {},
   "source": [
    "## Using the MIRA Domain Knowledge Graph REST API\n",
    "\n",
    "MIRA implements an approach to rapidly generate domain-specific knowledge graphs (DKGs) from primary sources such as available ontologies, in support of modeling. Though there can be different DKGs for different scientific domains in which modeling is performed, the technical APIs for DKGs are shared across domains.\n",
    "\n",
    "Below we demonstrate the MIRA DKG REST API on an epidemiology DKG that integrates about a dozen different relevant ontologies.\n",
    "\n",
    "### Node representation\n",
    "It is important to note that nodes in the DKG are labeled using compact URIs also known as CURIEs. For example, a node representing the Infectious Disease Ontology (IDO) entry 0000556 has the label ido:0000556. Here, the `ido` prefix comes from the standard prefix defined for IDO in the Bioregistry: https://bioregistry.io/registry/ido."
   ]
  },
  {
   "cell_type": "code",
   "execution_count": 1,
   "metadata": {},
   "outputs": [],
   "source": [
    "import requests"
   ]
  },
  {
   "cell_type": "markdown",
   "metadata": {},
   "source": [
    "Below we refer to the URL of a public MIRA epidemiology DKG instance. The URL is subject to change later."
   ]
  },
  {
   "cell_type": "code",
   "execution_count": 2,
   "metadata": {},
   "outputs": [],
   "source": [
    "base = \"http://34.230.33.149:8771/api\""
   ]
  },
  {
   "cell_type": "markdown",
   "metadata": {},
   "source": [
    "### Export lexical information from the DKG\n",
    "There is a dedicated endpoint for exporting all lexical information (names, synonyms, descriptions) for each DKG node. This can be useful for systems that do information extraction from unstructured sources and attempt to do named entity recognition, normalization, and disambiguation."
   ]
  },
  {
   "cell_type": "code",
   "execution_count": 4,
   "metadata": {},
   "outputs": [],
   "source": [
    "res = requests.get(base + \"/lexical\")"
   ]
  },
  {
   "cell_type": "markdown",
   "metadata": {},
   "source": [
    "The result is a list of lists, where elements in each list include the CURIE label of the node, its standard name, its list of synonyms and its description."
   ]
  },
  {
   "cell_type": "code",
   "execution_count": 10,
   "metadata": {
    "scrolled": true
   },
   "outputs": [
    {
     "data": {
      "text/plain": [
       "[['vo:0000212',\n",
       "  'pCI DNA vaccine plasmid',\n",
       "  None,\n",
       "  'a DNA vaccine plasmid that uses the plasmid labeled pCI.'],\n",
       " ['vo:0000213', 'hypersensitivity to chicken product', None, None],\n",
       " ['vo:0000214', 'pCI-neo DNA vaccine plasmid', None, None],\n",
       " ['vo:0000215', 'pCMV DNA vaccine plasmid', None, None],\n",
       " ['vo:0000216', 'pCMV-1 DNA vaccine plasmid', None, None]]"
      ]
     },
     "execution_count": 10,
     "metadata": {},
     "output_type": "execute_result"
    }
   ],
   "source": [
    "res.json()[20000:20005]"
   ]
  },
  {
   "cell_type": "markdown",
   "metadata": {},
   "source": [
    "### Structured graph pattern queries in the DKG\n",
    "We next look at REST API queries to the DKG that return matches based on simple structural patterns in the graph."
   ]
  },
  {
   "cell_type": "code",
   "execution_count": 11,
   "metadata": {},
   "outputs": [],
   "source": [
    "def query(payload, **_payload):\n",
    "    payload.update(_payload)\n",
    "    res = requests.post(base + \"/relations\", json=payload)\n",
    "    return res.json()"
   ]
  },
  {
   "cell_type": "markdown",
   "metadata": {},
   "source": [
    "#### Find relations with a given type of source node\n",
    "Example: Query for relations with Vaccine Ontology (vo) source nodes"
   ]
  },
  {
   "cell_type": "code",
   "execution_count": 12,
   "metadata": {},
   "outputs": [
    {
     "data": {
      "text/plain": [
       "[['vo:0000000', 'rdfs:subClassOf', 'vo:0000420'],\n",
       " ['vo:0000000', 'rdfs:subClassOf', 'vo:0000420']]"
      ]
     },
     "execution_count": 12,
     "metadata": {},
     "output_type": "execute_result"
    }
   ],
   "source": [
    "query({\"source_type\": \"vo\", \"limit\": 2})"
   ]
  },
  {
   "cell_type": "markdown",
   "metadata": {},
   "source": [
    "#### Find relations with a given type of target node\n",
    "Example: Query for relations with Symptom Ontology (symp) target nodes"
   ]
  },
  {
   "cell_type": "code",
   "execution_count": 15,
   "metadata": {
    "scrolled": true
   },
   "outputs": [
    {
     "data": {
      "text/plain": [
       "[['symp:0000375', 'rdfs:subClassOf', 'symp:0000001'],\n",
       " ['symp:0000375', 'rdfs:subClassOf', 'symp:0000001']]"
      ]
     },
     "execution_count": 15,
     "metadata": {},
     "output_type": "execute_result"
    }
   ],
   "source": [
    "query({\"target_type\": \"symp\", \"limit\": 2})"
   ]
  },
  {
   "cell_type": "markdown",
   "metadata": {},
   "source": [
    "#### Find relations between a given type of source node and target node\n",
    "Example: Query for relations from Disease Ontology (doid) to Symptom Ontology (symp) nodes"
   ]
  },
  {
   "cell_type": "code",
   "execution_count": 16,
   "metadata": {},
   "outputs": [
    {
     "data": {
      "text/plain": [
       "[['doid:96', 'ro:0002452', 'symp:0000001'],\n",
       " ['doid:946', 'ro:0002452', 'symp:0000001']]"
      ]
     },
     "execution_count": 16,
     "metadata": {},
     "output_type": "execute_result"
    }
   ],
   "source": [
    "query({\"source_type\": \"doid\", \"target_type\": \"symp\", \"limit\": 2})"
   ]
  },
  {
   "cell_type": "markdown",
   "metadata": {},
   "source": [
    "#### Find relations with a specific source node\n",
    "Example: Query for relations whose start node is dientamoebiasis (doid:946)."
   ]
  },
  {
   "cell_type": "code",
   "execution_count": 17,
   "metadata": {},
   "outputs": [
    {
     "data": {
      "text/plain": [
       "[['doid:946', 'ro:0002452', 'symp:0019177'],\n",
       " ['doid:946', 'ro:0002452', 'symp:0000570']]"
      ]
     },
     "execution_count": 17,
     "metadata": {},
     "output_type": "execute_result"
    }
   ],
   "source": [
    "query({\"source_curie\": \"doid:946\", \"limit\": 2})"
   ]
  },
  {
   "cell_type": "markdown",
   "metadata": {},
   "source": [
    "#### Find relations with a specific target node\n",
    "Example: Query for relations whose target node is diarrhea (symp:0000570)."
   ]
  },
  {
   "cell_type": "code",
   "execution_count": 18,
   "metadata": {},
   "outputs": [
    {
     "data": {
      "text/plain": [
       "[['symp:0020011', 'rdfs:subClassOf', 'symp:0000570'],\n",
       " ['symp:0000738', 'rdfs:subClassOf', 'symp:0000570']]"
      ]
     },
     "execution_count": 18,
     "metadata": {},
     "output_type": "execute_result"
    }
   ],
   "source": [
    "query({\"target_curie\": \"symp:0000570\", \"limit\": 2})"
   ]
  },
  {
   "cell_type": "markdown",
   "metadata": {},
   "source": [
    "#### Adding relation type constraints\n",
    "You can expand on the examples above to add not only source/target constraints but also constraints on the types of relations that are considered. For example, one can find relations that represent taxonomical subclasses using the `rdfs:subClassOf` relation type. "
   ]
  },
  {
   "cell_type": "markdown",
   "metadata": {},
   "source": [
    "Example: Query for subclass relations of a term in the Basic Formal Ontology (bfo:0000002)."
   ]
  },
  {
   "cell_type": "code",
   "execution_count": 19,
   "metadata": {},
   "outputs": [
    {
     "data": {
      "text/plain": [
       "[['bfo:0000002', 'rdfs:subClassOf', 'bfo:0000001'],\n",
       " ['bfo:0000002', 'rdfs:subClassOf', 'bfo:0000001']]"
      ]
     },
     "execution_count": 19,
     "metadata": {},
     "output_type": "execute_result"
    }
   ],
   "source": [
    "query({\"source_curie\": \"bfo:0000002\", \"relation\": \"rdfs:subClassOf\", \"limit\": 2})"
   ]
  },
  {
   "cell_type": "markdown",
   "metadata": {},
   "source": [
    "#### Adding constraints on path length\n",
    "You can also specify the maximum path length (\"number of hops\") surrounding a node for a query.\n",
    "\n",
    "Example: Find subclass relations of bfo:0000002 that are at most 2 hops away."
   ]
  },
  {
   "cell_type": "code",
   "execution_count": 21,
   "metadata": {},
   "outputs": [
    {
     "data": {
      "text/plain": [
       "[['bfo:0000002', ['rdfs:subClassOf'], 'bfo:0000001'],\n",
       " ['bfo:0000002', ['rdfs:subClassOf', 'rdfs:subClassOf'], 'owl:Thing']]"
      ]
     },
     "execution_count": 21,
     "metadata": {},
     "output_type": "execute_result"
    }
   ],
   "source": [
    "query(\n",
    "    {\n",
    "        \"source_curie\": \"bfo:0000002\",\n",
    "        \"relation\": \"rdfs:subClassOf\",\n",
    "        \"relation_max_hops\": 2,\n",
    "        \"limit\": 2,\n",
    "    }\n",
    ")"
   ]
  },
  {
   "cell_type": "code",
   "execution_count": 22,
   "metadata": {},
   "outputs": [
    {
     "data": {
      "text/plain": [
       "[['bfo:0000002', ['rdfs:subClassOf'], 'bfo:0000001'],\n",
       " ['bfo:0000002', ['rdfs:subClassOf', 'rdfs:subClassOf'], 'owl:Thing'],\n",
       " ['bfo:0000002', ['rdfs:subClassOf', 'bfo:0000108'], 'bfo:0000008'],\n",
       " ['bfo:0000002',\n",
       "  ['rdfs:subClassOf', 'bfo:0000108', 'rdfs:subClassOf'],\n",
       "  'bfo:0000003'],\n",
       " ['bfo:0000002',\n",
       "  ['rdfs:subClassOf', 'bfo:0000108', 'rdfs:subClassOf', 'rdfs:subClassOf'],\n",
       "  'bfo:0000001'],\n",
       " ['bfo:0000002',\n",
       "  ['rdfs:subClassOf',\n",
       "   'bfo:0000108',\n",
       "   'rdfs:subClassOf',\n",
       "   'rdfs:subClassOf',\n",
       "   'rdfs:subClassOf'],\n",
       "  'owl:Thing']]"
      ]
     },
     "execution_count": 22,
     "metadata": {},
     "output_type": "execute_result"
    }
   ],
   "source": [
    "# Query for specific source + relation over a variable number of hops\n",
    "query(\n",
    "    {\n",
    "        \"source_curie\": \"bfo:0000002\",\n",
    "        \"relation\": \"rdfs:subClassOf\",\n",
    "        \"relation_max_hops\": 0,\n",
    "        \"distinct\": True,\n",
    "    }\n",
    ")"
   ]
  },
  {
   "cell_type": "markdown",
   "metadata": {},
   "source": [
    "#### Querying over unconstrained path lengths\n",
    "One can query for relations by setting `relation_max_hops` to 0, which will return all paths matching the given constraints irrespective of length.\n",
    "\n",
    "Example: Get all taxonomical ancestors of a given node (doid:946)."
   ]
  },
  {
   "cell_type": "code",
   "execution_count": 23,
   "metadata": {},
   "outputs": [
    {
     "data": {
      "text/plain": [
       "[['doid:946', ['rdfs:subClassOf'], 'doid:2789'],\n",
       " ['doid:946', ['rdfs:subClassOf', 'rdfs:subClassOf'], 'doid:1398'],\n",
       " ['doid:946',\n",
       "  ['rdfs:subClassOf', 'rdfs:subClassOf', 'rdfs:subClassOf'],\n",
       "  'doid:0050117'],\n",
       " ['doid:946',\n",
       "  ['rdfs:subClassOf', 'rdfs:subClassOf', 'rdfs:subClassOf', 'rdfs:subClassOf'],\n",
       "  'doid:4'],\n",
       " ['doid:946',\n",
       "  ['rdfs:subClassOf',\n",
       "   'rdfs:subClassOf',\n",
       "   'rdfs:subClassOf',\n",
       "   'rdfs:subClassOf',\n",
       "   'rdfs:subClassOf'],\n",
       "  'bfo:0000016'],\n",
       " ['doid:946',\n",
       "  ['rdfs:subClassOf',\n",
       "   'rdfs:subClassOf',\n",
       "   'rdfs:subClassOf',\n",
       "   'rdfs:subClassOf',\n",
       "   'rdfs:subClassOf',\n",
       "   'rdfs:subClassOf'],\n",
       "  'bfo:0000017'],\n",
       " ['doid:946',\n",
       "  ['rdfs:subClassOf',\n",
       "   'rdfs:subClassOf',\n",
       "   'rdfs:subClassOf',\n",
       "   'rdfs:subClassOf',\n",
       "   'rdfs:subClassOf',\n",
       "   'rdfs:subClassOf',\n",
       "   'rdfs:subClassOf'],\n",
       "  'bfo:0000020'],\n",
       " ['doid:946',\n",
       "  ['rdfs:subClassOf',\n",
       "   'rdfs:subClassOf',\n",
       "   'rdfs:subClassOf',\n",
       "   'rdfs:subClassOf',\n",
       "   'rdfs:subClassOf',\n",
       "   'rdfs:subClassOf',\n",
       "   'rdfs:subClassOf',\n",
       "   'rdfs:subClassOf'],\n",
       "  'bfo:0000002'],\n",
       " ['doid:946',\n",
       "  ['rdfs:subClassOf',\n",
       "   'rdfs:subClassOf',\n",
       "   'rdfs:subClassOf',\n",
       "   'rdfs:subClassOf',\n",
       "   'rdfs:subClassOf',\n",
       "   'rdfs:subClassOf',\n",
       "   'rdfs:subClassOf',\n",
       "   'rdfs:subClassOf',\n",
       "   'rdfs:subClassOf'],\n",
       "  'bfo:0000001'],\n",
       " ['doid:946',\n",
       "  ['rdfs:subClassOf',\n",
       "   'rdfs:subClassOf',\n",
       "   'rdfs:subClassOf',\n",
       "   'rdfs:subClassOf',\n",
       "   'rdfs:subClassOf',\n",
       "   'rdfs:subClassOf',\n",
       "   'rdfs:subClassOf',\n",
       "   'rdfs:subClassOf',\n",
       "   'rdfs:subClassOf',\n",
       "   'rdfs:subClassOf'],\n",
       "  'owl:Thing'],\n",
       " ['doid:946',\n",
       "  ['rdfs:subClassOf',\n",
       "   'rdfs:subClassOf',\n",
       "   'rdfs:subClassOf',\n",
       "   'rdfs:subClassOf',\n",
       "   'rdfs:subClassOf',\n",
       "   'rdfs:subClassOf',\n",
       "   'rdfs:subClassOf',\n",
       "   'rdfs:subClassOf'],\n",
       "  'bfo:0000005'],\n",
       " ['doid:946',\n",
       "  ['rdfs:subClassOf',\n",
       "   'rdfs:subClassOf',\n",
       "   'rdfs:subClassOf',\n",
       "   'rdfs:subClassOf',\n",
       "   'rdfs:subClassOf',\n",
       "   'rdfs:subClassOf',\n",
       "   'rdfs:subClassOf',\n",
       "   'rdfs:subClassOf',\n",
       "   'rdfs:subClassOf'],\n",
       "  'bfo:0000002'],\n",
       " ['doid:946',\n",
       "  ['rdfs:subClassOf',\n",
       "   'rdfs:subClassOf',\n",
       "   'rdfs:subClassOf',\n",
       "   'rdfs:subClassOf',\n",
       "   'rdfs:subClassOf',\n",
       "   'rdfs:subClassOf',\n",
       "   'rdfs:subClassOf',\n",
       "   'rdfs:subClassOf',\n",
       "   'rdfs:subClassOf',\n",
       "   'rdfs:subClassOf'],\n",
       "  'bfo:0000001'],\n",
       " ['doid:946',\n",
       "  ['rdfs:subClassOf',\n",
       "   'rdfs:subClassOf',\n",
       "   'rdfs:subClassOf',\n",
       "   'rdfs:subClassOf',\n",
       "   'rdfs:subClassOf',\n",
       "   'rdfs:subClassOf',\n",
       "   'rdfs:subClassOf',\n",
       "   'rdfs:subClassOf',\n",
       "   'rdfs:subClassOf',\n",
       "   'rdfs:subClassOf',\n",
       "   'rdfs:subClassOf'],\n",
       "  'owl:Thing']]"
      ]
     },
     "execution_count": 23,
     "metadata": {},
     "output_type": "execute_result"
    }
   ],
   "source": [
    "query(\n",
    "    {\n",
    "        \"source_curie\": \"doid:946\",\n",
    "        \"relation\": [\"rdfs:subClassOf\", \"part_of\"],\n",
    "        \"relation_max_hops\": 0,\n",
    "        \"distinct\": True,\n",
    "    }\n",
    ")"
   ]
  },
  {
   "cell_type": "markdown",
   "metadata": {},
   "source": [
    "#### Including node properties in results\n",
    "You can use the `full: True` parameter to return results such that not only node CURIEs but all node properties (name, etc.) are returned as well. This should be used with care since the payload can get large in size, and is often redundant.\n",
    "\n",
    "Example: Find relations whose target is symp:0000570 with full node details."
   ]
  },
  {
   "cell_type": "code",
   "execution_count": 24,
   "metadata": {},
   "outputs": [
    {
     "data": {
      "text/plain": [
       "[[{'id': 'symp:0020011',\n",
       "   'name': 'bloody diarrhea',\n",
       "   'obsolete': False,\n",
       "   'type': 'class'},\n",
       "  {'graph': 'http://purl.obolibrary.org/obo/symp.owl',\n",
       "   'pred': 'rdfs:subClassOf',\n",
       "   'source': 'symp'},\n",
       "  {'description': 'Diarrhea is a feces and droppng symptom involving the abnormally frequent intestinal evacuations with more or less fluid stools.',\n",
       "   'id': 'symp:0000570',\n",
       "   'name': 'diarrhea',\n",
       "   'obsolete': False,\n",
       "   'synonyms': ['the runs',\n",
       "    'diarrhoea',\n",
       "    'loose bowels',\n",
       "    'loose bowel',\n",
       "    'bacterial gastroenteritis',\n",
       "    'fecal incontinence',\n",
       "    'incontinence of feces'],\n",
       "   'type': 'class',\n",
       "   'xrefs': ['icd9cm:787.91', 'umls:C0011991', 'umls.aui:A0048148']}],\n",
       " [{'id': 'symp:0000738',\n",
       "   'name': 'yellowish green diarrhea',\n",
       "   'obsolete': False,\n",
       "   'type': 'class'},\n",
       "  {'graph': 'http://purl.obolibrary.org/obo/symp.owl',\n",
       "   'pred': 'rdfs:subClassOf',\n",
       "   'source': 'symp'},\n",
       "  {'description': 'Diarrhea is a feces and droppng symptom involving the abnormally frequent intestinal evacuations with more or less fluid stools.',\n",
       "   'id': 'symp:0000570',\n",
       "   'name': 'diarrhea',\n",
       "   'obsolete': False,\n",
       "   'synonyms': ['the runs',\n",
       "    'diarrhoea',\n",
       "    'loose bowels',\n",
       "    'loose bowel',\n",
       "    'bacterial gastroenteritis',\n",
       "    'fecal incontinence',\n",
       "    'incontinence of feces'],\n",
       "   'type': 'class',\n",
       "   'xrefs': ['icd9cm:787.91', 'umls:C0011991', 'umls.aui:A0048148']}]]"
      ]
     },
     "execution_count": 24,
     "metadata": {},
     "output_type": "execute_result"
    }
   ],
   "source": [
    "query({\"target_curie\": \"symp:0000570\", \"limit\": 2, \"full\": True})"
   ]
  }
 ],
 "metadata": {
  "kernelspec": {
   "display_name": "Python 3",
   "language": "python",
   "name": "python3"
  },
  "language_info": {
   "codemirror_mode": {
    "name": "ipython",
    "version": 3
   },
   "file_extension": ".py",
   "mimetype": "text/x-python",
   "name": "python",
   "nbconvert_exporter": "python",
   "pygments_lexer": "ipython3",
   "version": "3.9.9"
  }
 },
 "nbformat": 4,
 "nbformat_minor": 5
}
